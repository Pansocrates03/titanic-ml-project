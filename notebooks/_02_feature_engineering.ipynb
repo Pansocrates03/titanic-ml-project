{
 "cells": [
  {
   "cell_type": "markdown",
   "metadata": {},
   "source": [
    "# Feature Engineering"
   ]
  },
  {
   "cell_type": "code",
   "execution_count": 19,
   "metadata": {},
   "outputs": [
    {
     "data": {
      "text/html": [
       "<div>\n",
       "<style scoped>\n",
       "    .dataframe tbody tr th:only-of-type {\n",
       "        vertical-align: middle;\n",
       "    }\n",
       "\n",
       "    .dataframe tbody tr th {\n",
       "        vertical-align: top;\n",
       "    }\n",
       "\n",
       "    .dataframe thead th {\n",
       "        text-align: right;\n",
       "    }\n",
       "</style>\n",
       "<table border=\"1\" class=\"dataframe\">\n",
       "  <thead>\n",
       "    <tr style=\"text-align: right;\">\n",
       "      <th></th>\n",
       "      <th>PassengerId</th>\n",
       "      <th>Survived</th>\n",
       "      <th>Pclass</th>\n",
       "      <th>Name</th>\n",
       "      <th>Sex</th>\n",
       "      <th>Age</th>\n",
       "      <th>SibSp</th>\n",
       "      <th>Parch</th>\n",
       "      <th>Ticket</th>\n",
       "      <th>Fare</th>\n",
       "      <th>Cabin</th>\n",
       "      <th>Embarked</th>\n",
       "    </tr>\n",
       "  </thead>\n",
       "  <tbody>\n",
       "    <tr>\n",
       "      <th>0</th>\n",
       "      <td>1</td>\n",
       "      <td>0</td>\n",
       "      <td>3</td>\n",
       "      <td>Braund, Mr. Owen Harris</td>\n",
       "      <td>male</td>\n",
       "      <td>22.0</td>\n",
       "      <td>1</td>\n",
       "      <td>0</td>\n",
       "      <td>A/5 21171</td>\n",
       "      <td>7.2500</td>\n",
       "      <td>NaN</td>\n",
       "      <td>S</td>\n",
       "    </tr>\n",
       "    <tr>\n",
       "      <th>1</th>\n",
       "      <td>2</td>\n",
       "      <td>1</td>\n",
       "      <td>1</td>\n",
       "      <td>Cumings, Mrs. John Bradley (Florence Briggs Th...</td>\n",
       "      <td>female</td>\n",
       "      <td>38.0</td>\n",
       "      <td>1</td>\n",
       "      <td>0</td>\n",
       "      <td>PC 17599</td>\n",
       "      <td>71.2833</td>\n",
       "      <td>C85</td>\n",
       "      <td>C</td>\n",
       "    </tr>\n",
       "    <tr>\n",
       "      <th>2</th>\n",
       "      <td>3</td>\n",
       "      <td>1</td>\n",
       "      <td>3</td>\n",
       "      <td>Heikkinen, Miss. Laina</td>\n",
       "      <td>female</td>\n",
       "      <td>26.0</td>\n",
       "      <td>0</td>\n",
       "      <td>0</td>\n",
       "      <td>STON/O2. 3101282</td>\n",
       "      <td>7.9250</td>\n",
       "      <td>NaN</td>\n",
       "      <td>S</td>\n",
       "    </tr>\n",
       "    <tr>\n",
       "      <th>3</th>\n",
       "      <td>4</td>\n",
       "      <td>1</td>\n",
       "      <td>1</td>\n",
       "      <td>Futrelle, Mrs. Jacques Heath (Lily May Peel)</td>\n",
       "      <td>female</td>\n",
       "      <td>35.0</td>\n",
       "      <td>1</td>\n",
       "      <td>0</td>\n",
       "      <td>113803</td>\n",
       "      <td>53.1000</td>\n",
       "      <td>C123</td>\n",
       "      <td>S</td>\n",
       "    </tr>\n",
       "    <tr>\n",
       "      <th>4</th>\n",
       "      <td>5</td>\n",
       "      <td>0</td>\n",
       "      <td>3</td>\n",
       "      <td>Allen, Mr. William Henry</td>\n",
       "      <td>male</td>\n",
       "      <td>35.0</td>\n",
       "      <td>0</td>\n",
       "      <td>0</td>\n",
       "      <td>373450</td>\n",
       "      <td>8.0500</td>\n",
       "      <td>NaN</td>\n",
       "      <td>S</td>\n",
       "    </tr>\n",
       "  </tbody>\n",
       "</table>\n",
       "</div>"
      ],
      "text/plain": [
       "   PassengerId  Survived  Pclass  \\\n",
       "0            1         0       3   \n",
       "1            2         1       1   \n",
       "2            3         1       3   \n",
       "3            4         1       1   \n",
       "4            5         0       3   \n",
       "\n",
       "                                                Name     Sex   Age  SibSp  \\\n",
       "0                            Braund, Mr. Owen Harris    male  22.0      1   \n",
       "1  Cumings, Mrs. John Bradley (Florence Briggs Th...  female  38.0      1   \n",
       "2                             Heikkinen, Miss. Laina  female  26.0      0   \n",
       "3       Futrelle, Mrs. Jacques Heath (Lily May Peel)  female  35.0      1   \n",
       "4                           Allen, Mr. William Henry    male  35.0      0   \n",
       "\n",
       "   Parch            Ticket     Fare Cabin Embarked  \n",
       "0      0         A/5 21171   7.2500   NaN        S  \n",
       "1      0          PC 17599  71.2833   C85        C  \n",
       "2      0  STON/O2. 3101282   7.9250   NaN        S  \n",
       "3      0            113803  53.1000  C123        S  \n",
       "4      0            373450   8.0500   NaN        S  "
      ]
     },
     "execution_count": 19,
     "metadata": {},
     "output_type": "execute_result"
    }
   ],
   "source": [
    "#%pip install pandas\n",
    "#%pip install numpy\n",
    "#%pip install matplotlib\n",
    "#%pip install seaborn\n",
    "\n",
    "import pandas as pd\n",
    "import numpy as np\n",
    "import matplotlib.pyplot as plt\n",
    "import seaborn as sns\n",
    "%matplotlib inline\n",
    "\n",
    "\n",
    "df = pd.read_csv(\"../data/raw/Titanic-Dataset.csv\")\n",
    "df.head()"
   ]
  },
  {
   "cell_type": "markdown",
   "metadata": {},
   "source": [
    "## Features\n",
    "Las variables creadas para la facilitación de lectura del código y mejorar el modelo generado"
   ]
  },
  {
   "cell_type": "markdown",
   "metadata": {},
   "source": [
    "### 1. VARIABLE: \"title\""
   ]
  },
  {
   "cell_type": "code",
   "execution_count": 20,
   "metadata": {},
   "outputs": [],
   "source": [
    "# --- 1. VARIABLE: Title (TITULO) ---\n",
    "\n",
    "def title_feature(df):\n",
    "    # Avoid inplace=True\n",
    "    df['Title'] = df['Name'].str.extract(r', (?:the )?([A-Za-z]+)', expand=False)\n",
    "    df['Title'] = df['Title'].replace(['Lady', 'Countess','Capt', 'Col','Don', 'Dr', 'Major', 'Rev', 'Sir', 'Jonkheer', 'Dona'], 'Rare')\n",
    "    df['Title'] = df['Title'].replace('Mlle', 'Miss')\n",
    "    #df['Title'] = df['Title'].replace('Ms', 'Miss') # Ms no es lo mismo que Miss, Ms es independiente del estado civil\n",
    "    df['Title'] = df['Title'].replace('Mme', 'Mrs')\n",
    "    # VERIFICACIÓN DE CALIDAD\n",
    "    print(\"VERIFICACIÓN DE VALORES ÚNICOS Y CONTEO para 'Title':\")\n",
    "    print(df['Title'].value_counts())\n",
    "    return df"
   ]
  },
  {
   "cell_type": "code",
   "execution_count": 21,
   "metadata": {},
   "outputs": [
    {
     "name": "stdout",
     "output_type": "stream",
     "text": [
      "VERIFICACIÓN DE VALORES ÚNICOS Y CONTEO para 'Title':\n",
      "Title\n",
      "Mr        517\n",
      "Miss      184\n",
      "Mrs       126\n",
      "Master     40\n",
      "Rare       23\n",
      "Ms          1\n",
      "Name: count, dtype: int64\n"
     ]
    }
   ],
   "source": [
    "feature_test = title_feature(df)"
   ]
  },
  {
   "cell_type": "markdown",
   "metadata": {},
   "source": [
    "### 2. VARIABLE: \"FamilySize\""
   ]
  },
  {
   "cell_type": "code",
   "execution_count": 22,
   "metadata": {},
   "outputs": [],
   "source": [
    "def family_size_feature(df):\n",
    "    df['FamilySize'] = df['SibSp'] + df['Parch'] + 1\n",
    "    # VERIFICACIÓN DE CALIDAD\n",
    "    print(\"\\nVERIFICACIÓN DE VALORES ÚNICOS Y CONTEO para 'FamilySize':\")\n",
    "    print(df['FamilySize'].value_counts().sort_index())\n",
    "    print(\"\\nVERIFICACIÓN DE LA DISTRIBUCIÓN para 'FamilySize':\")\n",
    "    print(df['FamilySize'].describe())\n",
    "    return df"
   ]
  },
  {
   "cell_type": "markdown",
   "metadata": {},
   "source": [
    "### 3. VARIABLE: \"IsAlone\"\n"
   ]
  },
  {
   "cell_type": "code",
   "execution_count": 23,
   "metadata": {},
   "outputs": [],
   "source": [
    "def is_alone_feature(df):\n",
    "    df['IsAlone'] = (df['FamilySize'] == 1).astype(int)\n",
    "    # VERIFICACIÓN DE CALIDAD\n",
    "    print(\"\\nVERIFICACIÓN DE VALORES ÚNICOS Y CONTEO para 'IsAlone':\")\n",
    "    print(df['IsAlone'].value_counts())\n",
    "    print(\"\\nVERIFICACIÓN DE LA DISTRIBUCIÓN para 'IsAlone':\")\n",
    "    print(df['IsAlone'].describe())\n",
    "    return df"
   ]
  },
  {
   "cell_type": "markdown",
   "metadata": {},
   "source": [
    "### 4. Variable: \"AgeGroup\""
   ]
  },
  {
   "cell_type": "code",
   "execution_count": 24,
   "metadata": {},
   "outputs": [],
   "source": [
    "def age_group_feature(df):\n",
    "      # Avoid inplace=True\n",
    "      df['Age'] = df['Age'].fillna(df['Age'].median())\n",
    "      bins = [0, 12, 18, 60, np.inf]\n",
    "      labels = ['Child', 'Adolescent/Teenager', 'Adult', 'Senior']\n",
    "      df['AgeGroup'] = pd.cut(df['Age'], bins=bins, labels=labels, right=False)\n",
    "      # VERIFICACIÓN DE CALIDAD\n",
    "      print(\"\\nVERIFICACIÓN DE VALORES ÚNICOS Y CONTEO para 'AgeGroup':\")\n",
    "      print(df['AgeGroup'].value_counts())\n",
    "      return df"
   ]
  },
  {
   "cell_type": "code",
   "execution_count": 25,
   "metadata": {},
   "outputs": [
    {
     "name": "stdout",
     "output_type": "stream",
     "text": [
      "\n",
      "VERIFICACIÓN DE VALORES ÚNICOS Y CONTEO para 'AgeGroup':\n",
      "AgeGroup\n",
      "Adult                  752\n",
      "Child                   68\n",
      "Adolescent/Teenager     45\n",
      "Senior                  26\n",
      "Name: count, dtype: int64\n"
     ]
    }
   ],
   "source": [
    "feature_test = age_group_feature(df)"
   ]
  },
  {
   "cell_type": "markdown",
   "metadata": {},
   "source": [
    "### 5. VARIABLE: FarePerPerson "
   ]
  },
  {
   "cell_type": "code",
   "execution_count": 26,
   "metadata": {},
   "outputs": [],
   "source": [
    "def fare_per_person_feature(df):\n",
    "    df['FarePerPerson'] = df['Fare'] / df['FamilySize']\n",
    "    # Avoid inplace=True\n",
    "    df['FarePerPerson'] = df['FarePerPerson'].fillna(df['FarePerPerson'].mean()) # Manejo de Nulos\n",
    "    # VERIFICACIÓN DE CALIDAD\n",
    "    print(\"\\nVERIFICACIÓN DE LA DISTRIBUCIÓN para 'FarePerPerson':\")\n",
    "    print(df['FarePerPerson'].describe())\n",
    "    return df"
   ]
  },
  {
   "cell_type": "markdown",
   "metadata": {},
   "source": [
    "### 6. VARIABLE: CabinDeck (CUBIERTA DE LA CABINA) "
   ]
  },
  {
   "cell_type": "code",
   "execution_count": 27,
   "metadata": {},
   "outputs": [],
   "source": [
    "def cabin_deck_feature(df):\n",
    "    df['CabinDeck'] = df['Cabin'].str.extract('([A-Z])', expand=False)\n",
    "    # Avoid inplace=True\n",
    "    df['CabinDeck'] = df['CabinDeck'].fillna('Unknown')\n",
    "    # VERIFICACIÓN DE CALIDAD\n",
    "    print(\"\\nVERIFICACIÓN DE VALORES ÚNICOS Y CONTEO para 'CabinDeck':\")\n",
    "    print(df['CabinDeck'].value_counts())\n",
    "    return df"
   ]
  },
  {
   "cell_type": "code",
   "execution_count": 28,
   "metadata": {},
   "outputs": [
    {
     "name": "stdout",
     "output_type": "stream",
     "text": [
      "\n",
      "VERIFICACIÓN DE VALORES ÚNICOS Y CONTEO para 'CabinDeck':\n",
      "CabinDeck\n",
      "Unknown    687\n",
      "C           59\n",
      "B           47\n",
      "D           33\n",
      "E           32\n",
      "A           15\n",
      "F           13\n",
      "G            4\n",
      "T            1\n",
      "Name: count, dtype: int64\n"
     ]
    }
   ],
   "source": [
    "feature_test = cabin_deck_feature(df)"
   ]
  },
  {
   "cell_type": "markdown",
   "metadata": {},
   "source": [
    "### 7. VARIABLE: CabinKnown (CABINA CONOCIDA)"
   ]
  },
  {
   "cell_type": "code",
   "execution_count": 29,
   "metadata": {},
   "outputs": [],
   "source": [
    "def cabin_known_feature(df):\n",
    "  df['CabinKnown'] = df['Cabin'].notnull().astype(int)\n",
    "  # VERIFICACIÓN DE CALIDAD\n",
    "  print(\"\\nVERIFICACIÓN DE VALORES ÚNICOS Y CONTEO para 'CabinKnown':\")\n",
    "  print(df['CabinKnown'].value_counts())\n",
    "  print(\"\\nVERIFICACIÓN DE LA DISTRIBUCIÓN para 'CabinKnown':\")\n",
    "  print(df['CabinKnown'].describe())\n",
    "  return df"
   ]
  },
  {
   "cell_type": "code",
   "execution_count": 30,
   "metadata": {},
   "outputs": [
    {
     "name": "stdout",
     "output_type": "stream",
     "text": [
      "\n",
      "VERIFICACIÓN DE VALORES ÚNICOS Y CONTEO para 'CabinKnown':\n",
      "CabinKnown\n",
      "0    687\n",
      "1    204\n",
      "Name: count, dtype: int64\n",
      "\n",
      "VERIFICACIÓN DE LA DISTRIBUCIÓN para 'CabinKnown':\n",
      "count    891.000000\n",
      "mean       0.228956\n",
      "std        0.420397\n",
      "min        0.000000\n",
      "25%        0.000000\n",
      "50%        0.000000\n",
      "75%        0.000000\n",
      "max        1.000000\n",
      "Name: CabinKnown, dtype: float64\n"
     ]
    }
   ],
   "source": [
    "feature_test = cabin_known_feature(df)"
   ]
  },
  {
   "cell_type": "markdown",
   "metadata": {},
   "source": [
    "### 8. VARIABLE: TicketFrequency"
   ]
  },
  {
   "cell_type": "code",
   "execution_count": 31,
   "metadata": {},
   "outputs": [],
   "source": [
    "def ticket_frequency_feature(df):\n",
    "  df['TicketFrequency'] = df.groupby('Ticket')['Ticket'].transform('count')\n",
    "  # VERIFICACIÓN DE CALIDAD\n",
    "  print(\"\\nVERIFICACIÓN DE VALORES ÚNICOS Y CONTEO para 'TicketFrequency':\")\n",
    "  print(df['TicketFrequency'].value_counts().sort_index())\n",
    "  print(\"\\nVERIFICACIÓN DE LA DISTRIBUCIÓN para 'TicketFrequency':\")\n",
    "  print(df['TicketFrequency'].describe())\n",
    "  return df"
   ]
  },
  {
   "cell_type": "markdown",
   "metadata": {},
   "source": [
    "### 9. VARIABLE: Namelength"
   ]
  },
  {
   "cell_type": "code",
   "execution_count": 32,
   "metadata": {},
   "outputs": [],
   "source": [
    "def name_length_feature(df):\n",
    "  df['NameLength'] = df['Name'].str.len()\n",
    "  # VERIFICACIÓN DE CALIDAD\n",
    "  print(\"\\nVERIFICACIÓN DE VALORES ÚNICOS Y CONTEO para 'NameLength':\")\n",
    "  print(df['NameLength'].value_counts().sort_index())\n",
    "  print(\"\\nVERIFICACIÓN DE LA DISTRIBUCIÓN para 'NameLength':\")\n",
    "  print(df['NameLength'].describe())\n",
    "  return df"
   ]
  },
  {
   "cell_type": "markdown",
   "metadata": {},
   "source": [
    "### 10. VARIABLE: LastName (Usada para HasCabinNeighbor)\n",
    "Solo es necesario tomar el texto hasta la primera coma, pues ya esta separado en el dataset el appellido del resto del nombre y el título"
   ]
  },
  {
   "cell_type": "code",
   "execution_count": 33,
   "metadata": {},
   "outputs": [],
   "source": [
    "def last_name_feature(df):\n",
    "    df['LastName'] = df['Name'].str.split(',').str[0]\n",
    "    return df"
   ]
  },
  {
   "cell_type": "markdown",
   "metadata": {},
   "source": [
    "### 11. VARIABLE: HasCabinNeighbor (CABINAS CERCANAS CON FAMILIARES )\n",
    "Esta transformación requiere de varias variables, pero "
   ]
  },
  {
   "cell_type": "code",
   "execution_count": 34,
   "metadata": {},
   "outputs": [],
   "source": [
    "def has_cabin_neighbor_feature(df):\n",
    "    if 'LastName' not in df.columns:\n",
    "        df = last_name_feature(df)\n",
    "    if 'CabinDeck' not in df.columns:\n",
    "        df = cabin_deck_feature(df)\n",
    "    if 'FamilySize' not in df.columns:\n",
    "        df = family_size_feature(df)\n",
    "\n",
    "    # Agrupar familias\n",
    "    # Asumimos que pasajeros que comparten cubierta, tamaño de familia, y apellido tienen que ser familia.\n",
    "    group_counts = (\n",
    "        df.groupby(['LastName', 'FamilySize', 'CabinDeck'])['PassengerId'].transform('count') - 1\n",
    "    )\n",
    "\n",
    "    # Solo vamos a guardar si estan o no en la misma cubierta\n",
    "    # de otra forma solo obtienes la suma de todas las personas multiplicado por los familiares en la misma cubierta.\n",
    "    df['HasFamilyOnSameDeck'] = (group_counts > 1).astype(int)\n",
    "\n",
    "    # Verificación de calidad\n",
    "    print(\"\\nVERIFICACIÓN DE VALORES ÚNICOS Y CONTEO para 'HasFamilyOnSameDeck':\")\n",
    "    print(df['HasFamilyOnSameDeck'].value_counts())\n",
    "    return df"
   ]
  },
  {
   "cell_type": "code",
   "execution_count": 35,
   "metadata": {},
   "outputs": [
    {
     "name": "stdout",
     "output_type": "stream",
     "text": [
      "\n",
      "VERIFICACIÓN DE VALORES ÚNICOS Y CONTEO para 'FamilySize':\n",
      "FamilySize\n",
      "1     537\n",
      "2     161\n",
      "3     102\n",
      "4      29\n",
      "5      15\n",
      "6      22\n",
      "7      12\n",
      "8       6\n",
      "11      7\n",
      "Name: count, dtype: int64\n",
      "\n",
      "VERIFICACIÓN DE LA DISTRIBUCIÓN para 'FamilySize':\n",
      "count    891.000000\n",
      "mean       1.904602\n",
      "std        1.613459\n",
      "min        1.000000\n",
      "25%        1.000000\n",
      "50%        1.000000\n",
      "75%        2.000000\n",
      "max       11.000000\n",
      "Name: FamilySize, dtype: float64\n",
      "\n",
      "VERIFICACIÓN DE VALORES ÚNICOS Y CONTEO para 'HasFamilyOnSameDeck':\n",
      "HasFamilyOnSameDeck\n",
      "0    773\n",
      "1    118\n",
      "Name: count, dtype: int64\n"
     ]
    }
   ],
   "source": [
    "feature_test = has_cabin_neighbor_feature(df)"
   ]
  },
  {
   "cell_type": "markdown",
   "metadata": {},
   "source": [
    "### 12. VARIABLE: TicketPrefix (PREFIJO DEL TCIKET )"
   ]
  },
  {
   "cell_type": "code",
   "execution_count": 36,
   "metadata": {},
   "outputs": [],
   "source": [
    "def ticket_prefix_feature(df):\n",
    "    df['TicketPrefix'] = df['Ticket'].str.extract(r'([A-Za-z]+)\\d*')\n",
    "    # Avoid inplace=True\n",
    "    df['TicketPrefix'] = df['TicketPrefix'].fillna('Unknown')\n",
    "    # VERIFICACIÓN DE CALIDAD\n",
    "    print(\"\\nVERIFICACIÓN DE VALORES ÚNICOS Y CONTEO para 'TicketPrefix':\")\n",
    "    print(df['TicketPrefix'].value_counts())\n",
    "    return df"
   ]
  }
 ],
 "metadata": {
  "colab": {
   "provenance": [],
   "toc_visible": true
  },
  "kernelspec": {
   "display_name": ".venv (3.12.0)",
   "language": "python",
   "name": "python3"
  },
  "language_info": {
   "codemirror_mode": {
    "name": "ipython",
    "version": 3
   },
   "file_extension": ".py",
   "mimetype": "text/x-python",
   "name": "python",
   "nbconvert_exporter": "python",
   "pygments_lexer": "ipython3",
   "version": "3.12.0"
  }
 },
 "nbformat": 4,
 "nbformat_minor": 4
}
