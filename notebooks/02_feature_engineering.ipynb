{
  "nbformat": 4,
  "nbformat_minor": 0,
  "metadata": {
    "colab": {
      "provenance": [],
      "toc_visible": true
    },
    "kernelspec": {
      "name": "python3",
      "display_name": "Python 3"
    },
    "language_info": {
      "name": "python"
    }
  },
  "cells": [
    {
      "cell_type": "code",
      "execution_count": null,
      "metadata": {
        "id": "2Sq7w_JO-q-L"
      },
      "outputs": [],
      "source": [
        "import pandas as pd\n",
        "import numpy as np\n",
        "import matplotlib.pyplot as plt\n",
        "import seaborn as sns\n",
        "import scipy.stats as stats\n",
        "%matplotlib inline"
      ]
    },
    {
      "cell_type": "code",
      "source": [
        "df = pd.read_csv(\"Titanic-Dataset.csv\")\n",
        "df.head()"
      ],
      "metadata": {
        "colab": {
          "base_uri": "https://localhost:8080/",
          "height": 206
        },
        "id": "h1UBwdj5_SCb",
        "outputId": "2451257c-6277-401e-ad2c-a43b45ed1f28"
      },
      "execution_count": null,
      "outputs": [
        {
          "output_type": "execute_result",
          "data": {
            "text/plain": [
              "   PassengerId  Survived  Pclass  \\\n",
              "0            1         0       3   \n",
              "1            2         1       1   \n",
              "2            3         1       3   \n",
              "3            4         1       1   \n",
              "4            5         0       3   \n",
              "\n",
              "                                                Name     Sex   Age  SibSp  \\\n",
              "0                            Braund, Mr. Owen Harris    male  22.0      1   \n",
              "1  Cumings, Mrs. John Bradley (Florence Briggs Th...  female  38.0      1   \n",
              "2                             Heikkinen, Miss. Laina  female  26.0      0   \n",
              "3       Futrelle, Mrs. Jacques Heath (Lily May Peel)  female  35.0      1   \n",
              "4                           Allen, Mr. William Henry    male  35.0      0   \n",
              "\n",
              "   Parch            Ticket     Fare Cabin Embarked  \n",
              "0      0         A/5 21171   7.2500   NaN        S  \n",
              "1      0          PC 17599  71.2833   C85        C  \n",
              "2      0  STON/O2. 3101282   7.9250   NaN        S  \n",
              "3      0            113803  53.1000  C123        S  \n",
              "4      0            373450   8.0500   NaN        S  "
            ],
            "text/html": [
              "\n",
              "  <div id=\"df-26e10762-e449-4801-a847-325c00a29291\" class=\"colab-df-container\">\n",
              "    <div>\n",
              "<style scoped>\n",
              "    .dataframe tbody tr th:only-of-type {\n",
              "        vertical-align: middle;\n",
              "    }\n",
              "\n",
              "    .dataframe tbody tr th {\n",
              "        vertical-align: top;\n",
              "    }\n",
              "\n",
              "    .dataframe thead th {\n",
              "        text-align: right;\n",
              "    }\n",
              "</style>\n",
              "<table border=\"1\" class=\"dataframe\">\n",
              "  <thead>\n",
              "    <tr style=\"text-align: right;\">\n",
              "      <th></th>\n",
              "      <th>PassengerId</th>\n",
              "      <th>Survived</th>\n",
              "      <th>Pclass</th>\n",
              "      <th>Name</th>\n",
              "      <th>Sex</th>\n",
              "      <th>Age</th>\n",
              "      <th>SibSp</th>\n",
              "      <th>Parch</th>\n",
              "      <th>Ticket</th>\n",
              "      <th>Fare</th>\n",
              "      <th>Cabin</th>\n",
              "      <th>Embarked</th>\n",
              "    </tr>\n",
              "  </thead>\n",
              "  <tbody>\n",
              "    <tr>\n",
              "      <th>0</th>\n",
              "      <td>1</td>\n",
              "      <td>0</td>\n",
              "      <td>3</td>\n",
              "      <td>Braund, Mr. Owen Harris</td>\n",
              "      <td>male</td>\n",
              "      <td>22.0</td>\n",
              "      <td>1</td>\n",
              "      <td>0</td>\n",
              "      <td>A/5 21171</td>\n",
              "      <td>7.2500</td>\n",
              "      <td>NaN</td>\n",
              "      <td>S</td>\n",
              "    </tr>\n",
              "    <tr>\n",
              "      <th>1</th>\n",
              "      <td>2</td>\n",
              "      <td>1</td>\n",
              "      <td>1</td>\n",
              "      <td>Cumings, Mrs. John Bradley (Florence Briggs Th...</td>\n",
              "      <td>female</td>\n",
              "      <td>38.0</td>\n",
              "      <td>1</td>\n",
              "      <td>0</td>\n",
              "      <td>PC 17599</td>\n",
              "      <td>71.2833</td>\n",
              "      <td>C85</td>\n",
              "      <td>C</td>\n",
              "    </tr>\n",
              "    <tr>\n",
              "      <th>2</th>\n",
              "      <td>3</td>\n",
              "      <td>1</td>\n",
              "      <td>3</td>\n",
              "      <td>Heikkinen, Miss. Laina</td>\n",
              "      <td>female</td>\n",
              "      <td>26.0</td>\n",
              "      <td>0</td>\n",
              "      <td>0</td>\n",
              "      <td>STON/O2. 3101282</td>\n",
              "      <td>7.9250</td>\n",
              "      <td>NaN</td>\n",
              "      <td>S</td>\n",
              "    </tr>\n",
              "    <tr>\n",
              "      <th>3</th>\n",
              "      <td>4</td>\n",
              "      <td>1</td>\n",
              "      <td>1</td>\n",
              "      <td>Futrelle, Mrs. Jacques Heath (Lily May Peel)</td>\n",
              "      <td>female</td>\n",
              "      <td>35.0</td>\n",
              "      <td>1</td>\n",
              "      <td>0</td>\n",
              "      <td>113803</td>\n",
              "      <td>53.1000</td>\n",
              "      <td>C123</td>\n",
              "      <td>S</td>\n",
              "    </tr>\n",
              "    <tr>\n",
              "      <th>4</th>\n",
              "      <td>5</td>\n",
              "      <td>0</td>\n",
              "      <td>3</td>\n",
              "      <td>Allen, Mr. William Henry</td>\n",
              "      <td>male</td>\n",
              "      <td>35.0</td>\n",
              "      <td>0</td>\n",
              "      <td>0</td>\n",
              "      <td>373450</td>\n",
              "      <td>8.0500</td>\n",
              "      <td>NaN</td>\n",
              "      <td>S</td>\n",
              "    </tr>\n",
              "  </tbody>\n",
              "</table>\n",
              "</div>\n",
              "    <div class=\"colab-df-buttons\">\n",
              "\n",
              "  <div class=\"colab-df-container\">\n",
              "    <button class=\"colab-df-convert\" onclick=\"convertToInteractive('df-26e10762-e449-4801-a847-325c00a29291')\"\n",
              "            title=\"Convert this dataframe to an interactive table.\"\n",
              "            style=\"display:none;\">\n",
              "\n",
              "  <svg xmlns=\"http://www.w3.org/2000/svg\" height=\"24px\" viewBox=\"0 -960 960 960\">\n",
              "    <path d=\"M120-120v-720h720v720H120Zm60-500h600v-160H180v160Zm220 220h160v-160H400v160Zm0 220h160v-160H400v160ZM180-400h160v-160H180v160Zm440 0h160v-160H620v160ZM180-180h160v-160H180v160Zm440 0h160v-160H620v160Z\"/>\n",
              "  </svg>\n",
              "    </button>\n",
              "\n",
              "  <style>\n",
              "    .colab-df-container {\n",
              "      display:flex;\n",
              "      gap: 12px;\n",
              "    }\n",
              "\n",
              "    .colab-df-convert {\n",
              "      background-color: #E8F0FE;\n",
              "      border: none;\n",
              "      border-radius: 50%;\n",
              "      cursor: pointer;\n",
              "      display: none;\n",
              "      fill: #1967D2;\n",
              "      height: 32px;\n",
              "      padding: 0 0 0 0;\n",
              "      width: 32px;\n",
              "    }\n",
              "\n",
              "    .colab-df-convert:hover {\n",
              "      background-color: #E2EBFA;\n",
              "      box-shadow: 0px 1px 2px rgba(60, 64, 67, 0.3), 0px 1px 3px 1px rgba(60, 64, 67, 0.15);\n",
              "      fill: #174EA6;\n",
              "    }\n",
              "\n",
              "    .colab-df-buttons div {\n",
              "      margin-bottom: 4px;\n",
              "    }\n",
              "\n",
              "    [theme=dark] .colab-df-convert {\n",
              "      background-color: #3B4455;\n",
              "      fill: #D2E3FC;\n",
              "    }\n",
              "\n",
              "    [theme=dark] .colab-df-convert:hover {\n",
              "      background-color: #434B5C;\n",
              "      box-shadow: 0px 1px 3px 1px rgba(0, 0, 0, 0.15);\n",
              "      filter: drop-shadow(0px 1px 2px rgba(0, 0, 0, 0.3));\n",
              "      fill: #FFFFFF;\n",
              "    }\n",
              "  </style>\n",
              "\n",
              "    <script>\n",
              "      const buttonEl =\n",
              "        document.querySelector('#df-26e10762-e449-4801-a847-325c00a29291 button.colab-df-convert');\n",
              "      buttonEl.style.display =\n",
              "        google.colab.kernel.accessAllowed ? 'block' : 'none';\n",
              "\n",
              "      async function convertToInteractive(key) {\n",
              "        const element = document.querySelector('#df-26e10762-e449-4801-a847-325c00a29291');\n",
              "        const dataTable =\n",
              "          await google.colab.kernel.invokeFunction('convertToInteractive',\n",
              "                                                    [key], {});\n",
              "        if (!dataTable) return;\n",
              "\n",
              "        const docLinkHtml = 'Like what you see? Visit the ' +\n",
              "          '<a target=\"_blank\" href=https://colab.research.google.com/notebooks/data_table.ipynb>data table notebook</a>'\n",
              "          + ' to learn more about interactive tables.';\n",
              "        element.innerHTML = '';\n",
              "        dataTable['output_type'] = 'display_data';\n",
              "        await google.colab.output.renderOutput(dataTable, element);\n",
              "        const docLink = document.createElement('div');\n",
              "        docLink.innerHTML = docLinkHtml;\n",
              "        element.appendChild(docLink);\n",
              "      }\n",
              "    </script>\n",
              "  </div>\n",
              "\n",
              "\n",
              "    <div id=\"df-03515011-4104-4c9f-b26e-87528be6f9bb\">\n",
              "      <button class=\"colab-df-quickchart\" onclick=\"quickchart('df-03515011-4104-4c9f-b26e-87528be6f9bb')\"\n",
              "                title=\"Suggest charts\"\n",
              "                style=\"display:none;\">\n",
              "\n",
              "<svg xmlns=\"http://www.w3.org/2000/svg\" height=\"24px\"viewBox=\"0 0 24 24\"\n",
              "     width=\"24px\">\n",
              "    <g>\n",
              "        <path d=\"M19 3H5c-1.1 0-2 .9-2 2v14c0 1.1.9 2 2 2h14c1.1 0 2-.9 2-2V5c0-1.1-.9-2-2-2zM9 17H7v-7h2v7zm4 0h-2V7h2v10zm4 0h-2v-4h2v4z\"/>\n",
              "    </g>\n",
              "</svg>\n",
              "      </button>\n",
              "\n",
              "<style>\n",
              "  .colab-df-quickchart {\n",
              "      --bg-color: #E8F0FE;\n",
              "      --fill-color: #1967D2;\n",
              "      --hover-bg-color: #E2EBFA;\n",
              "      --hover-fill-color: #174EA6;\n",
              "      --disabled-fill-color: #AAA;\n",
              "      --disabled-bg-color: #DDD;\n",
              "  }\n",
              "\n",
              "  [theme=dark] .colab-df-quickchart {\n",
              "      --bg-color: #3B4455;\n",
              "      --fill-color: #D2E3FC;\n",
              "      --hover-bg-color: #434B5C;\n",
              "      --hover-fill-color: #FFFFFF;\n",
              "      --disabled-bg-color: #3B4455;\n",
              "      --disabled-fill-color: #666;\n",
              "  }\n",
              "\n",
              "  .colab-df-quickchart {\n",
              "    background-color: var(--bg-color);\n",
              "    border: none;\n",
              "    border-radius: 50%;\n",
              "    cursor: pointer;\n",
              "    display: none;\n",
              "    fill: var(--fill-color);\n",
              "    height: 32px;\n",
              "    padding: 0;\n",
              "    width: 32px;\n",
              "  }\n",
              "\n",
              "  .colab-df-quickchart:hover {\n",
              "    background-color: var(--hover-bg-color);\n",
              "    box-shadow: 0 1px 2px rgba(60, 64, 67, 0.3), 0 1px 3px 1px rgba(60, 64, 67, 0.15);\n",
              "    fill: var(--button-hover-fill-color);\n",
              "  }\n",
              "\n",
              "  .colab-df-quickchart-complete:disabled,\n",
              "  .colab-df-quickchart-complete:disabled:hover {\n",
              "    background-color: var(--disabled-bg-color);\n",
              "    fill: var(--disabled-fill-color);\n",
              "    box-shadow: none;\n",
              "  }\n",
              "\n",
              "  .colab-df-spinner {\n",
              "    border: 2px solid var(--fill-color);\n",
              "    border-color: transparent;\n",
              "    border-bottom-color: var(--fill-color);\n",
              "    animation:\n",
              "      spin 1s steps(1) infinite;\n",
              "  }\n",
              "\n",
              "  @keyframes spin {\n",
              "    0% {\n",
              "      border-color: transparent;\n",
              "      border-bottom-color: var(--fill-color);\n",
              "      border-left-color: var(--fill-color);\n",
              "    }\n",
              "    20% {\n",
              "      border-color: transparent;\n",
              "      border-left-color: var(--fill-color);\n",
              "      border-top-color: var(--fill-color);\n",
              "    }\n",
              "    30% {\n",
              "      border-color: transparent;\n",
              "      border-left-color: var(--fill-color);\n",
              "      border-top-color: var(--fill-color);\n",
              "      border-right-color: var(--fill-color);\n",
              "    }\n",
              "    40% {\n",
              "      border-color: transparent;\n",
              "      border-right-color: var(--fill-color);\n",
              "      border-top-color: var(--fill-color);\n",
              "    }\n",
              "    60% {\n",
              "      border-color: transparent;\n",
              "      border-right-color: var(--fill-color);\n",
              "    }\n",
              "    80% {\n",
              "      border-color: transparent;\n",
              "      border-right-color: var(--fill-color);\n",
              "      border-bottom-color: var(--fill-color);\n",
              "    }\n",
              "    90% {\n",
              "      border-color: transparent;\n",
              "      border-bottom-color: var(--fill-color);\n",
              "    }\n",
              "  }\n",
              "</style>\n",
              "\n",
              "      <script>\n",
              "        async function quickchart(key) {\n",
              "          const quickchartButtonEl =\n",
              "            document.querySelector('#' + key + ' button');\n",
              "          quickchartButtonEl.disabled = true;  // To prevent multiple clicks.\n",
              "          quickchartButtonEl.classList.add('colab-df-spinner');\n",
              "          try {\n",
              "            const charts = await google.colab.kernel.invokeFunction(\n",
              "                'suggestCharts', [key], {});\n",
              "          } catch (error) {\n",
              "            console.error('Error during call to suggestCharts:', error);\n",
              "          }\n",
              "          quickchartButtonEl.classList.remove('colab-df-spinner');\n",
              "          quickchartButtonEl.classList.add('colab-df-quickchart-complete');\n",
              "        }\n",
              "        (() => {\n",
              "          let quickchartButtonEl =\n",
              "            document.querySelector('#df-03515011-4104-4c9f-b26e-87528be6f9bb button');\n",
              "          quickchartButtonEl.style.display =\n",
              "            google.colab.kernel.accessAllowed ? 'block' : 'none';\n",
              "        })();\n",
              "      </script>\n",
              "    </div>\n",
              "\n",
              "    </div>\n",
              "  </div>\n"
            ],
            "application/vnd.google.colaboratory.intrinsic+json": {
              "type": "dataframe",
              "variable_name": "df",
              "summary": "{\n  \"name\": \"df\",\n  \"rows\": 891,\n  \"fields\": [\n    {\n      \"column\": \"PassengerId\",\n      \"properties\": {\n        \"dtype\": \"number\",\n        \"std\": 257,\n        \"min\": 1,\n        \"max\": 891,\n        \"num_unique_values\": 891,\n        \"samples\": [\n          710,\n          440,\n          841\n        ],\n        \"semantic_type\": \"\",\n        \"description\": \"\"\n      }\n    },\n    {\n      \"column\": \"Survived\",\n      \"properties\": {\n        \"dtype\": \"number\",\n        \"std\": 0,\n        \"min\": 0,\n        \"max\": 1,\n        \"num_unique_values\": 2,\n        \"samples\": [\n          1,\n          0\n        ],\n        \"semantic_type\": \"\",\n        \"description\": \"\"\n      }\n    },\n    {\n      \"column\": \"Pclass\",\n      \"properties\": {\n        \"dtype\": \"number\",\n        \"std\": 0,\n        \"min\": 1,\n        \"max\": 3,\n        \"num_unique_values\": 3,\n        \"samples\": [\n          3,\n          1\n        ],\n        \"semantic_type\": \"\",\n        \"description\": \"\"\n      }\n    },\n    {\n      \"column\": \"Name\",\n      \"properties\": {\n        \"dtype\": \"string\",\n        \"num_unique_values\": 891,\n        \"samples\": [\n          \"Moubarek, Master. Halim Gonios (\\\"William George\\\")\",\n          \"Kvillner, Mr. Johan Henrik Johannesson\"\n        ],\n        \"semantic_type\": \"\",\n        \"description\": \"\"\n      }\n    },\n    {\n      \"column\": \"Sex\",\n      \"properties\": {\n        \"dtype\": \"category\",\n        \"num_unique_values\": 2,\n        \"samples\": [\n          \"female\",\n          \"male\"\n        ],\n        \"semantic_type\": \"\",\n        \"description\": \"\"\n      }\n    },\n    {\n      \"column\": \"Age\",\n      \"properties\": {\n        \"dtype\": \"number\",\n        \"std\": 14.526497332334044,\n        \"min\": 0.42,\n        \"max\": 80.0,\n        \"num_unique_values\": 88,\n        \"samples\": [\n          0.75,\n          22.0\n        ],\n        \"semantic_type\": \"\",\n        \"description\": \"\"\n      }\n    },\n    {\n      \"column\": \"SibSp\",\n      \"properties\": {\n        \"dtype\": \"number\",\n        \"std\": 1,\n        \"min\": 0,\n        \"max\": 8,\n        \"num_unique_values\": 7,\n        \"samples\": [\n          1,\n          0\n        ],\n        \"semantic_type\": \"\",\n        \"description\": \"\"\n      }\n    },\n    {\n      \"column\": \"Parch\",\n      \"properties\": {\n        \"dtype\": \"number\",\n        \"std\": 0,\n        \"min\": 0,\n        \"max\": 6,\n        \"num_unique_values\": 7,\n        \"samples\": [\n          0,\n          1\n        ],\n        \"semantic_type\": \"\",\n        \"description\": \"\"\n      }\n    },\n    {\n      \"column\": \"Ticket\",\n      \"properties\": {\n        \"dtype\": \"string\",\n        \"num_unique_values\": 681,\n        \"samples\": [\n          \"11774\",\n          \"248740\"\n        ],\n        \"semantic_type\": \"\",\n        \"description\": \"\"\n      }\n    },\n    {\n      \"column\": \"Fare\",\n      \"properties\": {\n        \"dtype\": \"number\",\n        \"std\": 49.693428597180905,\n        \"min\": 0.0,\n        \"max\": 512.3292,\n        \"num_unique_values\": 248,\n        \"samples\": [\n          11.2417,\n          51.8625\n        ],\n        \"semantic_type\": \"\",\n        \"description\": \"\"\n      }\n    },\n    {\n      \"column\": \"Cabin\",\n      \"properties\": {\n        \"dtype\": \"category\",\n        \"num_unique_values\": 147,\n        \"samples\": [\n          \"D45\",\n          \"B49\"\n        ],\n        \"semantic_type\": \"\",\n        \"description\": \"\"\n      }\n    },\n    {\n      \"column\": \"Embarked\",\n      \"properties\": {\n        \"dtype\": \"category\",\n        \"num_unique_values\": 3,\n        \"samples\": [\n          \"S\",\n          \"C\"\n        ],\n        \"semantic_type\": \"\",\n        \"description\": \"\"\n      }\n    }\n  ]\n}"
            }
          },
          "metadata": {},
          "execution_count": 129
        }
      ]
    },
    {
      "cell_type": "code",
      "source": [
        "df.info()"
      ],
      "metadata": {
        "colab": {
          "base_uri": "https://localhost:8080/"
        },
        "id": "MCtuDyMSnsAX",
        "outputId": "055653aa-66b5-4abe-b68a-85417bb275d3"
      },
      "execution_count": null,
      "outputs": [
        {
          "output_type": "stream",
          "name": "stdout",
          "text": [
            "<class 'pandas.core.frame.DataFrame'>\n",
            "RangeIndex: 891 entries, 0 to 890\n",
            "Data columns (total 12 columns):\n",
            " #   Column       Non-Null Count  Dtype  \n",
            "---  ------       --------------  -----  \n",
            " 0   PassengerId  891 non-null    int64  \n",
            " 1   Survived     891 non-null    int64  \n",
            " 2   Pclass       891 non-null    int64  \n",
            " 3   Name         891 non-null    object \n",
            " 4   Sex          891 non-null    object \n",
            " 5   Age          714 non-null    float64\n",
            " 6   SibSp        891 non-null    int64  \n",
            " 7   Parch        891 non-null    int64  \n",
            " 8   Ticket       891 non-null    object \n",
            " 9   Fare         891 non-null    float64\n",
            " 10  Cabin        204 non-null    object \n",
            " 11  Embarked     889 non-null    object \n",
            "dtypes: float64(2), int64(5), object(5)\n",
            "memory usage: 83.7+ KB\n"
          ]
        }
      ]
    },
    {
      "cell_type": "markdown",
      "source": [
        "Modificación del dataset para facilitar su lectura"
      ],
      "metadata": {
        "id": "8FNg2Nvy3Fp9"
      }
    },
    {
      "cell_type": "code",
      "source": [
        "# Estadísticas para revisar posibles combinaciones de factores que juegan un papel clave para los datos\n",
        "\n",
        "df['TamañoFamilia'] = df['SibSp'] + df['Parch'] + 1  # Tamaño de la familia dentro del barco\n",
        "df[\"OrigenClase3\"] = (df['Pclass'] == 3).astype(int) # Creación de variable binaria para una mejor interpretación\n",
        "df[\"OrigenEmbarked_Southampton\"] = (df['Embarked'] == 'S').astype(int)"
      ],
      "metadata": {
        "id": "v9Ab9ueD_9Jq"
      },
      "execution_count": null,
      "outputs": []
    },
    {
      "cell_type": "code",
      "source": [
        "subgrupo1 = (df[\"OrigenClase3\"] == 1) & (df[\"OrigenEmbarked_Southampton\"] == 1) # Creación del subgrupo que respeta las combinanciones anteriores\n",
        "df['Categorias_Familia'] = pd.cut(df['TamañoFamilia'], bins=[0,1,3,6,100], labels=['1','2-3','4-6','7+']) # Categorías de familia con etiquetas\n",
        "print(\"Total de Pasajeros de Tercera & Southampton por Familia :\", df[subgrupo1].shape[0])\n",
        "print(\"Distribución (Tercera Clase & Southampton por Tamaño de Familia):\")\n",
        "print(df[subgrupo1]['Categorias_Familia'].value_counts(dropna=False))"
      ],
      "metadata": {
        "colab": {
          "base_uri": "https://localhost:8080/"
        },
        "id": "mhlX994DCDXs",
        "outputId": "05df694f-1c51-4122-dcd1-280624e5f20e"
      },
      "execution_count": null,
      "outputs": [
        {
          "output_type": "stream",
          "name": "stdout",
          "text": [
            "Total de Pasajeros de Tercera & Southampton por Familia : 353\n",
            "Distribución (Tercera Clase & Southampton por Tamaño de Familia):\n",
            "Categorias_Familia\n",
            "1      232\n",
            "2-3     67\n",
            "4-6     29\n",
            "7+      25\n",
            "Name: count, dtype: int64\n"
          ]
        }
      ]
    },
    {
      "cell_type": "markdown",
      "source": [
        "## Hipótesis 1: Los pasajeros con hijos menores de edad tuvieron mayor probabilidad de supervivencia que los pasajeros sin hijos menores de edad.\n"
      ],
      "metadata": {
        "id": "ZNJj5HPD2Vmx"
      }
    },
    {
      "cell_type": "code",
      "source": [
        "df[subgrupo1].groupby('Categorias_Familia')['Survived'].agg(['count','mean']).rename(columns={'mean':'Supervivencia'})\n"
      ],
      "metadata": {
        "colab": {
          "base_uri": "https://localhost:8080/",
          "height": 261
        },
        "id": "1fMzOCFMCEwj",
        "outputId": "659659ba-acff-4c8f-97fd-e8d61c322ce8"
      },
      "execution_count": null,
      "outputs": [
        {
          "output_type": "stream",
          "name": "stderr",
          "text": [
            "/tmp/ipython-input-2412730589.py:1: FutureWarning: The default of observed=False is deprecated and will be changed to True in a future version of pandas. Pass observed=False to retain current behavior or observed=True to adopt the future default and silence this warning.\n",
            "  df[subgrupo1].groupby('Categorias_Familia')['Survived'].agg(['count','mean']).rename(columns={'mean':'Supervivencia'})\n"
          ]
        },
        {
          "output_type": "execute_result",
          "data": {
            "text/plain": [
              "                    count  Supervivencia\n",
              "Categorias_Familia                      \n",
              "1                     232       0.168103\n",
              "2-3                    67       0.328358\n",
              "4-6                    29       0.068966\n",
              "7+                     25       0.160000"
            ],
            "text/html": [
              "\n",
              "  <div id=\"df-9f83983a-0bb2-4812-a0b4-b7612009eb26\" class=\"colab-df-container\">\n",
              "    <div>\n",
              "<style scoped>\n",
              "    .dataframe tbody tr th:only-of-type {\n",
              "        vertical-align: middle;\n",
              "    }\n",
              "\n",
              "    .dataframe tbody tr th {\n",
              "        vertical-align: top;\n",
              "    }\n",
              "\n",
              "    .dataframe thead th {\n",
              "        text-align: right;\n",
              "    }\n",
              "</style>\n",
              "<table border=\"1\" class=\"dataframe\">\n",
              "  <thead>\n",
              "    <tr style=\"text-align: right;\">\n",
              "      <th></th>\n",
              "      <th>count</th>\n",
              "      <th>Supervivencia</th>\n",
              "    </tr>\n",
              "    <tr>\n",
              "      <th>Categorias_Familia</th>\n",
              "      <th></th>\n",
              "      <th></th>\n",
              "    </tr>\n",
              "  </thead>\n",
              "  <tbody>\n",
              "    <tr>\n",
              "      <th>1</th>\n",
              "      <td>232</td>\n",
              "      <td>0.168103</td>\n",
              "    </tr>\n",
              "    <tr>\n",
              "      <th>2-3</th>\n",
              "      <td>67</td>\n",
              "      <td>0.328358</td>\n",
              "    </tr>\n",
              "    <tr>\n",
              "      <th>4-6</th>\n",
              "      <td>29</td>\n",
              "      <td>0.068966</td>\n",
              "    </tr>\n",
              "    <tr>\n",
              "      <th>7+</th>\n",
              "      <td>25</td>\n",
              "      <td>0.160000</td>\n",
              "    </tr>\n",
              "  </tbody>\n",
              "</table>\n",
              "</div>\n",
              "    <div class=\"colab-df-buttons\">\n",
              "\n",
              "  <div class=\"colab-df-container\">\n",
              "    <button class=\"colab-df-convert\" onclick=\"convertToInteractive('df-9f83983a-0bb2-4812-a0b4-b7612009eb26')\"\n",
              "            title=\"Convert this dataframe to an interactive table.\"\n",
              "            style=\"display:none;\">\n",
              "\n",
              "  <svg xmlns=\"http://www.w3.org/2000/svg\" height=\"24px\" viewBox=\"0 -960 960 960\">\n",
              "    <path d=\"M120-120v-720h720v720H120Zm60-500h600v-160H180v160Zm220 220h160v-160H400v160Zm0 220h160v-160H400v160ZM180-400h160v-160H180v160Zm440 0h160v-160H620v160ZM180-180h160v-160H180v160Zm440 0h160v-160H620v160Z\"/>\n",
              "  </svg>\n",
              "    </button>\n",
              "\n",
              "  <style>\n",
              "    .colab-df-container {\n",
              "      display:flex;\n",
              "      gap: 12px;\n",
              "    }\n",
              "\n",
              "    .colab-df-convert {\n",
              "      background-color: #E8F0FE;\n",
              "      border: none;\n",
              "      border-radius: 50%;\n",
              "      cursor: pointer;\n",
              "      display: none;\n",
              "      fill: #1967D2;\n",
              "      height: 32px;\n",
              "      padding: 0 0 0 0;\n",
              "      width: 32px;\n",
              "    }\n",
              "\n",
              "    .colab-df-convert:hover {\n",
              "      background-color: #E2EBFA;\n",
              "      box-shadow: 0px 1px 2px rgba(60, 64, 67, 0.3), 0px 1px 3px 1px rgba(60, 64, 67, 0.15);\n",
              "      fill: #174EA6;\n",
              "    }\n",
              "\n",
              "    .colab-df-buttons div {\n",
              "      margin-bottom: 4px;\n",
              "    }\n",
              "\n",
              "    [theme=dark] .colab-df-convert {\n",
              "      background-color: #3B4455;\n",
              "      fill: #D2E3FC;\n",
              "    }\n",
              "\n",
              "    [theme=dark] .colab-df-convert:hover {\n",
              "      background-color: #434B5C;\n",
              "      box-shadow: 0px 1px 3px 1px rgba(0, 0, 0, 0.15);\n",
              "      filter: drop-shadow(0px 1px 2px rgba(0, 0, 0, 0.3));\n",
              "      fill: #FFFFFF;\n",
              "    }\n",
              "  </style>\n",
              "\n",
              "    <script>\n",
              "      const buttonEl =\n",
              "        document.querySelector('#df-9f83983a-0bb2-4812-a0b4-b7612009eb26 button.colab-df-convert');\n",
              "      buttonEl.style.display =\n",
              "        google.colab.kernel.accessAllowed ? 'block' : 'none';\n",
              "\n",
              "      async function convertToInteractive(key) {\n",
              "        const element = document.querySelector('#df-9f83983a-0bb2-4812-a0b4-b7612009eb26');\n",
              "        const dataTable =\n",
              "          await google.colab.kernel.invokeFunction('convertToInteractive',\n",
              "                                                    [key], {});\n",
              "        if (!dataTable) return;\n",
              "\n",
              "        const docLinkHtml = 'Like what you see? Visit the ' +\n",
              "          '<a target=\"_blank\" href=https://colab.research.google.com/notebooks/data_table.ipynb>data table notebook</a>'\n",
              "          + ' to learn more about interactive tables.';\n",
              "        element.innerHTML = '';\n",
              "        dataTable['output_type'] = 'display_data';\n",
              "        await google.colab.output.renderOutput(dataTable, element);\n",
              "        const docLink = document.createElement('div');\n",
              "        docLink.innerHTML = docLinkHtml;\n",
              "        element.appendChild(docLink);\n",
              "      }\n",
              "    </script>\n",
              "  </div>\n",
              "\n",
              "\n",
              "    <div id=\"df-1f82a82a-f766-44d4-be2a-561f936ef48d\">\n",
              "      <button class=\"colab-df-quickchart\" onclick=\"quickchart('df-1f82a82a-f766-44d4-be2a-561f936ef48d')\"\n",
              "                title=\"Suggest charts\"\n",
              "                style=\"display:none;\">\n",
              "\n",
              "<svg xmlns=\"http://www.w3.org/2000/svg\" height=\"24px\"viewBox=\"0 0 24 24\"\n",
              "     width=\"24px\">\n",
              "    <g>\n",
              "        <path d=\"M19 3H5c-1.1 0-2 .9-2 2v14c0 1.1.9 2 2 2h14c1.1 0 2-.9 2-2V5c0-1.1-.9-2-2-2zM9 17H7v-7h2v7zm4 0h-2V7h2v10zm4 0h-2v-4h2v4z\"/>\n",
              "    </g>\n",
              "</svg>\n",
              "      </button>\n",
              "\n",
              "<style>\n",
              "  .colab-df-quickchart {\n",
              "      --bg-color: #E8F0FE;\n",
              "      --fill-color: #1967D2;\n",
              "      --hover-bg-color: #E2EBFA;\n",
              "      --hover-fill-color: #174EA6;\n",
              "      --disabled-fill-color: #AAA;\n",
              "      --disabled-bg-color: #DDD;\n",
              "  }\n",
              "\n",
              "  [theme=dark] .colab-df-quickchart {\n",
              "      --bg-color: #3B4455;\n",
              "      --fill-color: #D2E3FC;\n",
              "      --hover-bg-color: #434B5C;\n",
              "      --hover-fill-color: #FFFFFF;\n",
              "      --disabled-bg-color: #3B4455;\n",
              "      --disabled-fill-color: #666;\n",
              "  }\n",
              "\n",
              "  .colab-df-quickchart {\n",
              "    background-color: var(--bg-color);\n",
              "    border: none;\n",
              "    border-radius: 50%;\n",
              "    cursor: pointer;\n",
              "    display: none;\n",
              "    fill: var(--fill-color);\n",
              "    height: 32px;\n",
              "    padding: 0;\n",
              "    width: 32px;\n",
              "  }\n",
              "\n",
              "  .colab-df-quickchart:hover {\n",
              "    background-color: var(--hover-bg-color);\n",
              "    box-shadow: 0 1px 2px rgba(60, 64, 67, 0.3), 0 1px 3px 1px rgba(60, 64, 67, 0.15);\n",
              "    fill: var(--button-hover-fill-color);\n",
              "  }\n",
              "\n",
              "  .colab-df-quickchart-complete:disabled,\n",
              "  .colab-df-quickchart-complete:disabled:hover {\n",
              "    background-color: var(--disabled-bg-color);\n",
              "    fill: var(--disabled-fill-color);\n",
              "    box-shadow: none;\n",
              "  }\n",
              "\n",
              "  .colab-df-spinner {\n",
              "    border: 2px solid var(--fill-color);\n",
              "    border-color: transparent;\n",
              "    border-bottom-color: var(--fill-color);\n",
              "    animation:\n",
              "      spin 1s steps(1) infinite;\n",
              "  }\n",
              "\n",
              "  @keyframes spin {\n",
              "    0% {\n",
              "      border-color: transparent;\n",
              "      border-bottom-color: var(--fill-color);\n",
              "      border-left-color: var(--fill-color);\n",
              "    }\n",
              "    20% {\n",
              "      border-color: transparent;\n",
              "      border-left-color: var(--fill-color);\n",
              "      border-top-color: var(--fill-color);\n",
              "    }\n",
              "    30% {\n",
              "      border-color: transparent;\n",
              "      border-left-color: var(--fill-color);\n",
              "      border-top-color: var(--fill-color);\n",
              "      border-right-color: var(--fill-color);\n",
              "    }\n",
              "    40% {\n",
              "      border-color: transparent;\n",
              "      border-right-color: var(--fill-color);\n",
              "      border-top-color: var(--fill-color);\n",
              "    }\n",
              "    60% {\n",
              "      border-color: transparent;\n",
              "      border-right-color: var(--fill-color);\n",
              "    }\n",
              "    80% {\n",
              "      border-color: transparent;\n",
              "      border-right-color: var(--fill-color);\n",
              "      border-bottom-color: var(--fill-color);\n",
              "    }\n",
              "    90% {\n",
              "      border-color: transparent;\n",
              "      border-bottom-color: var(--fill-color);\n",
              "    }\n",
              "  }\n",
              "</style>\n",
              "\n",
              "      <script>\n",
              "        async function quickchart(key) {\n",
              "          const quickchartButtonEl =\n",
              "            document.querySelector('#' + key + ' button');\n",
              "          quickchartButtonEl.disabled = true;  // To prevent multiple clicks.\n",
              "          quickchartButtonEl.classList.add('colab-df-spinner');\n",
              "          try {\n",
              "            const charts = await google.colab.kernel.invokeFunction(\n",
              "                'suggestCharts', [key], {});\n",
              "          } catch (error) {\n",
              "            console.error('Error during call to suggestCharts:', error);\n",
              "          }\n",
              "          quickchartButtonEl.classList.remove('colab-df-spinner');\n",
              "          quickchartButtonEl.classList.add('colab-df-quickchart-complete');\n",
              "        }\n",
              "        (() => {\n",
              "          let quickchartButtonEl =\n",
              "            document.querySelector('#df-1f82a82a-f766-44d4-be2a-561f936ef48d button');\n",
              "          quickchartButtonEl.style.display =\n",
              "            google.colab.kernel.accessAllowed ? 'block' : 'none';\n",
              "        })();\n",
              "      </script>\n",
              "    </div>\n",
              "\n",
              "    </div>\n",
              "  </div>\n"
            ],
            "application/vnd.google.colaboratory.intrinsic+json": {
              "type": "dataframe",
              "summary": "{\n  \"name\": \"df[subgrupo1]\",\n  \"rows\": 4,\n  \"fields\": [\n    {\n      \"column\": \"Categorias_Familia\",\n      \"properties\": {\n        \"dtype\": \"category\",\n        \"num_unique_values\": 4,\n        \"samples\": [\n          \"2-3\",\n          \"7+\",\n          \"1\"\n        ],\n        \"semantic_type\": \"\",\n        \"description\": \"\"\n      }\n    },\n    {\n      \"column\": \"count\",\n      \"properties\": {\n        \"dtype\": \"number\",\n        \"std\": 97,\n        \"min\": 25,\n        \"max\": 232,\n        \"num_unique_values\": 4,\n        \"samples\": [\n          67,\n          25,\n          232\n        ],\n        \"semantic_type\": \"\",\n        \"description\": \"\"\n      }\n    },\n    {\n      \"column\": \"Supervivencia\",\n      \"properties\": {\n        \"dtype\": \"number\",\n        \"std\": 0.10781616903030324,\n        \"min\": 0.06896551724137931,\n        \"max\": 0.3283582089552239,\n        \"num_unique_values\": 4,\n        \"samples\": [\n          0.3283582089552239,\n          0.16,\n          0.16810344827586207\n        ],\n        \"semantic_type\": \"\",\n        \"description\": \"\"\n      }\n    }\n  ]\n}"
            }
          },
          "metadata": {},
          "execution_count": 133
        }
      ]
    },
    {
      "cell_type": "code",
      "source": [
        "import seaborn as sns\n",
        "import matplotlib.pyplot as plt\n",
        "\n",
        "# Se calcula la supervivencia por el subgrupo de categorias de tamaños de familia\n",
        "survival_rate_subgrupo1 = df[subgrupo1].groupby('Categorias_Familia')['Survived'].mean().reset_index()\n",
        "\n",
        "# Se crea un boxplot\n",
        "plt.figure(figsize=(8, 5))\n",
        "sns.barplot(data=survival_rate_subgrupo1, x='Categorias_Familia', y='Survived', palette='viridis')\n",
        "\n",
        "# Add titles and labels\n",
        "plt.title('Supervivencia por Categorias de Tamaños de Familia (Tercera Clase & Southampton)')\n",
        "plt.xlabel('Categorias de Tamaños de Familia')\n",
        "plt.ylabel('Supervivencia')\n",
        "\n",
        "# Desplegar gráfica\n",
        "plt.show()\n"
      ],
      "metadata": {
        "colab": {
          "base_uri": "https://localhost:8080/",
          "height": 628
        },
        "id": "Pk6XyxCjCKRB",
        "outputId": "e1b3c124-377c-4690-964b-d2ccdc914154"
      },
      "execution_count": null,
      "outputs": [
        {
          "output_type": "stream",
          "name": "stderr",
          "text": [
            "/tmp/ipython-input-3542318626.py:5: FutureWarning: The default of observed=False is deprecated and will be changed to True in a future version of pandas. Pass observed=False to retain current behavior or observed=True to adopt the future default and silence this warning.\n",
            "  survival_rate_subgrupo1 = df[subgrupo1].groupby('Categorias_Familia')['Survived'].mean().reset_index()\n",
            "/tmp/ipython-input-3542318626.py:9: FutureWarning: \n",
            "\n",
            "Passing `palette` without assigning `hue` is deprecated and will be removed in v0.14.0. Assign the `x` variable to `hue` and set `legend=False` for the same effect.\n",
            "\n",
            "  sns.barplot(data=survival_rate_subgrupo1, x='Categorias_Familia', y='Survived', palette='viridis')\n"
          ]
        },
        {
          "output_type": "display_data",
          "data": {
            "text/plain": [
              "<Figure size 800x500 with 1 Axes>"
            ],
            "image/png": "[encoded data removed]"
          },
          "metadata": {}
        }
      ]
    },
    {
      "cell_type": "code",
      "source": [
        "import statsmodels.api as sm\n",
        "\n",
        "# Variables independieentes y variable dependiente\n",
        "vars_i = df[[ \"TamañoFamilia\", \"OrigenClase3\", \"OrigenEmbarked_Southampton\"]]\n",
        "var_d = df[\"Survived\"]\n",
        "\n",
        "# Agregamos una constante (intercepto)\n",
        "vars_i = sm.add_constant(vars_i)\n",
        "\n",
        "# Ajustamos el modelo de regresión logística\n",
        "logit_model = sm.Logit(var_d, vars_i).fit()\n",
        "\n",
        "\n",
        "# Resumen de resultados\n",
        "print(logit_model.summary())\n"
      ],
      "metadata": {
        "colab": {
          "base_uri": "https://localhost:8080/"
        },
        "id": "ShzKa73SCYeS",
        "outputId": "d5e43df3-40b3-4834-f71a-58ba5f9e2c98"
      },
      "execution_count": null,
      "outputs": [
        {
          "output_type": "stream",
          "name": "stdout",
          "text": [
            "Optimization terminated successfully.\n",
            "         Current function value: 0.597779\n",
            "         Iterations 5\n",
            "                           Logit Regression Results                           \n",
            "==============================================================================\n",
            "Dep. Variable:               Survived   No. Observations:                  891\n",
            "Model:                          Logit   Df Residuals:                      887\n",
            "Method:                           MLE   Df Model:                            3\n",
            "Date:                Mon, 25 Aug 2025   Pseudo R-squ.:                  0.1023\n",
            "Time:                        05:34:30   Log-Likelihood:                -532.62\n",
            "converged:                       True   LL-Null:                       -593.33\n",
            "Covariance Type:            nonrobust   LLR p-value:                 3.830e-26\n",
            "==============================================================================================\n",
            "                                 coef    std err          z      P>|z|      [0.025      0.975]\n",
            "----------------------------------------------------------------------------------------------\n",
            "const                          0.7061      0.174      4.047      0.000       0.364       1.048\n",
            "TamañoFamilia                  0.0809      0.046      1.758      0.079      -0.009       0.171\n",
            "OrigenClase3                  -1.4469      0.150     -9.616      0.000      -1.742      -1.152\n",
            "OrigenEmbarked_Southampton    -0.8339      0.164     -5.077      0.000      -1.156      -0.512\n",
            "==============================================================================================\n"
          ]
        }
      ]
    },
    {
      "cell_type": "markdown",
      "source": [
        "## Hipótesis 2: a probabilidad de supervivencia en primera clase es al menos 50% mejor que la de tercera clase, para todas las edades y géneros"
      ],
      "metadata": {
        "id": "BPT2KwtO2iCx"
      }
    },
    {
      "cell_type": "code",
      "source": [
        "# MANTENEMOS SOLO LAS CLASES 1 Y 3 PARA EL ANÁLISIS\n",
        "df_hipotesis2 = df[df['Pclass'].isin([1, 3])].copy()"
      ],
      "metadata": {
        "id": "Hi2PuMAZCoMx"
      },
      "execution_count": null,
      "outputs": []
    },
    {
      "cell_type": "code",
      "source": [
        "media_edad = df_hipotesis2['Age'].mean()\n",
        "df_hipotesis2['Age'] = df_hipotesis2['Age'].fillna(media_edad)"
      ],
      "metadata": {
        "id": "vqzn7IpfaK39"
      },
      "execution_count": null,
      "outputs": []
    },
    {
      "cell_type": "code",
      "source": [
        "# --- 1. ANÁLISIS VISUAL PARA SUBGRUPOS (GÉNERO Y CLASE) ---\n",
        "\n",
        "# CALCULAMOS LA TASA DE SUPERVIVENCIA POR GÉNERO Y CLASE\n",
        "survival_rate_gender_class = df_hipotesis2.groupby(['Sex', 'Pclass'])['Survived'].mean().reset_index()\n",
        "\n",
        "# CREAMOS UNA GRÁFICA DE BARRAS\n",
        "plt.figure(figsize=(10, 6))\n",
        "sns.barplot(\n",
        "    data=survival_rate_gender_class,\n",
        "    x='Sex',\n",
        "    y='Survived',\n",
        "    hue='Pclass',\n",
        "    palette='pastel'\n",
        ")\n",
        "\n",
        "plt.title('SUPERVIVENCIA POR CLASE Y GÉNERO')\n",
        "plt.xlabel('GÉNERO')\n",
        "plt.ylabel('TASA DE SUPERVIVENCIA')\n",
        "plt.legend(title='CLASE', loc='upper right')\n",
        "plt.show()"
      ],
      "metadata": {
        "colab": {
          "base_uri": "https://localhost:8080/",
          "height": 564
        },
        "id": "s1tBDJJKaUqR",
        "outputId": "30778193-bb42-4a81-bbbe-d91aec09d5f2"
      },
      "execution_count": null,
      "outputs": [
        {
          "output_type": "display_data",
          "data": {
            "text/plain": [
              "<Figure size 1000x600 with 1 Axes>"
            ],
            "image/png": "[encoded data removed]"
          },
          "metadata": {}
        }
      ]
    },
    {
      "cell_type": "code",
      "source": [
        "# --- 2. MODELO DE REGRESIÓN LOGÍSTICA PARA EL ANÁLISIS PRINCIPAL ---\n",
        "\n",
        "# VARIABLE DEPENDIENTE: Supervivencia\n",
        "var_d = df_hipotesis2[\"Survived\"]\n",
        "\n",
        "# VARIABLES INDEPENDIENTES: Pclass, Sex y Age\n",
        "# PCLASS: CONVERTIMOS LA CLASE 1 EN DUMMY (1 SI ES CLASE 1, 0 SI ES CLASE 3)\n",
        "df_hipotesis2['Pclass_1'] = np.where(df_hipotesis2['Pclass'] == 1, 1, 0)\n",
        "\n",
        "# SEX: CONVERTIMOS EL GÉNERO EN DUMMY (1 SI ES HOMBRE, 0 SI ES MUJER)\n",
        "df_hipotesis2['Sex_male'] = np.where(df_hipotesis2['Sex'] == 'male', 1, 0)\n",
        "\n",
        "# SELECCIONAMOS LAS VARIABLES PARA EL MODELO\n",
        "vars_i = df_hipotesis2[['Pclass_1', 'Sex_male', 'Age']]\n",
        "\n",
        "# AGREGAMOS UNA CONSTANTE (INTERCEPTO)\n",
        "vars_i = sm.add_constant(vars_i)\n",
        "\n",
        "# AJUSTAMOS EL MODELO DE REGRESIÓN LOGÍSTICA\n",
        "logit_model = sm.Logit(var_d, vars_i).fit()\n",
        "\n",
        "print(\"\\n--- RESUMEN DE LA REGRESIÓN LOGÍSTICA ---\")\n",
        "print(logit_model.summary())\n"
      ],
      "metadata": {
        "colab": {
          "base_uri": "https://localhost:8080/"
        },
        "id": "rBj6vLBzafTR",
        "outputId": "6437e874-5d37-4373-b763-3a31499bc188"
      },
      "execution_count": null,
      "outputs": [
        {
          "output_type": "stream",
          "name": "stdout",
          "text": [
            "Optimization terminated successfully.\n",
            "         Current function value: 0.470919\n",
            "         Iterations 6\n",
            "\n",
            "--- RESUMEN DE LA REGRESIÓN LOGÍSTICA ---\n",
            "                           Logit Regression Results                           \n",
            "==============================================================================\n",
            "Dep. Variable:               Survived   No. Observations:                  707\n",
            "Model:                          Logit   Df Residuals:                      703\n",
            "Method:                           MLE   Df Model:                            3\n",
            "Date:                Mon, 25 Aug 2025   Pseudo R-squ.:                  0.2797\n",
            "Time:                        05:34:31   Log-Likelihood:                -332.94\n",
            "converged:                       True   LL-Null:                       -462.24\n",
            "Covariance Type:            nonrobust   LLR p-value:                 9.008e-56\n",
            "==============================================================================\n",
            "                 coef    std err          z      P>|z|      [0.025      0.975]\n",
            "------------------------------------------------------------------------------\n",
            "const          0.8597      0.254      3.380      0.001       0.361       1.358\n",
            "Pclass_1       2.1260      0.234      9.079      0.000       1.667       2.585\n",
            "Sex_male      -2.2269      0.202    -11.009      0.000      -2.623      -1.830\n",
            "Age           -0.0264      0.008     -3.223      0.001      -0.043      -0.010\n",
            "==============================================================================\n"
          ]
        }
      ]
    },
    {
      "cell_type": "code",
      "source": [
        "# --- 3. EVALUACIÓN DE LA HIPÓTESIS ---\n",
        "\n",
        "print(\"\\n--- CRITERIOS DE DECISIÓN (ANÁLISIS PRINCIPAL) ---\")\n",
        "# OBTENEMOS EL ODDS RATIO PARA LA VARIABLE 'Pclass_1'\n",
        "odds_ratio_pclass = np.exp(logit_model.params['Pclass_1'])\n",
        "p_value_pclass = logit_model.pvalues['Pclass_1']\n",
        "\n",
        "print(f\"VALOR P PARA PCLASS_1: {p_value_pclass:.4f}\")\n",
        "print(f\"ODDS RATIO PARA PCLASS_1: {odds_ratio_pclass:.2f}\")\n",
        "\n",
        "# VERIFICAMOS LA SIGNIFICANCIA ESTADÍSTICA Y EL TAMAÑO DEL EFECTO\n",
        "if p_value_pclass < 0.05:\n",
        "    print(\"LA VARIABLE 'PCLASS' ES ESTADÍSTICAMENTE SIGNIFICATIVA.\")\n",
        "    if odds_ratio_pclass >= 1.5:\n",
        "        print(\"EL ODDS RATIO ES MAYOR O IGUAL A 1.5.\")\n",
        "        print(\"ESTE ANÁLISIS APOYA LA HIPÓTESIS PRINCIPAL.\")\n",
        "    else:\n",
        "        print(\"EL ODDS RATIO ES MENOR A 1.5.\")\n",
        "        print(\"LA HIPÓTESIS NO SE CUMPLE CON EL TAMAÑO DE EFECTO MÍNIMO REQUERIDO.\")\n",
        "else:\n",
        "    print(\"LA VARIABLE 'PCLASS' NO ES ESTADÍSTICAMENTE SIGNIFICATIVA.\")\n",
        "    print(\"NO HAY EVIDENCIA PARA APOYAR LA HIPÓTESIS PRINCIPAL.\")"
      ],
      "metadata": {
        "colab": {
          "base_uri": "https://localhost:8080/"
        },
        "id": "7o_Yfejxaxoc",
        "outputId": "8c82606c-0e8a-4d47-fe96-99266e8cd1ac"
      },
      "execution_count": null,
      "outputs": [
        {
          "output_type": "stream",
          "name": "stdout",
          "text": [
            "\n",
            "--- CRITERIOS DE DECISIÓN (ANÁLISIS PRINCIPAL) ---\n",
            "VALOR P PARA PCLASS_1: 0.0000\n",
            "ODDS RATIO PARA PCLASS_1: 8.38\n",
            "LA VARIABLE 'PCLASS' ES ESTADÍSTICAMENTE SIGNIFICATIVA.\n",
            "EL ODDS RATIO ES MAYOR O IGUAL A 1.5.\n",
            "ESTE ANÁLISIS APOYA LA HIPÓTESIS PRINCIPAL.\n"
          ]
        }
      ]
    },
    {
      "cell_type": "code",
      "source": [
        "# --- 4. ANÁLISIS DE SUBGRUPOS (REGRESIÓN LOGÍSTICA POR GÉNERO) ---\n",
        "\n",
        "# SUBGRUPO: MUJERES\n",
        "print(\"\\n--- SUBGRUPO: MUJERES ---\")\n",
        "df_mujeres = df_hipotesis2[df_hipotesis2['Sex_male'] == 0].copy()\n",
        "if not df_mujeres.empty:\n",
        "    vars_i_mujeres = df_mujeres[['Pclass_1', 'Age']]\n",
        "    var_d_mujeres = df_mujeres['Survived']\n",
        "    vars_i_mujeres = sm.add_constant(vars_i_mujeres)\n",
        "    try:\n",
        "        modelo_mujeres = sm.Logit(var_d_mujeres, vars_i_mujeres).fit()\n",
        "        odds_ratio_mujeres = np.exp(modelo_mujeres.params['Pclass_1'])\n",
        "        p_value_mujeres = modelo_mujeres.pvalues['Pclass_1']\n",
        "\n",
        "        print(f\"ODDS RATIO PARA MUJERES: {odds_ratio_mujeres:.2f}\")\n",
        "        print(f\"VALOR P PARA MUJERES: {p_value_mujeres:.4f}\")\n",
        "\n",
        "        if p_value_mujeres < 0.05 and odds_ratio_mujeres >= 1.5:\n",
        "            print(\"LA HIPÓTESIS SE CUMPLE EN EL SUBGRUPO DE MUJERES.\")\n",
        "        else:\n",
        "            print(\"LA HIPÓTESIS NO SE CUMPLE EN EL SUBGRUPO DE MUJERES.\")\n",
        "    except Exception as e:\n",
        "        print(f\"ERROR AL AJUSTAR EL MODELO PARA MUJERES: {e}\")\n",
        "else:\n",
        "    print(\"NO HAY DATOS EN EL SUBGRUPO DE MUJERES.\")\n",
        "\n",
        "\n",
        "# SUBGRUPO: HOMBRES\n",
        "print(\"\\n--- SUBGRUPO: HOMBRES ---\")\n",
        "df_hombres = df_hipotesis2[df_hipotesis2['Sex_male'] == 1].copy()\n",
        "if not df_hombres.empty:\n",
        "    vars_i_hombres = df_hombres[['Pclass_1', 'Age']]\n",
        "    var_d_hombres = df_hombres['Survived']\n",
        "    vars_i_hombres = sm.add_constant(vars_i_hombres)\n",
        "    try:\n",
        "        modelo_hombres = sm.Logit(var_d_hombres, vars_i_hombres).fit()\n",
        "        odds_ratio_hombres = np.exp(modelo_hombres.params['Pclass_1'])\n",
        "        p_value_hombres = modelo_hombres.pvalues['Pclass_1']\n",
        "\n",
        "        print(f\"ODDS RATIO PARA HOMBRES: {odds_ratio_hombres:.2f}\")\n",
        "        print(f\"VALOR P PARA HOMBRES: {p_value_hombres:.4f}\")\n",
        "\n",
        "        if p_value_hombres < 0.05 and odds_ratio_hombres >= 1.5:\n",
        "            print(\"LA HIPÓTESIS SE CUMPLE EN EL SUBGRUPO DE HOMBRES.\")\n",
        "        else:\n",
        "            print(\"LA HIPÓTESIS NO SE CUMPLE EN EL SUBGRUPO DE HOMBRES.\")\n",
        "    except Exception as e:\n",
        "        print(f\"ERROR AL AJUSTAR EL MODELO PARA HOMBRES: {e}\")\n",
        "else:\n",
        "    print(\"NO HAY DATOS EN EL SUBGRUPO DE HOMBRES.\")"
      ],
      "metadata": {
        "colab": {
          "base_uri": "https://localhost:8080/"
        },
        "id": "NnnoYScMcP0s",
        "outputId": "d81dae6e-a230-4457-d438-ac941631a1b9"
      },
      "execution_count": null,
      "outputs": [
        {
          "output_type": "stream",
          "name": "stdout",
          "text": [
            "\n",
            "--- SUBGRUPO: MUJERES ---\n",
            "Optimization terminated successfully.\n",
            "         Current function value: 0.473861\n",
            "         Iterations 7\n",
            "ODDS RATIO PARA MUJERES: 34.33\n",
            "VALOR P PARA MUJERES: 0.0000\n",
            "LA HIPÓTESIS SE CUMPLE EN EL SUBGRUPO DE MUJERES.\n",
            "\n",
            "--- SUBGRUPO: HOMBRES ---\n",
            "Optimization terminated successfully.\n",
            "         Current function value: 0.452136\n",
            "         Iterations 6\n",
            "ODDS RATIO PARA HOMBRES: 5.76\n",
            "VALOR P PARA HOMBRES: 0.0000\n",
            "LA HIPÓTESIS SE CUMPLE EN EL SUBGRUPO DE HOMBRES.\n"
          ]
        }
      ]
    },
    {
      "cell_type": "code",
      "source": [],
      "metadata": {
        "id": "-WsnlPDS1Mwc"
      },
      "execution_count": null,
      "outputs": []
    },
    {
      "cell_type": "markdown",
      "source": [
        "## Hipótesis 3: La posibilidad de supervivencia disminuye en cuestión de ser de tercera vinculados a varios familiares provenientes de Southampton\n"
      ],
      "metadata": {
        "id": "qng1PCef2lkE"
      }
    },
    {
      "cell_type": "code",
      "source": [
        "\n",
        "# --- 1. CARGAR DATASET Y PREPROCESAMIENTO ---\n",
        "# MANEJO DE VALORES NULOS PARA LAS VARIABLES CLAVE\n",
        "df['Age'].fillna(df['Age'].median(), inplace=True)\n",
        "df['Embarked'].fillna(df['Embarked'].mode()[0], inplace=True)\n",
        "df['Fare'].fillna(df['Fare'].mean(), inplace=True)\n",
        "\n",
        "# CREAR LA VARIABLE 'FamilySize' (TAMAÑO DE LA FAMILIA)\n",
        "df['FamilySize'] = df['SibSp'] + df['Parch'] + 1\n",
        "\n",
        "# CONVERSIÓN DE VARIABLES CATEGÓRICAS A DUMMIES (ONE-HOT ENCODING)\n",
        "df_dummies = pd.get_dummies(df[['Pclass', 'Sex', 'Embarked']], dtype=int)\n",
        "df_hipotesis3 = pd.concat([df, df_dummies], axis=1)"
      ],
      "metadata": {
        "colab": {
          "base_uri": "https://localhost:8080/"
        },
        "id": "IfrOR95ckHOG",
        "outputId": "506fb469-8a11-4696-fd58-7e9dad9ea175"
      },
      "execution_count": null,
      "outputs": [
        {
          "output_type": "stream",
          "name": "stderr",
          "text": [
            "/tmp/ipython-input-2286352090.py:3: FutureWarning: A value is trying to be set on a copy of a DataFrame or Series through chained assignment using an inplace method.\n",
            "The behavior will change in pandas 3.0. This inplace method will never work because the intermediate object on which we are setting values always behaves as a copy.\n",
            "\n",
            "For example, when doing 'df[col].method(value, inplace=True)', try using 'df.method({col: value}, inplace=True)' or df[col] = df[col].method(value) instead, to perform the operation inplace on the original object.\n",
            "\n",
            "\n",
            "  df['Age'].fillna(df['Age'].median(), inplace=True)\n",
            "/tmp/ipython-input-2286352090.py:4: FutureWarning: A value is trying to be set on a copy of a DataFrame or Series through chained assignment using an inplace method.\n",
            "The behavior will change in pandas 3.0. This inplace method will never work because the intermediate object on which we are setting values always behaves as a copy.\n",
            "\n",
            "For example, when doing 'df[col].method(value, inplace=True)', try using 'df.method({col: value}, inplace=True)' or df[col] = df[col].method(value) instead, to perform the operation inplace on the original object.\n",
            "\n",
            "\n",
            "  df['Embarked'].fillna(df['Embarked'].mode()[0], inplace=True)\n",
            "/tmp/ipython-input-2286352090.py:5: FutureWarning: A value is trying to be set on a copy of a DataFrame or Series through chained assignment using an inplace method.\n",
            "The behavior will change in pandas 3.0. This inplace method will never work because the intermediate object on which we are setting values always behaves as a copy.\n",
            "\n",
            "For example, when doing 'df[col].method(value, inplace=True)', try using 'df.method({col: value}, inplace=True)' or df[col] = df[col].method(value) instead, to perform the operation inplace on the original object.\n",
            "\n",
            "\n",
            "  df['Fare'].fillna(df['Fare'].mean(), inplace=True)\n"
          ]
        }
      ]
    },
    {
      "cell_type": "code",
      "source": [
        "# --- 2. CREACIÓN DE LA VARIABLE DE INTERACCIÓN (ANALISIS PRINCIPAL) ---\n",
        "df_hipotesis3['Hipotesis3_Interaction'] = np.where(\n",
        "    (df_hipotesis3['Pclass_3'] == 1) & (df_hipotesis3['FamilySize'] > 1) & (df_hipotesis3['Embarked_S'] == 1),\n",
        "  1,\n",
        "  0\n",
        ")"
      ],
      "metadata": {
        "id": "RaMxUrzqkf4M",
        "colab": {
          "base_uri": "https://localhost:8080/",
          "height": 581
        },
        "outputId": "2012afd1-3d84-4625-b400-a63bc8468a99"
      },
      "execution_count": null,
      "outputs": [
        {
          "output_type": "error",
          "ename": "KeyError",
          "evalue": "'Pclass_3'",
          "traceback": [
            "\u001b[0;31m---------------------------------------------------------------------------\u001b[0m",
            "\u001b[0;31mKeyError\u001b[0m                                  Traceback (most recent call last)",
            "\u001b[0;32m/usr/local/lib/python3.12/dist-packages/pandas/core/indexes/base.py\u001b[0m in \u001b[0;36mget_loc\u001b[0;34m(self, key)\u001b[0m\n\u001b[1;32m   3804\u001b[0m         \u001b[0;32mtry\u001b[0m\u001b[0;34m:\u001b[0m\u001b[0;34m\u001b[0m\u001b[0;34m\u001b[0m\u001b[0m\n\u001b[0;32m-> 3805\u001b[0;31m             \u001b[0;32mreturn\u001b[0m \u001b[0mself\u001b[0m\u001b[0;34m.\u001b[0m\u001b[0m_engine\u001b[0m\u001b[0;34m.\u001b[0m\u001b[0mget_loc\u001b[0m\u001b[0;34m(\u001b[0m\u001b[0mcasted_key\u001b[0m\u001b[0;34m)\u001b[0m\u001b[0;34m\u001b[0m\u001b[0;34m\u001b[0m\u001b[0m\n\u001b[0m\u001b[1;32m   3806\u001b[0m         \u001b[0;32mexcept\u001b[0m \u001b[0mKeyError\u001b[0m \u001b[0;32mas\u001b[0m \u001b[0merr\u001b[0m\u001b[0;34m:\u001b[0m\u001b[0;34m\u001b[0m\u001b[0;34m\u001b[0m\u001b[0m\n",
            "\u001b[0;32mindex.pyx\u001b[0m in \u001b[0;36mpandas._libs.index.IndexEngine.get_loc\u001b[0;34m()\u001b[0m\n",
            "\u001b[0;32mindex.pyx\u001b[0m in \u001b[0;36mpandas._libs.index.IndexEngine.get_loc\u001b[0;34m()\u001b[0m\n",
            "\u001b[0;32mindex.pyx\u001b[0m in \u001b[0;36mpandas._libs.index.IndexEngine._get_loc_duplicates\u001b[0;34m()\u001b[0m\n",
            "\u001b[0;32mindex.pyx\u001b[0m in \u001b[0;36mpandas._libs.index.IndexEngine._maybe_get_bool_indexer\u001b[0;34m()\u001b[0m\n",
            "\u001b[0;32mindex.pyx\u001b[0m in \u001b[0;36mpandas._libs.index._unpack_bool_indexer\u001b[0;34m()\u001b[0m\n",
            "\u001b[0;31mKeyError\u001b[0m: 'Pclass_3'",
            "\nThe above exception was the direct cause of the following exception:\n",
            "\u001b[0;31mKeyError\u001b[0m                                  Traceback (most recent call last)",
            "\u001b[0;32m/tmp/ipython-input-37141781.py\u001b[0m in \u001b[0;36m<cell line: 0>\u001b[0;34m()\u001b[0m\n\u001b[1;32m      1\u001b[0m \u001b[0;31m# --- 2. CREACIÓN DE LA VARIABLE DE INTERACCIÓN (ANALISIS PRINCIPAL) ---\u001b[0m\u001b[0;34m\u001b[0m\u001b[0;34m\u001b[0m\u001b[0m\n\u001b[1;32m      2\u001b[0m df_hipotesis3['Hipotesis3_Interaction'] = np.where(\n\u001b[0;32m----> 3\u001b[0;31m     \u001b[0;34m(\u001b[0m\u001b[0mdf_hipotesis3\u001b[0m\u001b[0;34m[\u001b[0m\u001b[0;34m'Pclass_3'\u001b[0m\u001b[0;34m]\u001b[0m \u001b[0;34m==\u001b[0m \u001b[0;36m1\u001b[0m\u001b[0;34m)\u001b[0m \u001b[0;34m&\u001b[0m \u001b[0;34m(\u001b[0m\u001b[0mdf_hipotesis3\u001b[0m\u001b[0;34m[\u001b[0m\u001b[0;34m'FamilySize'\u001b[0m\u001b[0;34m]\u001b[0m \u001b[0;34m>\u001b[0m \u001b[0;36m1\u001b[0m\u001b[0;34m)\u001b[0m \u001b[0;34m&\u001b[0m \u001b[0;34m(\u001b[0m\u001b[0mdf_hipotesis3\u001b[0m\u001b[0;34m[\u001b[0m\u001b[0;34m'Embarked_S'\u001b[0m\u001b[0;34m]\u001b[0m \u001b[0;34m==\u001b[0m \u001b[0;36m1\u001b[0m\u001b[0;34m)\u001b[0m\u001b[0;34m,\u001b[0m\u001b[0;34m\u001b[0m\u001b[0;34m\u001b[0m\u001b[0m\n\u001b[0m\u001b[1;32m      4\u001b[0m   \u001b[0;36m1\u001b[0m\u001b[0;34m,\u001b[0m\u001b[0;34m\u001b[0m\u001b[0;34m\u001b[0m\u001b[0m\n\u001b[1;32m      5\u001b[0m   \u001b[0;36m0\u001b[0m\u001b[0;34m\u001b[0m\u001b[0;34m\u001b[0m\u001b[0m\n",
            "\u001b[0;32m/usr/local/lib/python3.12/dist-packages/pandas/core/frame.py\u001b[0m in \u001b[0;36m__getitem__\u001b[0;34m(self, key)\u001b[0m\n\u001b[1;32m   4100\u001b[0m             \u001b[0;32mif\u001b[0m \u001b[0mself\u001b[0m\u001b[0;34m.\u001b[0m\u001b[0mcolumns\u001b[0m\u001b[0;34m.\u001b[0m\u001b[0mnlevels\u001b[0m \u001b[0;34m>\u001b[0m \u001b[0;36m1\u001b[0m\u001b[0;34m:\u001b[0m\u001b[0;34m\u001b[0m\u001b[0;34m\u001b[0m\u001b[0m\n\u001b[1;32m   4101\u001b[0m                 \u001b[0;32mreturn\u001b[0m \u001b[0mself\u001b[0m\u001b[0;34m.\u001b[0m\u001b[0m_getitem_multilevel\u001b[0m\u001b[0;34m(\u001b[0m\u001b[0mkey\u001b[0m\u001b[0;34m)\u001b[0m\u001b[0;34m\u001b[0m\u001b[0;34m\u001b[0m\u001b[0m\n\u001b[0;32m-> 4102\u001b[0;31m             \u001b[0mindexer\u001b[0m \u001b[0;34m=\u001b[0m \u001b[0mself\u001b[0m\u001b[0;34m.\u001b[0m\u001b[0mcolumns\u001b[0m\u001b[0;34m.\u001b[0m\u001b[0mget_loc\u001b[0m\u001b[0;34m(\u001b[0m\u001b[0mkey\u001b[0m\u001b[0;34m)\u001b[0m\u001b[0;34m\u001b[0m\u001b[0;34m\u001b[0m\u001b[0m\n\u001b[0m\u001b[1;32m   4103\u001b[0m             \u001b[0;32mif\u001b[0m \u001b[0mis_integer\u001b[0m\u001b[0;34m(\u001b[0m\u001b[0mindexer\u001b[0m\u001b[0;34m)\u001b[0m\u001b[0;34m:\u001b[0m\u001b[0;34m\u001b[0m\u001b[0;34m\u001b[0m\u001b[0m\n\u001b[1;32m   4104\u001b[0m                 \u001b[0mindexer\u001b[0m \u001b[0;34m=\u001b[0m \u001b[0;34m[\u001b[0m\u001b[0mindexer\u001b[0m\u001b[0;34m]\u001b[0m\u001b[0;34m\u001b[0m\u001b[0;34m\u001b[0m\u001b[0m\n",
            "\u001b[0;32m/usr/local/lib/python3.12/dist-packages/pandas/core/indexes/base.py\u001b[0m in \u001b[0;36mget_loc\u001b[0;34m(self, key)\u001b[0m\n\u001b[1;32m   3810\u001b[0m             ):\n\u001b[1;32m   3811\u001b[0m                 \u001b[0;32mraise\u001b[0m \u001b[0mInvalidIndexError\u001b[0m\u001b[0;34m(\u001b[0m\u001b[0mkey\u001b[0m\u001b[0;34m)\u001b[0m\u001b[0;34m\u001b[0m\u001b[0;34m\u001b[0m\u001b[0m\n\u001b[0;32m-> 3812\u001b[0;31m             \u001b[0;32mraise\u001b[0m \u001b[0mKeyError\u001b[0m\u001b[0;34m(\u001b[0m\u001b[0mkey\u001b[0m\u001b[0;34m)\u001b[0m \u001b[0;32mfrom\u001b[0m \u001b[0merr\u001b[0m\u001b[0;34m\u001b[0m\u001b[0;34m\u001b[0m\u001b[0m\n\u001b[0m\u001b[1;32m   3813\u001b[0m         \u001b[0;32mexcept\u001b[0m \u001b[0mTypeError\u001b[0m\u001b[0;34m:\u001b[0m\u001b[0;34m\u001b[0m\u001b[0;34m\u001b[0m\u001b[0m\n\u001b[1;32m   3814\u001b[0m             \u001b[0;31m# If we have a listlike key, _check_indexing_error will raise\u001b[0m\u001b[0;34m\u001b[0m\u001b[0;34m\u001b[0m\u001b[0m\n",
            "\u001b[0;31mKeyError\u001b[0m: 'Pclass_3'"
          ]
        }
      ]
    },
    {
      "cell_type": "code",
      "source": [
        "# --- 3. ANÁLISIS VISUAL DE LA INTERACCIÓN ---\n",
        "survival_rate_grupo = df_hipotesis3.groupby('Hipotesis3_Interaction')['Survived'].mean().reset_index()\n",
        "\n",
        "plt.figure(figsize=(8, 6))\n",
        "sns.barplot(\n",
        "    data=survival_rate_grupo,\n",
        "    x='Hipotesis3_Interaction',\n",
        "    y='Survived',\n",
        "    palette='viridis'\n",
        ")\n",
        "plt.title('TASA DE SUPERVIVENCIA: GRUPO DE HIPÓTESIS VS. RESTO')\n",
        "plt.xlabel('GRUPO DE HIPÓTESIS (1=SÍ, 0=NO)')\n",
        "plt.ylabel('TASA DE SUPERVIVENCIA')\n",
        "plt.xticks(ticks=[0, 1], labels=['OTROS PASAJEROS', 'GRUPO DE HIPÓTESIS'])\n",
        "plt.show()"
      ],
      "metadata": {
        "id": "sEtVJJjQt3Gq",
        "outputId": "88103e15-5f35-4568-84e6-48071c35a8f1",
        "colab": {
          "base_uri": "https://localhost:8080/",
          "height": 356
        }
      },
      "execution_count": null,
      "outputs": [
        {
          "output_type": "error",
          "ename": "KeyError",
          "evalue": "'Hipotesis3_Interaction'",
          "traceback": [
            "\u001b[0;31m---------------------------------------------------------------------------\u001b[0m",
            "\u001b[0;31mKeyError\u001b[0m                                  Traceback (most recent call last)",
            "\u001b[0;32m/tmp/ipython-input-3290003006.py\u001b[0m in \u001b[0;36m<cell line: 0>\u001b[0;34m()\u001b[0m\n\u001b[1;32m      1\u001b[0m \u001b[0;31m# --- 3. ANÁLISIS VISUAL DE LA INTERACCIÓN ---\u001b[0m\u001b[0;34m\u001b[0m\u001b[0;34m\u001b[0m\u001b[0m\n\u001b[0;32m----> 2\u001b[0;31m \u001b[0msurvival_rate_grupo\u001b[0m \u001b[0;34m=\u001b[0m \u001b[0mdf_hipotesis3\u001b[0m\u001b[0;34m.\u001b[0m\u001b[0mgroupby\u001b[0m\u001b[0;34m(\u001b[0m\u001b[0;34m'Hipotesis3_Interaction'\u001b[0m\u001b[0;34m)\u001b[0m\u001b[0;34m[\u001b[0m\u001b[0;34m'Survived'\u001b[0m\u001b[0;34m]\u001b[0m\u001b[0;34m.\u001b[0m\u001b[0mmean\u001b[0m\u001b[0;34m(\u001b[0m\u001b[0;34m)\u001b[0m\u001b[0;34m.\u001b[0m\u001b[0mreset_index\u001b[0m\u001b[0;34m(\u001b[0m\u001b[0;34m)\u001b[0m\u001b[0;34m\u001b[0m\u001b[0;34m\u001b[0m\u001b[0m\n\u001b[0m\u001b[1;32m      3\u001b[0m \u001b[0;34m\u001b[0m\u001b[0m\n\u001b[1;32m      4\u001b[0m \u001b[0mplt\u001b[0m\u001b[0;34m.\u001b[0m\u001b[0mfigure\u001b[0m\u001b[0;34m(\u001b[0m\u001b[0mfigsize\u001b[0m\u001b[0;34m=\u001b[0m\u001b[0;34m(\u001b[0m\u001b[0;36m8\u001b[0m\u001b[0;34m,\u001b[0m \u001b[0;36m6\u001b[0m\u001b[0;34m)\u001b[0m\u001b[0;34m)\u001b[0m\u001b[0;34m\u001b[0m\u001b[0;34m\u001b[0m\u001b[0m\n\u001b[1;32m      5\u001b[0m sns.barplot(\n",
            "\u001b[0;32m/usr/local/lib/python3.12/dist-packages/pandas/core/frame.py\u001b[0m in \u001b[0;36mgroupby\u001b[0;34m(self, by, axis, level, as_index, sort, group_keys, observed, dropna)\u001b[0m\n\u001b[1;32m   9181\u001b[0m             \u001b[0;32mraise\u001b[0m \u001b[0mTypeError\u001b[0m\u001b[0;34m(\u001b[0m\u001b[0;34m\"You have to supply one of 'by' and 'level'\"\u001b[0m\u001b[0;34m)\u001b[0m\u001b[0;34m\u001b[0m\u001b[0;34m\u001b[0m\u001b[0m\n\u001b[1;32m   9182\u001b[0m \u001b[0;34m\u001b[0m\u001b[0m\n\u001b[0;32m-> 9183\u001b[0;31m         return DataFrameGroupBy(\n\u001b[0m\u001b[1;32m   9184\u001b[0m             \u001b[0mobj\u001b[0m\u001b[0;34m=\u001b[0m\u001b[0mself\u001b[0m\u001b[0;34m,\u001b[0m\u001b[0;34m\u001b[0m\u001b[0;34m\u001b[0m\u001b[0m\n\u001b[1;32m   9185\u001b[0m             \u001b[0mkeys\u001b[0m\u001b[0;34m=\u001b[0m\u001b[0mby\u001b[0m\u001b[0;34m,\u001b[0m\u001b[0;34m\u001b[0m\u001b[0;34m\u001b[0m\u001b[0m\n",
            "\u001b[0;32m/usr/local/lib/python3.12/dist-packages/pandas/core/groupby/groupby.py\u001b[0m in \u001b[0;36m__init__\u001b[0;34m(self, obj, keys, axis, level, grouper, exclusions, selection, as_index, sort, group_keys, observed, dropna)\u001b[0m\n\u001b[1;32m   1327\u001b[0m \u001b[0;34m\u001b[0m\u001b[0m\n\u001b[1;32m   1328\u001b[0m         \u001b[0;32mif\u001b[0m \u001b[0mgrouper\u001b[0m \u001b[0;32mis\u001b[0m \u001b[0;32mNone\u001b[0m\u001b[0;34m:\u001b[0m\u001b[0;34m\u001b[0m\u001b[0;34m\u001b[0m\u001b[0m\n\u001b[0;32m-> 1329\u001b[0;31m             grouper, exclusions, obj = get_grouper(\n\u001b[0m\u001b[1;32m   1330\u001b[0m                 \u001b[0mobj\u001b[0m\u001b[0;34m,\u001b[0m\u001b[0;34m\u001b[0m\u001b[0;34m\u001b[0m\u001b[0m\n\u001b[1;32m   1331\u001b[0m                 \u001b[0mkeys\u001b[0m\u001b[0;34m,\u001b[0m\u001b[0;34m\u001b[0m\u001b[0;34m\u001b[0m\u001b[0m\n",
            "\u001b[0;32m/usr/local/lib/python3.12/dist-packages/pandas/core/groupby/grouper.py\u001b[0m in \u001b[0;36mget_grouper\u001b[0;34m(obj, key, axis, level, sort, observed, validate, dropna)\u001b[0m\n\u001b[1;32m   1041\u001b[0m                 \u001b[0min_axis\u001b[0m\u001b[0;34m,\u001b[0m \u001b[0mlevel\u001b[0m\u001b[0;34m,\u001b[0m \u001b[0mgpr\u001b[0m \u001b[0;34m=\u001b[0m \u001b[0;32mFalse\u001b[0m\u001b[0;34m,\u001b[0m \u001b[0mgpr\u001b[0m\u001b[0;34m,\u001b[0m \u001b[0;32mNone\u001b[0m\u001b[0;34m\u001b[0m\u001b[0;34m\u001b[0m\u001b[0m\n\u001b[1;32m   1042\u001b[0m             \u001b[0;32melse\u001b[0m\u001b[0;34m:\u001b[0m\u001b[0;34m\u001b[0m\u001b[0;34m\u001b[0m\u001b[0m\n\u001b[0;32m-> 1043\u001b[0;31m                 \u001b[0;32mraise\u001b[0m \u001b[0mKeyError\u001b[0m\u001b[0;34m(\u001b[0m\u001b[0mgpr\u001b[0m\u001b[0;34m)\u001b[0m\u001b[0;34m\u001b[0m\u001b[0;34m\u001b[0m\u001b[0m\n\u001b[0m\u001b[1;32m   1044\u001b[0m         \u001b[0;32melif\u001b[0m \u001b[0misinstance\u001b[0m\u001b[0;34m(\u001b[0m\u001b[0mgpr\u001b[0m\u001b[0;34m,\u001b[0m \u001b[0mGrouper\u001b[0m\u001b[0;34m)\u001b[0m \u001b[0;32mand\u001b[0m \u001b[0mgpr\u001b[0m\u001b[0;34m.\u001b[0m\u001b[0mkey\u001b[0m \u001b[0;32mis\u001b[0m \u001b[0;32mnot\u001b[0m \u001b[0;32mNone\u001b[0m\u001b[0;34m:\u001b[0m\u001b[0;34m\u001b[0m\u001b[0;34m\u001b[0m\u001b[0m\n\u001b[1;32m   1045\u001b[0m             \u001b[0;31m# Add key to exclusions\u001b[0m\u001b[0;34m\u001b[0m\u001b[0;34m\u001b[0m\u001b[0m\n",
            "\u001b[0;31mKeyError\u001b[0m: 'Hipotesis3_Interaction'"
          ]
        }
      ]
    },
    {
      "cell_type": "code",
      "source": [
        "# --- 4. MODELO DE REGRESIÓN LOGÍSTICA PARA EL ANÁLISIS PRINCIPAL ---\n",
        "# SELECCIONAR VARIABLES INDEPENDIENTES Y DEPENDIENTES\n",
        "vars_i = df_hipotesis3[['Hipotesis3_Interaction', 'Age', 'Sex_male']]\n",
        "var_d = df_hipotesis3['Survived']\n",
        "vars_i = sm.add_constant(vars_i)\n",
        "\n",
        "try:\n",
        "    modelo = sm.Logit(var_d, vars_i).fit()\n",
        "    print(modelo.summary())\n",
        "\n",
        "    # --- 5. INTERPRETACIÓN DE RESULTADOS ---\n",
        "    odds_ratio = np.exp(modelo.params['Hipotesis3_Interaction'])\n",
        "    p_value = modelo.pvalues['Hipotesis3_Interaction']\n",
        "\n",
        "    print(f\"ODDS RATIO PARA LA INTERACCIÓN DE LA HIPÓTESIS 3: {odds_ratio:.4f}\")\n",
        "    print(f\"VALOR P PARA LA INTERACCIÓN DE LA HIPÓTESIS 3: {p_value:.4f}\")\n",
        "\n",
        "    if p_value < 0.05 and odds_ratio < 1.0:\n",
        "        print(\"\\nCONCLUSIÓN: LA HIPÓTESIS ES ESTADÍSTICAMENTE SIGNIFICATIVA Y ES APOYADA POR LOS DATOS.\")\n",
        "        print(\"LA POSIBILIDAD DE SUPERVIVENCIA DISMINUYE PARA ESTE GRUPO ESPECÍFICO.\")\n",
        "    else:\n",
        "        print(\"\\nCONCLUSIÓN: LA HIPÓTESIS NO ES ESTADÍSTICAMENTE SIGNIFICATIVA O NO SE CUMPLE.\")\n",
        "        print(\"EL VALOR P ES MAYOR A 0.05 O EL ODDS RATIO ES MAYOR A 1.\")\n",
        "\n",
        "except Exception as e:\n",
        "    print(f\"\\nERROR AL AJUSTAR EL MODELO: {e}\")"
      ],
      "metadata": {
        "id": "-bdhP8VOt73v",
        "outputId": "6375fb4f-9a49-445c-fe83-f05df7cf2524",
        "colab": {
          "base_uri": "https://localhost:8080/",
          "height": 356
        }
      },
      "execution_count": null,
      "outputs": [
        {
          "output_type": "error",
          "ename": "KeyError",
          "evalue": "\"['Hipotesis3_Interaction'] not in index\"",
          "traceback": [
            "\u001b[0;31m---------------------------------------------------------------------------\u001b[0m",
            "\u001b[0;31mKeyError\u001b[0m                                  Traceback (most recent call last)",
            "\u001b[0;32m/tmp/ipython-input-850351632.py\u001b[0m in \u001b[0;36m<cell line: 0>\u001b[0;34m()\u001b[0m\n\u001b[1;32m      1\u001b[0m \u001b[0;31m# --- 4. MODELO DE REGRESIÓN LOGÍSTICA PARA EL ANÁLISIS PRINCIPAL ---\u001b[0m\u001b[0;34m\u001b[0m\u001b[0;34m\u001b[0m\u001b[0m\n\u001b[1;32m      2\u001b[0m \u001b[0;31m# SELECCIONAR VARIABLES INDEPENDIENTES Y DEPENDIENTES\u001b[0m\u001b[0;34m\u001b[0m\u001b[0;34m\u001b[0m\u001b[0m\n\u001b[0;32m----> 3\u001b[0;31m \u001b[0mvars_i\u001b[0m \u001b[0;34m=\u001b[0m \u001b[0mdf_hipotesis3\u001b[0m\u001b[0;34m[\u001b[0m\u001b[0;34m[\u001b[0m\u001b[0;34m'Hipotesis3_Interaction'\u001b[0m\u001b[0;34m,\u001b[0m \u001b[0;34m'Age'\u001b[0m\u001b[0;34m,\u001b[0m \u001b[0;34m'Sex_male'\u001b[0m\u001b[0;34m]\u001b[0m\u001b[0;34m]\u001b[0m\u001b[0;34m\u001b[0m\u001b[0;34m\u001b[0m\u001b[0m\n\u001b[0m\u001b[1;32m      4\u001b[0m \u001b[0mvar_d\u001b[0m \u001b[0;34m=\u001b[0m \u001b[0mdf_hipotesis3\u001b[0m\u001b[0;34m[\u001b[0m\u001b[0;34m'Survived'\u001b[0m\u001b[0;34m]\u001b[0m\u001b[0;34m\u001b[0m\u001b[0;34m\u001b[0m\u001b[0m\n\u001b[1;32m      5\u001b[0m \u001b[0mvars_i\u001b[0m \u001b[0;34m=\u001b[0m \u001b[0msm\u001b[0m\u001b[0;34m.\u001b[0m\u001b[0madd_constant\u001b[0m\u001b[0;34m(\u001b[0m\u001b[0mvars_i\u001b[0m\u001b[0;34m)\u001b[0m\u001b[0;34m\u001b[0m\u001b[0;34m\u001b[0m\u001b[0m\n",
            "\u001b[0;32m/usr/local/lib/python3.12/dist-packages/pandas/core/frame.py\u001b[0m in \u001b[0;36m__getitem__\u001b[0;34m(self, key)\u001b[0m\n\u001b[1;32m   4106\u001b[0m             \u001b[0;32mif\u001b[0m \u001b[0mis_iterator\u001b[0m\u001b[0;34m(\u001b[0m\u001b[0mkey\u001b[0m\u001b[0;34m)\u001b[0m\u001b[0;34m:\u001b[0m\u001b[0;34m\u001b[0m\u001b[0;34m\u001b[0m\u001b[0m\n\u001b[1;32m   4107\u001b[0m                 \u001b[0mkey\u001b[0m \u001b[0;34m=\u001b[0m \u001b[0mlist\u001b[0m\u001b[0;34m(\u001b[0m\u001b[0mkey\u001b[0m\u001b[0;34m)\u001b[0m\u001b[0;34m\u001b[0m\u001b[0;34m\u001b[0m\u001b[0m\n\u001b[0;32m-> 4108\u001b[0;31m             \u001b[0mindexer\u001b[0m \u001b[0;34m=\u001b[0m \u001b[0mself\u001b[0m\u001b[0;34m.\u001b[0m\u001b[0mcolumns\u001b[0m\u001b[0;34m.\u001b[0m\u001b[0m_get_indexer_strict\u001b[0m\u001b[0;34m(\u001b[0m\u001b[0mkey\u001b[0m\u001b[0;34m,\u001b[0m \u001b[0;34m\"columns\"\u001b[0m\u001b[0;34m)\u001b[0m\u001b[0;34m[\u001b[0m\u001b[0;36m1\u001b[0m\u001b[0;34m]\u001b[0m\u001b[0;34m\u001b[0m\u001b[0;34m\u001b[0m\u001b[0m\n\u001b[0m\u001b[1;32m   4109\u001b[0m \u001b[0;34m\u001b[0m\u001b[0m\n\u001b[1;32m   4110\u001b[0m         \u001b[0;31m# take() does not accept boolean indexers\u001b[0m\u001b[0;34m\u001b[0m\u001b[0;34m\u001b[0m\u001b[0m\n",
            "\u001b[0;32m/usr/local/lib/python3.12/dist-packages/pandas/core/indexes/base.py\u001b[0m in \u001b[0;36m_get_indexer_strict\u001b[0;34m(self, key, axis_name)\u001b[0m\n\u001b[1;32m   6198\u001b[0m             \u001b[0mkeyarr\u001b[0m\u001b[0;34m,\u001b[0m \u001b[0mindexer\u001b[0m\u001b[0;34m,\u001b[0m \u001b[0mnew_indexer\u001b[0m \u001b[0;34m=\u001b[0m \u001b[0mself\u001b[0m\u001b[0;34m.\u001b[0m\u001b[0m_reindex_non_unique\u001b[0m\u001b[0;34m(\u001b[0m\u001b[0mkeyarr\u001b[0m\u001b[0;34m)\u001b[0m\u001b[0;34m\u001b[0m\u001b[0;34m\u001b[0m\u001b[0m\n\u001b[1;32m   6199\u001b[0m \u001b[0;34m\u001b[0m\u001b[0m\n\u001b[0;32m-> 6200\u001b[0;31m         \u001b[0mself\u001b[0m\u001b[0;34m.\u001b[0m\u001b[0m_raise_if_missing\u001b[0m\u001b[0;34m(\u001b[0m\u001b[0mkeyarr\u001b[0m\u001b[0;34m,\u001b[0m \u001b[0mindexer\u001b[0m\u001b[0;34m,\u001b[0m \u001b[0maxis_name\u001b[0m\u001b[0;34m)\u001b[0m\u001b[0;34m\u001b[0m\u001b[0;34m\u001b[0m\u001b[0m\n\u001b[0m\u001b[1;32m   6201\u001b[0m \u001b[0;34m\u001b[0m\u001b[0m\n\u001b[1;32m   6202\u001b[0m         \u001b[0mkeyarr\u001b[0m \u001b[0;34m=\u001b[0m \u001b[0mself\u001b[0m\u001b[0;34m.\u001b[0m\u001b[0mtake\u001b[0m\u001b[0;34m(\u001b[0m\u001b[0mindexer\u001b[0m\u001b[0;34m)\u001b[0m\u001b[0;34m\u001b[0m\u001b[0;34m\u001b[0m\u001b[0m\n",
            "\u001b[0;32m/usr/local/lib/python3.12/dist-packages/pandas/core/indexes/base.py\u001b[0m in \u001b[0;36m_raise_if_missing\u001b[0;34m(self, key, indexer, axis_name)\u001b[0m\n\u001b[1;32m   6250\u001b[0m \u001b[0;34m\u001b[0m\u001b[0m\n\u001b[1;32m   6251\u001b[0m             \u001b[0mnot_found\u001b[0m \u001b[0;34m=\u001b[0m \u001b[0mlist\u001b[0m\u001b[0;34m(\u001b[0m\u001b[0mensure_index\u001b[0m\u001b[0;34m(\u001b[0m\u001b[0mkey\u001b[0m\u001b[0;34m)\u001b[0m\u001b[0;34m[\u001b[0m\u001b[0mmissing_mask\u001b[0m\u001b[0;34m.\u001b[0m\u001b[0mnonzero\u001b[0m\u001b[0;34m(\u001b[0m\u001b[0;34m)\u001b[0m\u001b[0;34m[\u001b[0m\u001b[0;36m0\u001b[0m\u001b[0;34m]\u001b[0m\u001b[0;34m]\u001b[0m\u001b[0;34m.\u001b[0m\u001b[0munique\u001b[0m\u001b[0;34m(\u001b[0m\u001b[0;34m)\u001b[0m\u001b[0;34m)\u001b[0m\u001b[0;34m\u001b[0m\u001b[0;34m\u001b[0m\u001b[0m\n\u001b[0;32m-> 6252\u001b[0;31m             \u001b[0;32mraise\u001b[0m \u001b[0mKeyError\u001b[0m\u001b[0;34m(\u001b[0m\u001b[0;34mf\"{not_found} not in index\"\u001b[0m\u001b[0;34m)\u001b[0m\u001b[0;34m\u001b[0m\u001b[0;34m\u001b[0m\u001b[0m\n\u001b[0m\u001b[1;32m   6253\u001b[0m \u001b[0;34m\u001b[0m\u001b[0m\n\u001b[1;32m   6254\u001b[0m     \u001b[0;34m@\u001b[0m\u001b[0moverload\u001b[0m\u001b[0;34m\u001b[0m\u001b[0;34m\u001b[0m\u001b[0m\n",
            "\u001b[0;31mKeyError\u001b[0m: \"['Hipotesis3_Interaction'] not in index\""
          ]
        }
      ]
    },
    {
      "cell_type": "markdown",
      "source": [
        "# **INGENIERIA DE FEATURES**"
      ],
      "metadata": {
        "id": "6XCCQ9nX1Efh"
      }
    },
    {
      "cell_type": "markdown",
      "source": [
        "# 2.1 Creación de Variables Derivadas"
      ],
      "metadata": {
        "id": "CVsWx4_rqu97"
      }
    },
    {
      "cell_type": "code",
      "source": [
        "# --- 1. VARIABLE: Title (TITULO) ---\n",
        "\n",
        "def title_feature(df):\n",
        "    df['Title'] = df['Name'].str.extract(' ([A-Za-z]+)\\.', expand=False)\n",
        "    df['Title'] = df['Title'].replace(['Lady', 'Countess','Capt', 'Col','Don', 'Dr', 'Major', 'Rev', 'Sir', 'Jonkheer', 'Dona'], 'Rare')\n",
        "    df['Title'] = df['Title'].replace('Mlle', 'Miss')\n",
        "    df['Title'] = df['Title'].replace('Ms', 'Miss')\n",
        "    df['Title'] = df['Title'].replace('Mme', 'Mrs')\n",
        "    # ANÁLISIS DE LA RELACIÓN CON SUPERVIVENCIA\n",
        "    print(\"RELACIÓN DE 'Title' CON LA SUPERVIVENCIA:\")\n",
        "    print(df.groupby('Title')['Survived'].mean().sort_values(ascending=False))\n",
        "    # VERIFICACIÓN DE CALIDAD\n",
        "    print(\"\\nVERIFICACIÓN DE VALORES ÚNICOS Y CONTEO:\")\n",
        "    print(df['Title'].value_counts())\n",
        "\n",
        "title_feature(df)\n"
      ],
      "metadata": {
        "id": "28XBfJhg1OGH"
      },
      "execution_count": null,
      "outputs": []
    },
    {
      "cell_type": "code",
      "source": [
        "# --- 2. VARIABLE: FamilySize (TAMAÑO DE LA FAMILIA) ---\n",
        "\n",
        "def family_size_feature(df):\n",
        "    df['FamilySize'] = df['SibSp'] + df['Parch'] + 1\n",
        "    # ANÁLISIS DE LA RELACIÓN CON SUPERVIVENCIA\n",
        "    print(\"RELACIÓN DE 'FamilySize' CON LA SUPERVIVENCIA:\")\n",
        "    print(df.groupby('FamilySize')['Survived'].mean())\n",
        "    # VERIFICACIÓN DE CALIDAD\n",
        "    print(\"\\nVERIFICACIÓN DE VALORES ÚNICOS Y CONTEO:\")\n",
        "    print(df['FamilySize'].value_counts().sort_index())\n",
        "\n",
        "family_size_feature(df)"
      ],
      "metadata": {
        "id": "TWOwRZFA1VJK"
      },
      "execution_count": null,
      "outputs": []
    },
    {
      "cell_type": "code",
      "source": [
        "# --- 3. VARIABLE: IsAlone (ESTA SOLO) ---\n",
        "\n",
        "def is_alone_feature(df):\n",
        "    df['IsAlone'] = (df['FamilySize'] == 1).astype(int)\n",
        "    # ANÁLISIS DE LA RELACIÓN CON SUPERVIVENCIA\n",
        "    print(\"RELACIÓN DE 'IsAlone' CON LA SUPERVIVENCIA:\")\n",
        "    print(df.groupby('IsAlone')['Survived'].mean())\n",
        "    # VERIFICACIÓN DE CALIDAD\n",
        "    print(\"\\nVERIFICACIÓN DE VALORES ÚNICOS Y CONTEO:\")\n",
        "    print(df['IsAlone'].value_counts())\n",
        "\n",
        "is_alone_feature(df)"
      ],
      "metadata": {
        "id": "xbtYqUZ51iKg"
      },
      "execution_count": null,
      "outputs": []
    },
    {
      "cell_type": "code",
      "source": [
        "# --- 4. VARIABLE: AgeGroup (GRUPO DE EDAD) ---\n",
        "# MANEJO DE VALORES NULOS PARA LA EDAD\n",
        "\n",
        "def age_group_feature(df):\n",
        "      df['Age'].fillna(df['Age'].median(), inplace=True)\n",
        "      bins = [0, 12, 18, 60, np.inf]\n",
        "      labels = ['Child', 'Adolescent/Teenager', 'Adult', 'Senior']\n",
        "      df['AgeGroup'] = pd.cut(df['Age'], bins=bins, labels=labels, right=False)\n",
        "      # ANÁLISIS DE LA RELACIÓN CON SUPERVIVENCIA\n",
        "      print(\"RELACIÓN DE 'AgeGroup' CON LA SUPERVIVENCIA:\")\n",
        "      print(df.groupby('AgeGroup')['Survived'].mean().sort_values(ascending=False))\n",
        "      # VERIFICACIÓN DE CALIDAD\n",
        "      print(\"\\nVERIFICACIÓN DE VALORES ÚNICOS Y CONTEO:\")\n",
        "      print(df['AgeGroup'].value_counts())\n",
        "\n",
        "age_group_feature(df)\n"
      ],
      "metadata": {
        "id": "tzbl0HK11mCa"
      },
      "execution_count": null,
      "outputs": []
    },
    {
      "cell_type": "code",
      "source": [
        "# --- 5. VARIABLE: FarePerPerson (TARIFA POR PERSONA) ---\n",
        "\n",
        "def fare_per_person_feature(df):\n",
        "    df['FarePerPerson'] = df['Fare'] / df['FamilySize']\n",
        "    df['FarePerPerson'].fillna(df['FarePerPerson'].mean(), inplace=True) # Manejo de Nulos\n",
        "    # ANÁLISIS DE LA RELACIÓN CON SUPERVIVENCIA (AGRUPANDO EN RANGOS)\n",
        "    print(\"RELACIÓN DE 'FarePerPerson' CON LA SUPERVIVENCIA (POR RANGOS):\")\n",
        "    df['FarePerPerson_Group'] = pd.qcut(df['FarePerPerson'], 4, labels=['Q1', 'Q2', 'Q3', 'Q4'])\n",
        "    print(df.groupby('FarePerPerson_Group')['Survived'].mean().sort_values(ascending=False))\n",
        "    # VERIFICACIÓN DE CALIDAD\n",
        "    print(\"\\nVERIFICACIÓN DE LA DISTRIBUCIÓN:\")\n",
        "    print(df['FarePerPerson'].describe())\n",
        "\n",
        "fare_per_person_feature(df)\n"
      ],
      "metadata": {
        "id": "ubw3sKVw1uZB"
      },
      "execution_count": null,
      "outputs": []
    },
    {
      "cell_type": "code",
      "source": [
        "# --- 6. VARIABLE: CabinDeck (CUBIERTA DE LA CABINA) ---\n",
        "\n",
        "def cabin_deck_feature(df):\n",
        "    df['CabinDeck'] = df['Cabin'].str.extract('([A-Z])', expand=False)\n",
        "    df['CabinDeck'].fillna('Unknown', inplace=True)\n",
        "    # ANÁLISIS DE LA RELACIÓN CON SUPERVIVENCIA\n",
        "    print(\"RELACIÓN DE 'CabinDeck' CON LA SUPERVIVENCIA:\")\n",
        "    print(df.groupby('CabinDeck')['Survived'].mean().sort_values(ascending=False))\n",
        "    # VERIFICACIÓN DE CALIDAD\n",
        "    print(\"\\nVERIFICACIÓN DE VALORES ÚNICOS Y CONTEO:\")\n",
        "    print(df['CabinDeck'].value_counts())\n",
        "\n",
        "cabin_deck_feature(df)"
      ],
      "metadata": {
        "id": "OGxGNvYT1zsH"
      },
      "execution_count": null,
      "outputs": []
    },
    {
      "cell_type": "code",
      "source": [
        "# --- 7. VARIABLE: CabinKnown (CABINA CONOCIDA) ---\n",
        "\n",
        "def cabin_known_feature(df):\n",
        "  df['CabinKnown'] = df['Cabin'].isnull().astype(int)\n",
        "  # ANÁLISIS DE LA RELACIÓN CON SUPERVIVENCIA\n",
        "  print(\"RELACIÓN DE 'CabinKnown' CON LA SUPERVIVENCIA:\")\n",
        "  print(df.groupby('CabinKnown')['Survived'].mean())\n",
        "  # VERIFICACIÓN DE CALIDAD\n",
        "  print(\"\\nVERIFICACIÓN DE VALORES ÚNICOS Y CONTEO:\")\n",
        "  print(df['CabinKnown'].value_counts())\n",
        "\n",
        "cabin_known_feature(df)\n"
      ],
      "metadata": {
        "id": "7yPxHlL3143F"
      },
      "execution_count": null,
      "outputs": []
    },
    {
      "cell_type": "code",
      "source": [
        "# --- 8. VARIABLE: TicketFrequency (FREQUENCIA DE TICKEY ) ---\n",
        "\n",
        "def ticket_frequency_feature(df):\n",
        "  df['TicketFrequency'] = df.groupby('Ticket')['Ticket'].transform('count')\n",
        "  # ANÁLISIS DE LA RELACIÓN CON SUPERVIVENCIA\n",
        "  print(\"RELACIÓN DE 'TicketFrequency' CON LA SUPERVIVENCIA:\")\n",
        "  print(df.groupby('TicketFrequency')['Survived'].mean())\n",
        "  # VERIFICACIÓN DE CALIDAD\n",
        "  print(\"\\nVERIFICACIÓN DE VALORES ÚNICOS Y CONTEO:\")\n",
        "  print(df['TicketFrequency'].value_counts().sort_index())\n",
        "\n",
        "ticket_frequency_feature(df)"
      ],
      "metadata": {
        "id": "y2C0HyCmkhNw"
      },
      "execution_count": null,
      "outputs": []
    },
    {
      "cell_type": "code",
      "source": [
        "# --- 9. VARIABLE: NameLength (LONGITUD DE NOMBRE ) ---\n",
        "\n",
        "def name_length_feature(df):\n",
        "  df['NameLength'] = df['Name'].str.len()\n",
        "  # ANÁLISIS DE LA RELACIÓN CON SUPERVIVENCIA\n",
        "  print(\"RELACIÓN DE 'NameLength' CON LA SUPERVIVENCIA:\")\n",
        "  print(df.groupby('NameLength')['Survived'].mean())\n",
        "  # VERIFICACIÓN DE CALIDAD\n",
        "  print(\"\\nVERIFICACIÓN DE VALORES ÚNICOS Y CONTEO:\")\n",
        "  print(df['NameLength'].value_counts().sort_index())\n",
        "\n",
        "name_length_feature(df)\n"
      ],
      "metadata": {
        "id": "agVshEFRm4fA"
      },
      "execution_count": null,
      "outputs": []
    },
    {
      "cell_type": "code",
      "source": [
        "# --- 10. VARIABLE: HasCabinNeighbor (CABINAS CERCANAS CON FAMILIARES ) ---\n",
        "\n",
        "def has_cabin_neighbor_feature(df):\n",
        "    df['HasCabinNeighbor'] = df['Cabin'].notnull().astype(int)\n",
        "    # ANÁLISIS DE LA RELACIÓN CON SUPERVIVENCIA\n",
        "    print(\"RELACIÓN DE 'HasCabinNeighbor' CON LA SUPERVIVENCIA:\")\n",
        "    print(df.groupby('HasCabinNeighbor')['Survived'].mean())\n",
        "    # VERIFICACIÓN DE CALIDAD\n",
        "    print(\"\\nVERIFICACIÓN DE VALORES ÚNICOS Y CONTEO:\")\n",
        "    print(df['HasCabinNeighbor'].value_counts())\n",
        "\n",
        "has_cabin_neighbor_feature(df)"
      ],
      "metadata": {
        "id": "TXKRBOGknN8g"
      },
      "execution_count": null,
      "outputs": []
    },
    {
      "cell_type": "code",
      "source": [
        "# --- 11. VARIABLE: TicketPrefix (PREFIJO DEL TCIKET ) ---\n",
        "\n",
        "def ticket_prefix_feature(df):\n",
        "    df['TicketPrefix'] = df['Ticket'].str.extract(r'([A-Za-z]+)\\d*')\n",
        "    df['TicketPrefix'].fillna('Unknown', inplace=True)\n",
        "    # ANÁLISIS DE LA RELACIÓN CON SUPERVIVENCIA\n",
        "    print(\"RELACIÓN DE 'TicketPrefix' CON LA SUPERVIVENCIA:\")\n",
        "    print(df.groupby('TicketPrefix')['Survived'].mean().sort_values(ascending=False))\n",
        "    # VERIFICACIÓN DE CALIDAD\n",
        "    print(\"\\nVERIFICACIÓN DE VALORES ÚNICOS Y CONTEO:\")\n",
        "    print(df['TicketPrefix'].value_counts())\n",
        "\n",
        "ticket_prefix_feature(df)\n",
        "\n"
      ],
      "metadata": {
        "id": "IQyRq7HBwwks"
      },
      "execution_count": null,
      "outputs": []
    },
    {
      "cell_type": "markdown",
      "source": [
        "# 2.2 Transformaciones de Variables Existentes"
      ],
      "metadata": {
        "id": "BCklg8pfp9oX"
      }
    },
    {
      "cell_type": "code",
      "source": [
        "from sklearn.pipeline import Pipeline\n",
        "from sklearn.compose import ColumnTransformer\n",
        "from sklearn.impute import SimpleImputer, KNNImputer\n",
        "from sklearn.experimental import enable_iterative_imputer\n",
        "from sklearn.impute import IterativeImputer\n",
        "from sklearn.preprocessing import StandardScaler, OneHotEncoder"
      ],
      "metadata": {
        "id": "OsKK2dFwq1BG"
      },
      "execution_count": null,
      "outputs": []
    },
    {
      "cell_type": "code",
      "source": [
        "# Estructura mínima requerida:\n",
        "class TitanicDatasetPreprocessor:\n",
        "    def __init__(self, imputation_strategy='knn'):\n",
        "        self.imputation_strategy = imputation_strategy\n",
        "        self.encoders = {}\n",
        "        self.scalers = {}\n",
        "\n",
        "    def fit(self, X, y=None):\n",
        "        # Aprender parámetros de transformación\n",
        "        return self\n",
        "\n",
        "    def transform(self, X):\n",
        "        # Aplicar transformaciones\n",
        "        return X_transformed\n",
        "\n",
        "    def fit_transform(self, X, y=None):\n",
        "        return self.fit(X, y).transform(X)\n",
        "\n"
      ],
      "metadata": {
        "id": "48C-pOA3rKew"
      },
      "execution_count": null,
      "outputs": []
    },
    {
      "cell_type": "markdown",
      "source": [
        "## Consideraciones de Sesgo y Ética"
      ],
      "metadata": {
        "id": "yybjMqg6VNCg"
      }
    },
    {
      "cell_type": "markdown",
      "source": [
        "1. Sesgo de supervivencia"
      ],
      "metadata": {
        "id": "DqoZDvNOVT-N"
      }
    },
    {
      "cell_type": "code",
      "source": [
        "# Calcular el porcentaje de valores faltantes por columna para supervivientes y no supervivientes\n",
        "missing_survived = df[df['Survived'] == 1].isnull().sum() / len(df[df['Survived'] == 1]) * 100\n",
        "missing_not_survived = df[df['Survived'] == 0].isnull().sum() / len(df[df['Survived'] == 0]) * 100\n",
        "\n",
        "# Crear un DataFrame para facilitar la visualización\n",
        "missing_data = pd.DataFrame({'Survived': missing_survived, 'Not Survived': missing_not_survived})\n",
        "\n",
        "# Eliminar filas donde no hay valores faltantes en ninguna de las categorías\n",
        "missing_data = missing_data[(missing_data['Survived'] > 0) | (missing_data['Not Survived'] > 0)]\n",
        "\n",
        "# Graficar\n",
        "plt.figure(figsize=(12, 6))\n",
        "missing_data.plot(kind='bar', figsize=(12, 6))\n",
        "plt.title('Porcentaje de Valores Faltantes por Columna (Supervivientes vs. No Supervivientes)')\n",
        "plt.xlabel('Columnas')\n",
        "plt.ylabel('Porcentaje de Valores Faltantes (%)')\n",
        "plt.xticks(rotation=45, ha='right')\n",
        "plt.tight_layout()\n",
        "plt.show()"
      ],
      "metadata": {
        "id": "K9XVE_5RVQzU"
      },
      "execution_count": null,
      "outputs": []
    },
    {
      "cell_type": "markdown",
      "source": [
        "Estrategia de mitigación sobre el sesgo de supervivencia: Análisis de sensibilidad"
      ],
      "metadata": {
        "id": "8I6Wg7ws2LVP"
      }
    },
    {
      "cell_type": "code",
      "source": [
        "# Análisis de Sensibilidad para Mitigar el Sesgo de Supervivencia\n",
        "# Estrategia: Imputar valores faltantes bajo diferentes supuestos y observar cómo afecta a los resultados clave.\n",
        "\n",
        "# 1. Imputación Pessimista: Asumir que todos los pasajeros con cabina desconocida (NaN) NO sobrevivieron.\n",
        "df_pessimist = df.copy()\n",
        "df_pessimist['Cabin'].fillna('Unknown', inplace=True)\n",
        "# Creamos una columna binaria para indicar si la cabina era desconocida\n",
        "df_pessimist['CabinUnknown'] = (df_pessimist['Cabin'] == 'Unknown').astype(int)\n",
        "# Asignamos 0 a 'Survived' para los que tenían 'CabinUnknown' (solo si 'Survived' no es nulo originalmente)\n",
        "df_pessimist.loc[df_pessimist['CabinUnknown'] == 1, 'Survived_Pessimist'] = 0\n",
        "# Para el resto, usamos el valor original de 'Survived'\n",
        "df_pessimist.loc[df_pessimist['CabinUnknown'] == 0, 'Survived_Pessimist'] = df_pessimist['Survived']\n",
        "\n",
        "print(\"\\n--- Análisis de Sensibilidad (Imputación Pessimista) ---\")\n",
        "print(\"Tasa de supervivencia con imputación pesimista:\", df_pessimist['Survived_Pessimist'].mean())\n",
        "\n",
        "# 2. Imputación Optimista: Asumir que todos los pasajeros con cabina desconocida (NaN) SÍ sobrevivieron.\n",
        "df_optimist = df.copy()\n",
        "df_optimist['Cabin'].fillna('Unknown', inplace=True)\n",
        "df_optimist['CabinUnknown'] = (df_optimist['Cabin'] == 'Unknown').astype(int)\n",
        "# Asignamos 1 a 'Survived' para los que tenían 'CabinUnknown'\n",
        "df_optimist.loc[df_optimist['CabinUnknown'] == 1, 'Survived_Optimist'] = 1\n",
        "# Para el resto, usamos el valor original de 'Survived'\n",
        "df_optimist.loc[df_optimist['CabinUnknown'] == 0, 'Survived_Optimist'] = df_optimist['Survived']\n",
        "\n",
        "print(\"\\n--- Análisis de Sensibilidad (Imputación Optimista) ---\")\n",
        "print(\"Tasa de supervivencia con imputación optimista:\", df_optimist['Survived_Optimist'].mean())\n",
        "\n",
        "# 3. Comparación con la tasa de supervivencia original\n",
        "print(\"\\n--- Comparación ---\")\n",
        "print(\"Tasa de supervivencia original:\", df['Survived'].mean())\n",
        "\n",
        "# Interpretación: La diferencia en las tasas de supervivencia bajo los escenarios optimista y pesimista\n",
        "# indica la sensibilidad de los resultados a la forma en que se tratan los valores faltantes en la cabina.\n",
        "# Si la diferencia es grande, el sesgo por datos faltantes en la cabina es significativo."
      ],
      "metadata": {
        "id": "QqdVIfpd2QgF"
      },
      "execution_count": null,
      "outputs": []
    },
    {
      "cell_type": "code",
      "source": [
        "# Calcular el porcentaje de valores faltantes por columna para cada clase social\n",
        "missing_pclass1 = df[df['Pclass'] == 1].isnull().sum() / len(df[df['Pclass'] == 1]) * 100\n",
        "missing_pclass2 = df[df['Pclass'] == 2].isnull().sum() / len(df[df['Pclass'] == 2]) * 100\n",
        "missing_pclass3 = df[df['Pclass'] == 3].isnull().sum() / len(df[df['Pclass'] == 3]) * 100\n",
        "\n",
        "\n",
        "# Crear un DataFrame para facilitar la visualización\n",
        "missing_data_pclass = pd.DataFrame({'Pclass 1': missing_pclass1, 'Pclass 2': missing_pclass2, 'Pclass 3': missing_pclass3})\n",
        "\n",
        "# Eliminar filas donde no hay valores faltantes en ninguna de las categorías\n",
        "missing_data_pclass = missing_data_pclass[(missing_data_pclass['Pclass 1'] > 0) | (missing_data_pclass['Pclass 2'] > 0) | (missing_data_pclass['Pclass 3'] > 0)]\n",
        "\n",
        "# Graficar\n",
        "plt.figure(figsize=(12, 6))\n",
        "missing_data_pclass.plot(kind='bar', figsize=(12, 6))\n",
        "plt.title('Porcentaje de Valores Faltantes por Columna (Por Clase Social)')\n",
        "plt.xlabel('Columnas')\n",
        "plt.ylabel('Porcentaje de Valores Faltantes (%)')\n",
        "plt.xticks(rotation=45, ha='right')\n",
        "plt.tight_layout()\n",
        "plt.show()"
      ],
      "metadata": {
        "id": "BkKKQsvjXP8z"
      },
      "execution_count": null,
      "outputs": []
    },
    {
      "cell_type": "code",
      "source": [
        "# Calcular el porcentaje de valores faltantes por columna por género\n",
        "missing_men = df[df['Sex'] == 'male'].isnull().sum() / len(df[df['Sex'] == 'male']) * 100\n",
        "missing_women = df[df['Sex'] == 'female'].isnull().sum() / len(df[df['Sex'] == 'female']) * 100\n",
        "\n",
        "\n",
        "# Crear un DataFrame para facilitar la visualización\n",
        "missing_data_gender = pd.DataFrame({'Men': missing_men, 'Women': missing_women})\n",
        "\n",
        "# Eliminar filas donde no hay valores faltantes en ninguna de las categorías\n",
        "missing_data_gender = missing_data_gender[(missing_data_gender['Men'] > 0) | (missing_data_gender['Women'] > 0)]\n",
        "\n",
        "# Graficar\n",
        "plt.figure(figsize=(12, 6))\n",
        "missing_data_gender.plot(kind='bar', figsize=(12, 6))\n",
        "plt.title('Porcentaje de Valores Faltantes por Columna (Por sexo)')\n",
        "plt.xlabel('Columnas')\n",
        "plt.ylabel('Porcentaje de Valores Faltantes (%)')\n",
        "plt.xticks(rotation=45, ha='right')\n",
        "plt.tight_layout()\n",
        "plt.show()"
      ],
      "metadata": {
        "id": "GGDd8Px-X5LQ"
      },
      "execution_count": null,
      "outputs": []
    },
    {
      "cell_type": "code",
      "source": [],
      "metadata": {
        "id": "vUWlBILaaLKf"
      },
      "execution_count": null,
      "outputs": []
    },
    {
      "cell_type": "markdown",
      "metadata": {
        "id": "0815f612"
      },
      "source": [
        "## 2. Sesgo Histórico y Grupos Subrepresentados\n",
        "\n",
        "Es crucial considerar si existen sesgos históricos inherentes al evento del Titanic que puedan verse reflejados en el dataset, lo que podría llevar a la subrepresentación de ciertos grupos entre los supervivientes o incluso en los datos disponibles.\n",
        "\n",
        "**Posibles áreas de Sesgo Histórico:**\n",
        "\n",
        "*   **Clase Social:** Históricamente, los pasajeros de clases más bajas a menudo tuvieron menos acceso a botes salvavidas y peores condiciones de viaje. Esto podría significar una subrepresentación de las clases bajas entre los supervivientes.\n",
        "*   **Género:** Las políticas de \"mujeres y niños primero\" influyeron significativamente en las tasas de supervivencia, lo que resultó en una mayor proporción de mujeres y niños entre los supervivientes en comparación con los hombres adultos.\n",
        "*   **Edad:** Similar al género, los niños fueron priorizados, lo que podría llevar a una subrepresentación de adultos jóvenes y de mediana edad entre los supervivientes.\n",
        "*   **Origen/Puerto de Embarque:** Las condiciones y la organización del embarque en los diferentes puertos (Southampton, Cherbourg, Queenstown) podrían haber afectado a diferentes grupos de pasajeros de manera desigual.\n",
        "\n",
        "**Análisis en el Dataset:**\n",
        "\n",
        "Para investigar esto en nuestro dataset, podemos analizar la distribución de los pasajeros por clase social, género y edad, y comparar estas distribuciones con las tasas de supervivencia.\n",
        "\n",
        "**Próximos Pasos para Identificar Sesgo:**\n",
        "\n",
        "Podemos generar visualizaciones y estadísticas para explorar la composición del dataset en términos de estas características demográficas y observar cómo se distribuye la supervivencia dentro de estos grupos. Por ejemplo:\n",
        "\n",
        "*   Gráficos de barras que muestren el número de pasajeros por clase, género y grupo de edad.\n",
        "*   Comparación de las tasas de supervivencia por clase, género y grupo de edad.\n",
        "*   Análisis combinado de factores, como la supervivencia por género dentro de cada clase.\n",
        "\n",
        "Este análisis nos ayudará a identificar qué grupos podrían haber estado en desventaja histórica y si esa desventaja se refleja en su representación en el conjunto de datos de supervivientes."
      ]
    },
    {
      "cell_type": "markdown",
      "source": [
        "# Tratamiento de datos faltantes\n",
        "\n",
        "WIP local de Omar"
      ],
      "metadata": {
        "id": "o-qNV_2lhnlO"
      }
    },
    {
      "cell_type": "markdown",
      "source": [
        "# Tratamiento de datos faltantes\n",
        "\n",
        "Hay solamente 3 columnas con valores faltantes en el dataset:\n",
        "\n",
        "\n",
        "\n",
        "1.   Edad (`Age`)\n",
        "2.   Cabina (`Cabin`)\n",
        "3.   Puerto de embarcación (`Cabin`)\n",
        "\n"
      ],
      "metadata": {
        "id": "QPkf2-KiNaa8"
      }
    },
    {
      "cell_type": "code",
      "source": [
        "df = pd.read_csv(\"Titanic-Dataset.csv\") # vuelvo a cargar los datos, porque fueron rellenados en analisis anteriores.\n",
        "df['FamilySize'] = df['SibSp'] + df['Parch'] + 1\n",
        "df['Fare_bin'] = pd.qcut(df['Fare'], 4, labels=[\"Q1\",\"Q2\",\"Q3\",\"Q4\"])\n",
        "\n",
        "# Crear indicadores de valores faltantes\n",
        "df['Age_missing'] = df['Age'].isnull().astype(int)\n",
        "df['Cabin_missing'] = df['Cabin'].isnull().astype(int)\n",
        "df['Embarked_missing'] = df['Embarked'].isnull().astype(int)\n",
        "\n",
        "df.columns[df.isna().any()]\n"
      ],
      "metadata": {
        "id": "Gz5-dZ-G029B"
      },
      "execution_count": null,
      "outputs": []
    },
    {
      "cell_type": "markdown",
      "source": [
        "## Missingness de puerto de embarcación (`Embarked`)"
      ],
      "metadata": {
        "id": "ZeEvhlwQ6T5-"
      }
    },
    {
      "cell_type": "markdown",
      "source": [
        "Embarked es la unica columna en la que menos de 10 valores falta. En total, solo faltan 2 valores, ambos en primera clase:"
      ],
      "metadata": {
        "id": "5Gp3KqCo6k2Q"
      }
    },
    {
      "cell_type": "code",
      "source": [
        "df[df['Embarked'].isnull() == True]"
      ],
      "metadata": {
        "id": "1hMLeqfx6tDU"
      },
      "execution_count": null,
      "outputs": []
    },
    {
      "cell_type": "markdown",
      "source": [
        "Las dos mujeres sin la indicación del puerto en el que subieron comparten el mismo numero de ticket (en primera clase), ambas sobrevivieron, y estaban en la misma cabina.\n",
        "\n",
        "Es difícil decir si hay relación entre el valor faltante y las demás variables, pues más allá de estas coincidencias parece que no había un parentezco o relación entre ellas.\n",
        "*   No comparten apellidos\n",
        "*   No indican tener parientes abordo\n",
        "\n",
        "Son las unicas dos personas en la cabina B28, así que nuestra mejor teoría es que no se registró"
      ],
      "metadata": {
        "id": "R9TsPU9E8OVt"
      }
    },
    {
      "cell_type": "markdown",
      "source": [
        "Para esta variable concluimos que es **completamente aleatoria**, pero por el tamaño de muestra tan pequeño, es practicamente imposible hacer un análisis estadístico más profundo con significancia.\n",
        "\n",
        "#### Imputación\n",
        "\n",
        "Al ser una muestra tan pequeña, usar la moda entre los pasajeros de primera clase, Southampton, es razonable, y no debería de lastimar ningún análisis que asuma así el dato. Dicho eso, solamente 2 pasajeros no tienen este dato, puede que sea mejor simplemente eliminarlos de la muestra cuando sea de importancia el puerto."
      ],
      "metadata": {
        "id": "sNt4a1m0-JAq"
      }
    },
    {
      "cell_type": "markdown",
      "source": [
        "## Missingness de Cabin"
      ],
      "metadata": {
        "id": "rD350I2lvcf6"
      }
    },
    {
      "cell_type": "markdown",
      "source": [
        "### Patrón de missingess\n",
        "\n",
        "La falta de los valores de Cabin es bastante notorio, e incluso al primer vistazo es aparente que no es **completamente** aleatorio, sino que está fuertemente correlacionado a la clase de boleto y su costo, pero sin ser basado en el valor mismo de la columna. **(MAR)**"
      ],
      "metadata": {
        "id": "8NcEb-Uryesl"
      }
    },
    {
      "cell_type": "markdown",
      "source": [
        "### Evidencia Estadística"
      ],
      "metadata": {
        "id": "5DFe6SoYN5v9"
      }
    },
    {
      "cell_type": "markdown",
      "source": [
        "Hay multiples correlaciones que se exploraron para llegar a esta conclusión, empezando por la evidente correlación a la clase de boleto, seguido de la supervivencia, la tarifa pagada, y el tamaño de la familia."
      ],
      "metadata": {
        "id": "PJ5FS6fLyuE9"
      }
    },
    {
      "cell_type": "code",
      "source": [
        "df['Cabin_missing'] = df['Cabin'].isnull().astype(int)\n",
        "\n",
        "pivot_cabin_class = df.groupby(\"Pclass\")[\"Cabin_missing\"].mean() * 100\n",
        "pivot_cabin_surv = df.groupby(\"Survived\")[\"Cabin_missing\"].mean() * 100\n",
        "pivot_cabin_fare = df.groupby(\"Fare_bin\")[\"Cabin_missing\"].mean() * 100\n",
        "pivot_cabin_family = df.groupby(\"FamilySize\")[\"Cabin_missing\"].mean() * 100\n",
        "\n",
        "fig, axes = plt.subplots(2, 2, figsize=(12, 10))\n",
        "\n",
        "# Por Clase\n",
        "pivot_cabin_class.plot(kind=\"bar\", color=\"steelblue\", ax=axes[0,0])\n",
        "axes[0,0].set_title(\"Porcentaje de Cabina Faltantes por Clase\")\n",
        "axes[0,0].set_ylabel(\"% Faltante\")\n",
        "axes[0,0].set_xlabel(\"Clase (Pclass)\")\n",
        "\n",
        "# Por Supervivencia\n",
        "pivot_cabin_surv.plot(kind=\"bar\", color=\"orange\", ax=axes[0,1])\n",
        "axes[0,1].set_title(\"Porcentaje de Cabina Faltantes por Supervivencia\")\n",
        "axes[0,1].set_ylabel(\"% Faltante\")\n",
        "axes[0,1].set_xlabel(\"Supervivencia (0=No, 1=Sí)\")\n",
        "\n",
        "# Por Cuartiles de Tarifa\n",
        "pivot_cabin_fare.plot(kind=\"bar\", color=\"green\", ax=axes[1,0])\n",
        "axes[1,0].set_title(\"Porcentaje de Cabina Faltantes por Cuartiles de Tarifa\")\n",
        "axes[1,0].set_ylabel(\"% Faltante\")\n",
        "axes[1,0].set_xlabel(\"Cuartil de Tarifa\")\n",
        "\n",
        "# Por Tamaño de Familia\n",
        "pivot_cabin_family.plot(kind=\"bar\", color=\"purple\", ax=axes[1,1])\n",
        "axes[1,1].set_title(\"Porcentaje de Cabina Faltantes por Tamaño de Familia\")\n",
        "axes[1,1].set_ylabel(\"% Faltante\")\n",
        "axes[1,1].set_xlabel(\"Tamaño de Familia\")\n",
        "\n",
        "plt.tight_layout()\n",
        "plt.show()"
      ],
      "metadata": {
        "id": "SjEy4YdHrwk3"
      },
      "execution_count": null,
      "outputs": []
    },
    {
      "cell_type": "markdown",
      "source": [
        "Observando el porcentaje de cada clase que no tiene registrada la cabina, es claro que en general no era una prioridad mantener el registro de las cabinas de los pasajeros, pues incluso en primera clase (`Pclass == 1`), 18.5% de los pasajeros no tenian registrada la cabina en la que se hospedaban. Dicho esto, esa es la mayor correlación que se presenta en el dataset."
      ],
      "metadata": {
        "id": "vTej-W_swQ7H"
      }
    },
    {
      "cell_type": "code",
      "source": [
        "pivot_cabin_class"
      ],
      "metadata": {
        "id": "FM5fBO34wNr5"
      },
      "execution_count": null,
      "outputs": []
    },
    {
      "cell_type": "markdown",
      "source": [
        "La otra variable que parece tener una tendencia es la del tamaño de familia. En este caso, ninguna de las familias grandes a bordo del Titanic tenían registrada una cabina.\n",
        "Entre esas familias grandes estan algunas como:\n",
        "\n",
        "* Familia Sage (11 personas)\n",
        "* Familia Goodwin (8 personas)\n",
        "* Familia Andersson (7 personas)\n",
        "* Familia Asplund (7 personas)\n",
        "* Familia Rice (6 personas)\n",
        "* Familia Panula (6 personas)\n",
        "\n",
        "Todas estas familias viajaban en tercera clase, lo que nos regresa a nuestra más grande correlación, que puede que haya sido exacerbada por el tamaño de la familia, y la logística de acomodarlos a todos dentro del barco."
      ],
      "metadata": {
        "id": "4JNt4a8eTSiT"
      }
    },
    {
      "cell_type": "markdown",
      "source": [
        "### Casos completos vs. incompletos"
      ],
      "metadata": {
        "id": "3qEP4NMoN_Og"
      }
    },
    {
      "cell_type": "markdown",
      "source": [
        "La clase de boleto hace la diferencia más marcada, y apunta a un elemento sistemático en la falta de registro de las cabinas. Pero es necesario hacer un anális estadístico que lo demuestre."
      ],
      "metadata": {
        "id": "ntjgGDvUYykv"
      }
    },
    {
      "cell_type": "code",
      "source": [
        "# tabla de contingencia\n",
        "contingency = pd.crosstab(df['Pclass'], df['Cabin_missing'])\n",
        "\n",
        "# Chi cuadrado\n",
        "chi2, p, dof, expected = stats.chi2_contingency(contingency)\n",
        "\n",
        "print(\"Chi-cuadrado para Cabin_missing vs Pclass\")\n",
        "print(\"Chi2 =\", chi2, \"p-value =\", p)"
      ],
      "metadata": {
        "id": "ccdGNUpLY_9f"
      },
      "execution_count": null,
      "outputs": []
    },
    {
      "cell_type": "markdown",
      "source": [
        "El valor de *p* es tan bajo que es indudable que la diferencia es significativa."
      ],
      "metadata": {
        "id": "Mzs4POfRZkAL"
      }
    },
    {
      "cell_type": "markdown",
      "source": [
        "Algunas de las variables parecen indicar correlación también, como la tarifa o la supervivencia, pero solo son un reflejo de la correlación por clase."
      ],
      "metadata": {
        "id": "-5TJRyI5GRb9"
      }
    },
    {
      "cell_type": "code",
      "source": [
        "survival_all = df['Survived'].value_counts(normalize=True) * 100\n",
        "survival_missing = df.loc[df['Cabin_missing']==1, 'Survived'].value_counts(normalize=True) * 100\n",
        "\n",
        "fare_all = df['Fare'].dropna()\n",
        "fare_missing = df.loc[df['Cabin_missing']==1, 'Fare'].dropna()\n",
        "\n",
        "fig, axes = plt.subplots(2, 2, figsize=(12, 10))\n",
        "\n",
        "# Gráfico 1: Supervivencia (todos los pasajeros)\n",
        "survival_all.plot(kind=\"bar\", color=\"steelblue\", ax=axes[0,0])\n",
        "axes[0,0].set_title(\"Distribución de Supervivencia (Todos los Pasajeros)\")\n",
        "axes[0,0].set_ylabel(\"% de Pasajeros\")\n",
        "axes[0,0].set_xlabel(\"Supervivencia (0=No, 1=Sí)\")\n",
        "axes[0,0].set_ylim(0, 100)\n",
        "\n",
        "# Gráfico 2: Supervivencia (solo Cabin faltante)\n",
        "survival_missing.plot(kind=\"bar\", color=\"orange\", ax=axes[0,1])\n",
        "axes[0,1].set_title(\"Distribución de Supervivencia (Solo Cabin Faltante)\")\n",
        "axes[0,1].set_ylabel(\"% de Pasajeros\")\n",
        "axes[0,1].set_xlabel(\"Supervivencia (0=No, 1=Sí)\")\n",
        "axes[0,1].set_ylim(0, 100)\n",
        "\n",
        "# Gráfico 3: Histograma de Tarifa (todos los pasajeros)\n",
        "axes[1,0].hist(fare_all, bins=10, color=\"green\", alpha=0.7)\n",
        "axes[1,0].set_title(\"Distribución de Tarifa (Todos los Pasajeros)\")\n",
        "axes[1,0].set_xlabel(\"Tarifa\")\n",
        "axes[1,0].set_ylabel(\"Frecuencia\")\n",
        "axes[1,0].set_ylim(0, 700)\n",
        "\n",
        "# Gráfico 4: Histograma de Tarifa (solo Cabin faltante)\n",
        "axes[1,1].hist(fare_missing, bins=10, color=\"purple\", alpha=0.7)\n",
        "axes[1,1].set_title(\"Distribución de Tarifa (Solo Cabin Faltante)\")\n",
        "axes[1,1].set_xlabel(\"Tarifa\")\n",
        "axes[1,1].set_ylabel(\"Frecuencia\")\n",
        "axes[1,1].set_ylim(0, 700)\n",
        "\n",
        "plt.tight_layout()\n",
        "plt.show()"
      ],
      "metadata": {
        "id": "WOAYcX-bG7Ij"
      },
      "execution_count": null,
      "outputs": []
    },
    {
      "cell_type": "code",
      "source": [
        "# tabla de contingencia\n",
        "contingency = pd.crosstab(df['Pclass'], df['Cabin_missing'])\n",
        "\n",
        "# Chi cuadrado\n",
        "chi2, p, dof, expected = stats.chi2_contingency(contingency)\n",
        "\n",
        "print(\"Chi-cuadrado para Cabin_missing vs Pclass\")\n",
        "print(\"Chi2 =\", chi2, \"p-value =\", p)"
      ],
      "metadata": {
        "id": "7MG3_3F8exjl"
      },
      "execution_count": null,
      "outputs": []
    },
    {
      "cell_type": "markdown",
      "source": [
        "### Correlación"
      ],
      "metadata": {
        "id": "WGsQg4VsOKN2"
      }
    },
    {
      "cell_type": "markdown",
      "source": [
        "La matriz de correlación deja esto aún más claro. La mayor correlación con la falta del registro de la cabina se encuentra con la clase del boleto, y ninguna otra correlación moderadamente fuerte se encuentra, más allá de la de la tarifa. Sin embargo, en la exploración inicial del dataset ya se sabía que la tarifa y la clase del boleto van mano en mano."
      ],
      "metadata": {
        "id": "sRXS4Lc9MgY1"
      }
    },
    {
      "cell_type": "code",
      "source": [
        "# variables para la matriz de correlación\n",
        "corr_vars = [\n",
        "    'Cabin_missing', 'Pclass', 'Fare', 'Survived', 'FamilySize',\n",
        "    'Age_missing', 'Embarked_missing'\n",
        "]\n",
        "\n",
        "# Calcular matriz de correlación\n",
        "metodo = 'Pearson' # Parece que Pearson es apropiado para este caso, pero los demas mostraban resultados similares\n",
        "corr_matrix = df[corr_vars].corr(method=metodo.lower())\n",
        "\n",
        "# Graficar heatmap\n",
        "plt.figure(figsize=(10, 6))\n",
        "sns.heatmap(corr_matrix, annot=True, cmap=\"coolwarm\", center=0, fmt=\".2f\")\n",
        "plt.title(f\"Matriz de Correlación ({metodo}) entre variables y valores Faltantes\")\n",
        "plt.show()"
      ],
      "metadata": {
        "id": "FMXrq3kTKgDL"
      },
      "execution_count": null,
      "outputs": []
    },
    {
      "cell_type": "markdown",
      "source": [
        "## Missingess de Age"
      ],
      "metadata": {
        "id": "Wt6bD1VBOYzF"
      }
    },
    {
      "cell_type": "markdown",
      "source": [
        "Comparado a la cabina, el registro de la edad es mucho mas extenso, aunque sigue presentando una tendencia a que aquellos en tercera clase eran menos propensos a registrarse."
      ],
      "metadata": {
        "id": "Po4tw96KZ4sL"
      }
    },
    {
      "cell_type": "code",
      "source": [
        "pivot_age = pd.pivot_table(df, values=\"Age_missing\", index=\"Pclass\", aggfunc=[\"mean\", \"sum\"])\n",
        "pivot_age"
      ],
      "metadata": {
        "id": "4yjNJgn6aX1o"
      },
      "execution_count": null,
      "outputs": []
    },
    {
      "cell_type": "code",
      "source": [
        "pivot_age_class = df.groupby(\"Pclass\")[\"Age_missing\"].mean() * 100\n",
        "pivot_age_surv = df.groupby(\"Survived\")[\"Age_missing\"].mean() * 100\n",
        "pivot_age_fare = df.groupby(\"Fare_bin\")[\"Age_missing\"].mean() * 100\n",
        "pivot_age_family = df.groupby(\"FamilySize\")[\"Age_missing\"].mean() * 100\n",
        "\n",
        "fig, axes = plt.subplots(2, 2, figsize=(12, 10))\n",
        "\n",
        "# Por Clase\n",
        "pivot_age_class.plot(kind=\"bar\", color=\"steelblue\", ax=axes[0,0])\n",
        "axes[0,0].set_title(\"Porcentaje de Edad faltante por Clase\")\n",
        "axes[0,0].set_ylabel(\"% Faltante\")\n",
        "axes[0,0].set_xlabel(\"Clase (Pclass)\")\n",
        "\n",
        "# Por Supervivencia\n",
        "pivot_age_surv.plot(kind=\"bar\", color=\"orange\", ax=axes[0,1])\n",
        "axes[0,1].set_title(\"Porcentaje de Edad faltante por Supervivencia\")\n",
        "axes[0,1].set_ylabel(\"% Faltante\")\n",
        "axes[0,1].set_xlabel(\"Supervivencia (0=No, 1=Sí)\")\n",
        "\n",
        "# Por Cuartiles de Tarifa\n",
        "pivot_age_fare.plot(kind=\"bar\", color=\"green\", ax=axes[1,0])\n",
        "axes[1,0].set_title(\"Porcentaje de Edad faltante por Cuartiles de Tarifa\")\n",
        "axes[1,0].set_ylabel(\"% Faltante\")\n",
        "axes[1,0].set_xlabel(\"Cuartil de Tarifa\")\n",
        "\n",
        "# Por Tamaño de Familia\n",
        "pivot_age_family.plot(kind=\"bar\", color=\"purple\", ax=axes[1,1])\n",
        "axes[1,1].set_title(\"Porcentaje de Edad faltante por Tamaño de Familia\")\n",
        "axes[1,1].set_ylabel(\"% Faltante\")\n",
        "axes[1,1].set_xlabel(\"Tamaño de Familia\")\n",
        "\n",
        "plt.tight_layout()\n",
        "plt.show()"
      ],
      "metadata": {
        "id": "b2Tv0frvSdGU"
      },
      "execution_count": null,
      "outputs": []
    },
    {
      "cell_type": "markdown",
      "source": [
        "Una vez más el tamaño de familia se puede considerar un outlier, siendo que la familia Sage tampoco registró la edad de ninguno de los miembros de la familia. Dicho eso, es sorprendente que las otras grandes familias como la Andersson o Asplund registraron la edad de todos los miembros, desde los bebés de 1 o 2 años hasta las cabezas de la familia."
      ],
      "metadata": {
        "id": "zwk_PWFyWcXT"
      }
    },
    {
      "cell_type": "markdown",
      "source": [
        "Aunque la relación no es tan clara como en el caso de las cabinas, se sigue pudiendo demostrar que el registro de la edad está relacionado a clase, como lo demuestra esta prueba de Chi cuadrado:"
      ],
      "metadata": {
        "id": "_whNvEssknmJ"
      }
    },
    {
      "cell_type": "code",
      "source": [
        "contingency = pd.crosstab(df['Pclass'], df['Age_missing'])\n",
        "\n",
        "chi2, p, dof, expected = stats.chi2_contingency(contingency)\n",
        "\n",
        "print(\"Chi-cuadrado para Age_missing vs Pclass\")\n",
        "print(\"Chi2 =\", chi2, \"p-value =\", p)\n",
        "\n",
        "observado = contingency.values\n",
        "esperado = expected.astype(int)\n",
        "contingency"
      ],
      "metadata": {
        "id": "ds_ndBpfjuvZ"
      },
      "execution_count": null,
      "outputs": []
    },
    {
      "cell_type": "code",
      "source": [
        "pd.DataFrame(esperado, index=contingency.index, columns=contingency.columns)"
      ],
      "metadata": {
        "id": "4ufgh_z7nM5V"
      },
      "execution_count": null,
      "outputs": []
    },
    {
      "cell_type": "markdown",
      "source": [
        "Esto nos lleva a la conclusión de que no es independiente la falta de valores de edad, aún si no es una relación lineal. En específico, la primera y *sobre todo* la segunda clase tienen menos valores faltantes de lo esperado, mientras que la tercera clase tiene bastantes valores faltantes más de lo esperado."
      ],
      "metadata": {
        "id": "HDXIUvI6k-Oq"
      }
    },
    {
      "cell_type": "markdown",
      "source": [
        "### Matriz de correlación"
      ],
      "metadata": {
        "id": "BCSYMt1upGLE"
      }
    },
    {
      "cell_type": "code",
      "source": [
        "corr_vars = [\n",
        "    'Age_missing', 'Pclass', 'SibSp', 'Cabin_missing', 'Embarked_missing',\n",
        "    'Survived', 'Fare', 'FamilySize', 'Parch'\n",
        "]\n",
        "\n",
        "metodo = 'Spearman' # Ningun metodo muestra una fuerte correlación en la matriz\n",
        "corr_matrix = df[corr_vars].corr(method=metodo.lower())\n",
        "\n",
        "# Graficar heatmap\n",
        "plt.figure(figsize=(10, 6))\n",
        "sns.heatmap(corr_matrix, annot=True, cmap=\"coolwarm\", center=0, fmt=\".2f\")\n",
        "plt.title(f\"Matriz de Correlación ({metodo}) entre variables y valores Faltantes\")\n",
        "plt.show()"
      ],
      "metadata": {
        "id": "baJDQ3qTdb0s"
      },
      "execution_count": null,
      "outputs": []
    },
    {
      "cell_type": "markdown",
      "source": [
        "# Estrategias de Imputación"
      ],
      "metadata": {
        "id": "ukb7ErV6nXbc"
      }
    },
    {
      "cell_type": "markdown",
      "source": [
        "Para la edad y el puerto de embarcación exploramos 3 métodos de imputación de los datos faltantes. Esto no es posible para la cabina, pues no es una variable ni discreta ni categórica. De la misma manera que no podríamos rellenar nombres que faltaran, no se puede rellenar por medio de estadística el nombre dado a las cabinas, que claramente tienen un sistema para su nombre que desconocemos."
      ],
      "metadata": {
        "id": "6fvq66YIoIBi"
      }
    },
    {
      "cell_type": "code",
      "source": [
        "df[\"Cabin\"].dropna().head()"
      ],
      "metadata": {
        "id": "-IDaWadsohod"
      },
      "execution_count": null,
      "outputs": []
    },
    {
      "cell_type": "markdown",
      "source": [
        "### Método simple"
      ],
      "metadata": {
        "id": "_WiuzurSnj3u"
      }
    },
    {
      "cell_type": "markdown",
      "source": [
        "Para el puerto de embarcación, la forma más simple de rellenar los dos datos faltantes es la moda del dataset completo, **Southampton**."
      ],
      "metadata": {
        "id": "LP22vWWYnupY"
      }
    },
    {
      "cell_type": "code",
      "source": [
        "df[\"Embarked\"].mode()"
      ],
      "metadata": {
        "id": "YHYv-XRlbKTe"
      },
      "execution_count": null,
      "outputs": []
    },
    {
      "cell_type": "markdown",
      "source": [
        "Para la edad, podemos tomar la mediana, para no dejar que la cola grande a la derecha deforme la representación real de los datos. Esta cola la vimos en la exploración inicial de los datos."
      ],
      "metadata": {
        "id": "1Yp_MK75oCRe"
      }
    },
    {
      "cell_type": "code",
      "source": [
        "print(\"Promedio:\", df['Age'].dropna().mean())\n",
        "print(\"Mediana:\", df['Age'].dropna().median())"
      ],
      "metadata": {
        "id": "T9rjFYNjpKjE"
      },
      "execution_count": null,
      "outputs": []
    },
    {
      "cell_type": "markdown",
      "source": [
        "Realmente son muy similares, pero es más apropiado para la forma de los datos."
      ],
      "metadata": {
        "id": "fuZxqfqqpcUV"
      }
    },
    {
      "cell_type": "markdown",
      "source": [
        "### Método basado en grupos"
      ],
      "metadata": {
        "id": "lP3bSiWVp01I"
      }
    },
    {
      "cell_type": "markdown",
      "source": [
        "La imputación por grupos nos permite rellenar con valores seleccionados más inteligentemente, basándonos en el demográfico específico que queremos rellenar. Lamentablemente, no es tan sencillo encontrar diferencias significantes segmentando en grupos"
      ],
      "metadata": {
        "id": "VfFmJXIHp3WP"
      }
    },
    {
      "cell_type": "markdown",
      "source": [
        "Para el puerto en el que se embarca, podemos tomar la moda de cada clase, pero somos conscientes de que al solo faltar dos datos, en la misma clase, esto no hace mucha diferencia."
      ],
      "metadata": {
        "id": "KWH8_jvBqRHW"
      }
    },
    {
      "cell_type": "code",
      "source": [
        "group = df.groupby(\"Pclass\")[\"Embarked\"]\n",
        "group.value_counts()"
      ],
      "metadata": {
        "id": "Zv4QdUsDqsyH"
      },
      "execution_count": null,
      "outputs": []
    }
  ]
}