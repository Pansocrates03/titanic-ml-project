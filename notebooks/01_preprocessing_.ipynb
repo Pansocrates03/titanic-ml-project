{
  "nbformat": 4,
  "nbformat_minor": 0,
  "metadata": {
    "colab": {
      "provenance": []
    },
    "kernelspec": {
      "name": "python3",
      "display_name": "Python 3"
    },
    "language_info": {
      "name": "python"
    }
  },
  "cells": [
    {
      "cell_type": "code",
      "execution_count": null,
      "metadata": {
        "id": "2Sq7w_JO-q-L"
      },
      "outputs": [],
      "source": [
        "import pandas as pd\n",
        "import numpy as np\n",
        "import matplotlib.pyplot as plt\n",
        "import seaborn as sns\n",
        "%matplotlib inline"
      ]
    },
    {
      "cell_type": "code",
      "source": [
        "df = pd.read_csv(\"Titanic-Dataset.csv\")\n",
        "df.head()"
      ],
      "metadata": {
        "colab": {
          "base_uri": "https://localhost:8080/",
          "height": 496
        },
        "id": "h1UBwdj5_SCb",
        "outputId": "7b7045fc-56c5-4486-fcee-ffc3159c0dac"
      },
      "execution_count": null,
      "outputs": [
        {
          "output_type": "execute_result",
          "data": {
            "text/plain": [
              "   PassengerId  Survived  Pclass  \\\n",
              "0            1         0       3   \n",
              "1            2         1       1   \n",
              "2            3         1       3   \n",
              "3            4         1       1   \n",
              "4            5         0       3   \n",
              "\n",
              "                                                Name     Sex   Age  SibSp  \\\n",
              "0                            Braund, Mr. Owen Harris    male  22.0      1   \n",
              "1  Cumings, Mrs. John Bradley (Florence Briggs Th...  female  38.0      1   \n",
              "2                             Heikkinen, Miss. Laina  female  26.0      0   \n",
              "3       Futrelle, Mrs. Jacques Heath (Lily May Peel)  female  35.0      1   \n",
              "4                           Allen, Mr. William Henry    male  35.0      0   \n",
              "\n",
              "   Parch            Ticket     Fare Cabin Embarked  \n",
              "0      0         A/5 21171   7.2500   NaN        S  \n",
              "1      0          PC 17599  71.2833   C85        C  \n",
              "2      0  STON/O2. 3101282   7.9250   NaN        S  \n",
              "3      0            113803  53.1000  C123        S  \n",
              "4      0            373450   8.0500   NaN        S  "
            ],
            "text/html": [
              "\n",
              "  <div id=\"df-2a4b673e-99fc-4df5-9bcd-bc71b34f7bf3\" class=\"colab-df-container\">\n",
              "    <div>\n",
              "<style scoped>\n",
              "    .dataframe tbody tr th:only-of-type {\n",
              "        vertical-align: middle;\n",
              "    }\n",
              "\n",
              "    .dataframe tbody tr th {\n",
              "        vertical-align: top;\n",
              "    }\n",
              "\n",
              "    .dataframe thead th {\n",
              "        text-align: right;\n",
              "    }\n",
              "</style>\n",
              "<table border=\"1\" class=\"dataframe\">\n",
              "  <thead>\n",
              "    <tr style=\"text-align: right;\">\n",
              "      <th></th>\n",
              "      <th>PassengerId</th>\n",
              "      <th>Survived</th>\n",
              "      <th>Pclass</th>\n",
              "      <th>Name</th>\n",
              "      <th>Sex</th>\n",
              "      <th>Age</th>\n",
              "      <th>SibSp</th>\n",
              "      <th>Parch</th>\n",
              "      <th>Ticket</th>\n",
              "      <th>Fare</th>\n",
              "      <th>Cabin</th>\n",
              "      <th>Embarked</th>\n",
              "    </tr>\n",
              "  </thead>\n",
              "  <tbody>\n",
              "    <tr>\n",
              "      <th>0</th>\n",
              "      <td>1</td>\n",
              "      <td>0</td>\n",
              "      <td>3</td>\n",
              "      <td>Braund, Mr. Owen Harris</td>\n",
              "      <td>male</td>\n",
              "      <td>22.0</td>\n",
              "      <td>1</td>\n",
              "      <td>0</td>\n",
              "      <td>A/5 21171</td>\n",
              "      <td>7.2500</td>\n",
              "      <td>NaN</td>\n",
              "      <td>S</td>\n",
              "    </tr>\n",
              "    <tr>\n",
              "      <th>1</th>\n",
              "      <td>2</td>\n",
              "      <td>1</td>\n",
              "      <td>1</td>\n",
              "      <td>Cumings, Mrs. John Bradley (Florence Briggs Th...</td>\n",
              "      <td>female</td>\n",
              "      <td>38.0</td>\n",
              "      <td>1</td>\n",
              "      <td>0</td>\n",
              "      <td>PC 17599</td>\n",
              "      <td>71.2833</td>\n",
              "      <td>C85</td>\n",
              "      <td>C</td>\n",
              "    </tr>\n",
              "    <tr>\n",
              "      <th>2</th>\n",
              "      <td>3</td>\n",
              "      <td>1</td>\n",
              "      <td>3</td>\n",
              "      <td>Heikkinen, Miss. Laina</td>\n",
              "      <td>female</td>\n",
              "      <td>26.0</td>\n",
              "      <td>0</td>\n",
              "      <td>0</td>\n",
              "      <td>STON/O2. 3101282</td>\n",
              "      <td>7.9250</td>\n",
              "      <td>NaN</td>\n",
              "      <td>S</td>\n",
              "    </tr>\n",
              "    <tr>\n",
              "      <th>3</th>\n",
              "      <td>4</td>\n",
              "      <td>1</td>\n",
              "      <td>1</td>\n",
              "      <td>Futrelle, Mrs. Jacques Heath (Lily May Peel)</td>\n",
              "      <td>female</td>\n",
              "      <td>35.0</td>\n",
              "      <td>1</td>\n",
              "      <td>0</td>\n",
              "      <td>113803</td>\n",
              "      <td>53.1000</td>\n",
              "      <td>C123</td>\n",
              "      <td>S</td>\n",
              "    </tr>\n",
              "    <tr>\n",
              "      <th>4</th>\n",
              "      <td>5</td>\n",
              "      <td>0</td>\n",
              "      <td>3</td>\n",
              "      <td>Allen, Mr. William Henry</td>\n",
              "      <td>male</td>\n",
              "      <td>35.0</td>\n",
              "      <td>0</td>\n",
              "      <td>0</td>\n",
              "      <td>373450</td>\n",
              "      <td>8.0500</td>\n",
              "      <td>NaN</td>\n",
              "      <td>S</td>\n",
              "    </tr>\n",
              "  </tbody>\n",
              "</table>\n",
              "</div>\n",
              "    <div class=\"colab-df-buttons\">\n",
              "\n",
              "  <div class=\"colab-df-container\">\n",
              "    <button class=\"colab-df-convert\" onclick=\"convertToInteractive('df-2a4b673e-99fc-4df5-9bcd-bc71b34f7bf3')\"\n",
              "            title=\"Convert this dataframe to an interactive table.\"\n",
              "            style=\"display:none;\">\n",
              "\n",
              "  <svg xmlns=\"http://www.w3.org/2000/svg\" height=\"24px\" viewBox=\"0 -960 960 960\">\n",
              "    <path d=\"M120-120v-720h720v720H120Zm60-500h600v-160H180v160Zm220 220h160v-160H400v160Zm0 220h160v-160H400v160ZM180-400h160v-160H180v160Zm440 0h160v-160H620v160ZM180-180h160v-160H180v160Zm440 0h160v-160H620v160Z\"/>\n",
              "  </svg>\n",
              "    </button>\n",
              "\n",
              "  <style>\n",
              "    .colab-df-container {\n",
              "      display:flex;\n",
              "      gap: 12px;\n",
              "    }\n",
              "\n",
              "    .colab-df-convert {\n",
              "      background-color: #E8F0FE;\n",
              "      border: none;\n",
              "      border-radius: 50%;\n",
              "      cursor: pointer;\n",
              "      display: none;\n",
              "      fill: #1967D2;\n",
              "      height: 32px;\n",
              "      padding: 0 0 0 0;\n",
              "      width: 32px;\n",
              "    }\n",
              "\n",
              "    .colab-df-convert:hover {\n",
              "      background-color: #E2EBFA;\n",
              "      box-shadow: 0px 1px 2px rgba(60, 64, 67, 0.3), 0px 1px 3px 1px rgba(60, 64, 67, 0.15);\n",
              "      fill: #174EA6;\n",
              "    }\n",
              "\n",
              "    .colab-df-buttons div {\n",
              "      margin-bottom: 4px;\n",
              "    }\n",
              "\n",
              "    [theme=dark] .colab-df-convert {\n",
              "      background-color: #3B4455;\n",
              "      fill: #D2E3FC;\n",
              "    }\n",
              "\n",
              "    [theme=dark] .colab-df-convert:hover {\n",
              "      background-color: #434B5C;\n",
              "      box-shadow: 0px 1px 3px 1px rgba(0, 0, 0, 0.15);\n",
              "      filter: drop-shadow(0px 1px 2px rgba(0, 0, 0, 0.3));\n",
              "      fill: #FFFFFF;\n",
              "    }\n",
              "  </style>\n",
              "\n",
              "    <script>\n",
              "      const buttonEl =\n",
              "        document.querySelector('#df-2a4b673e-99fc-4df5-9bcd-bc71b34f7bf3 button.colab-df-convert');\n",
              "      buttonEl.style.display =\n",
              "        google.colab.kernel.accessAllowed ? 'block' : 'none';\n",
              "\n",
              "      async function convertToInteractive(key) {\n",
              "        const element = document.querySelector('#df-2a4b673e-99fc-4df5-9bcd-bc71b34f7bf3');\n",
              "        const dataTable =\n",
              "          await google.colab.kernel.invokeFunction('convertToInteractive',\n",
              "                                                    [key], {});\n",
              "        if (!dataTable) return;\n",
              "\n",
              "        const docLinkHtml = 'Like what you see? Visit the ' +\n",
              "          '<a target=\"_blank\" href=https://colab.research.google.com/notebooks/data_table.ipynb>data table notebook</a>'\n",
              "          + ' to learn more about interactive tables.';\n",
              "        element.innerHTML = '';\n",
              "        dataTable['output_type'] = 'display_data';\n",
              "        await google.colab.output.renderOutput(dataTable, element);\n",
              "        const docLink = document.createElement('div');\n",
              "        docLink.innerHTML = docLinkHtml;\n",
              "        element.appendChild(docLink);\n",
              "      }\n",
              "    </script>\n",
              "  </div>\n",
              "\n",
              "\n",
              "    <div id=\"df-1f925a89-51e1-4c60-9f02-b108c9786962\">\n",
              "      <button class=\"colab-df-quickchart\" onclick=\"quickchart('df-1f925a89-51e1-4c60-9f02-b108c9786962')\"\n",
              "                title=\"Suggest charts\"\n",
              "                style=\"display:none;\">\n",
              "\n",
              "<svg xmlns=\"http://www.w3.org/2000/svg\" height=\"24px\"viewBox=\"0 0 24 24\"\n",
              "     width=\"24px\">\n",
              "    <g>\n",
              "        <path d=\"M19 3H5c-1.1 0-2 .9-2 2v14c0 1.1.9 2 2 2h14c1.1 0 2-.9 2-2V5c0-1.1-.9-2-2-2zM9 17H7v-7h2v7zm4 0h-2V7h2v10zm4 0h-2v-4h2v4z\"/>\n",
              "    </g>\n",
              "</svg>\n",
              "      </button>\n",
              "\n",
              "<style>\n",
              "  .colab-df-quickchart {\n",
              "      --bg-color: #E8F0FE;\n",
              "      --fill-color: #1967D2;\n",
              "      --hover-bg-color: #E2EBFA;\n",
              "      --hover-fill-color: #174EA6;\n",
              "      --disabled-fill-color: #AAA;\n",
              "      --disabled-bg-color: #DDD;\n",
              "  }\n",
              "\n",
              "  [theme=dark] .colab-df-quickchart {\n",
              "      --bg-color: #3B4455;\n",
              "      --fill-color: #D2E3FC;\n",
              "      --hover-bg-color: #434B5C;\n",
              "      --hover-fill-color: #FFFFFF;\n",
              "      --disabled-bg-color: #3B4455;\n",
              "      --disabled-fill-color: #666;\n",
              "  }\n",
              "\n",
              "  .colab-df-quickchart {\n",
              "    background-color: var(--bg-color);\n",
              "    border: none;\n",
              "    border-radius: 50%;\n",
              "    cursor: pointer;\n",
              "    display: none;\n",
              "    fill: var(--fill-color);\n",
              "    height: 32px;\n",
              "    padding: 0;\n",
              "    width: 32px;\n",
              "  }\n",
              "\n",
              "  .colab-df-quickchart:hover {\n",
              "    background-color: var(--hover-bg-color);\n",
              "    box-shadow: 0 1px 2px rgba(60, 64, 67, 0.3), 0 1px 3px 1px rgba(60, 64, 67, 0.15);\n",
              "    fill: var(--button-hover-fill-color);\n",
              "  }\n",
              "\n",
              "  .colab-df-quickchart-complete:disabled,\n",
              "  .colab-df-quickchart-complete:disabled:hover {\n",
              "    background-color: var(--disabled-bg-color);\n",
              "    fill: var(--disabled-fill-color);\n",
              "    box-shadow: none;\n",
              "  }\n",
              "\n",
              "  .colab-df-spinner {\n",
              "    border: 2px solid var(--fill-color);\n",
              "    border-color: transparent;\n",
              "    border-bottom-color: var(--fill-color);\n",
              "    animation:\n",
              "      spin 1s steps(1) infinite;\n",
              "  }\n",
              "\n",
              "  @keyframes spin {\n",
              "    0% {\n",
              "      border-color: transparent;\n",
              "      border-bottom-color: var(--fill-color);\n",
              "      border-left-color: var(--fill-color);\n",
              "    }\n",
              "    20% {\n",
              "      border-color: transparent;\n",
              "      border-left-color: var(--fill-color);\n",
              "      border-top-color: var(--fill-color);\n",
              "    }\n",
              "    30% {\n",
              "      border-color: transparent;\n",
              "      border-left-color: var(--fill-color);\n",
              "      border-top-color: var(--fill-color);\n",
              "      border-right-color: var(--fill-color);\n",
              "    }\n",
              "    40% {\n",
              "      border-color: transparent;\n",
              "      border-right-color: var(--fill-color);\n",
              "      border-top-color: var(--fill-color);\n",
              "    }\n",
              "    60% {\n",
              "      border-color: transparent;\n",
              "      border-right-color: var(--fill-color);\n",
              "    }\n",
              "    80% {\n",
              "      border-color: transparent;\n",
              "      border-right-color: var(--fill-color);\n",
              "      border-bottom-color: var(--fill-color);\n",
              "    }\n",
              "    90% {\n",
              "      border-color: transparent;\n",
              "      border-bottom-color: var(--fill-color);\n",
              "    }\n",
              "  }\n",
              "</style>\n",
              "\n",
              "      <script>\n",
              "        async function quickchart(key) {\n",
              "          const quickchartButtonEl =\n",
              "            document.querySelector('#' + key + ' button');\n",
              "          quickchartButtonEl.disabled = true;  // To prevent multiple clicks.\n",
              "          quickchartButtonEl.classList.add('colab-df-spinner');\n",
              "          try {\n",
              "            const charts = await google.colab.kernel.invokeFunction(\n",
              "                'suggestCharts', [key], {});\n",
              "          } catch (error) {\n",
              "            console.error('Error during call to suggestCharts:', error);\n",
              "          }\n",
              "          quickchartButtonEl.classList.remove('colab-df-spinner');\n",
              "          quickchartButtonEl.classList.add('colab-df-quickchart-complete');\n",
              "        }\n",
              "        (() => {\n",
              "          let quickchartButtonEl =\n",
              "            document.querySelector('#df-1f925a89-51e1-4c60-9f02-b108c9786962 button');\n",
              "          quickchartButtonEl.style.display =\n",
              "            google.colab.kernel.accessAllowed ? 'block' : 'none';\n",
              "        })();\n",
              "      </script>\n",
              "    </div>\n",
              "\n",
              "    </div>\n",
              "  </div>\n"
            ],
            "application/vnd.google.colaboratory.intrinsic+json": {
              "type": "dataframe",
              "variable_name": "df",
              "summary": "{\n  \"name\": \"df\",\n  \"rows\": 891,\n  \"fields\": [\n    {\n      \"column\": \"PassengerId\",\n      \"properties\": {\n        \"dtype\": \"number\",\n        \"std\": 257,\n        \"min\": 1,\n        \"max\": 891,\n        \"num_unique_values\": 891,\n        \"samples\": [\n          710,\n          440,\n          841\n        ],\n        \"semantic_type\": \"\",\n        \"description\": \"\"\n      }\n    },\n    {\n      \"column\": \"Survived\",\n      \"properties\": {\n        \"dtype\": \"number\",\n        \"std\": 0,\n        \"min\": 0,\n        \"max\": 1,\n        \"num_unique_values\": 2,\n        \"samples\": [\n          1,\n          0\n        ],\n        \"semantic_type\": \"\",\n        \"description\": \"\"\n      }\n    },\n    {\n      \"column\": \"Pclass\",\n      \"properties\": {\n        \"dtype\": \"number\",\n        \"std\": 0,\n        \"min\": 1,\n        \"max\": 3,\n        \"num_unique_values\": 3,\n        \"samples\": [\n          3,\n          1\n        ],\n        \"semantic_type\": \"\",\n        \"description\": \"\"\n      }\n    },\n    {\n      \"column\": \"Name\",\n      \"properties\": {\n        \"dtype\": \"string\",\n        \"num_unique_values\": 891,\n        \"samples\": [\n          \"Moubarek, Master. Halim Gonios (\\\"William George\\\")\",\n          \"Kvillner, Mr. Johan Henrik Johannesson\"\n        ],\n        \"semantic_type\": \"\",\n        \"description\": \"\"\n      }\n    },\n    {\n      \"column\": \"Sex\",\n      \"properties\": {\n        \"dtype\": \"category\",\n        \"num_unique_values\": 2,\n        \"samples\": [\n          \"female\",\n          \"male\"\n        ],\n        \"semantic_type\": \"\",\n        \"description\": \"\"\n      }\n    },\n    {\n      \"column\": \"Age\",\n      \"properties\": {\n        \"dtype\": \"number\",\n        \"std\": 14.526497332334044,\n        \"min\": 0.42,\n        \"max\": 80.0,\n        \"num_unique_values\": 88,\n        \"samples\": [\n          0.75,\n          22.0\n        ],\n        \"semantic_type\": \"\",\n        \"description\": \"\"\n      }\n    },\n    {\n      \"column\": \"SibSp\",\n      \"properties\": {\n        \"dtype\": \"number\",\n        \"std\": 1,\n        \"min\": 0,\n        \"max\": 8,\n        \"num_unique_values\": 7,\n        \"samples\": [\n          1,\n          0\n        ],\n        \"semantic_type\": \"\",\n        \"description\": \"\"\n      }\n    },\n    {\n      \"column\": \"Parch\",\n      \"properties\": {\n        \"dtype\": \"number\",\n        \"std\": 0,\n        \"min\": 0,\n        \"max\": 6,\n        \"num_unique_values\": 7,\n        \"samples\": [\n          0,\n          1\n        ],\n        \"semantic_type\": \"\",\n        \"description\": \"\"\n      }\n    },\n    {\n      \"column\": \"Ticket\",\n      \"properties\": {\n        \"dtype\": \"string\",\n        \"num_unique_values\": 681,\n        \"samples\": [\n          \"11774\",\n          \"248740\"\n        ],\n        \"semantic_type\": \"\",\n        \"description\": \"\"\n      }\n    },\n    {\n      \"column\": \"Fare\",\n      \"properties\": {\n        \"dtype\": \"number\",\n        \"std\": 49.693428597180905,\n        \"min\": 0.0,\n        \"max\": 512.3292,\n        \"num_unique_values\": 248,\n        \"samples\": [\n          11.2417,\n          51.8625\n        ],\n        \"semantic_type\": \"\",\n        \"description\": \"\"\n      }\n    },\n    {\n      \"column\": \"Cabin\",\n      \"properties\": {\n        \"dtype\": \"category\",\n        \"num_unique_values\": 147,\n        \"samples\": [\n          \"D45\",\n          \"B49\"\n        ],\n        \"semantic_type\": \"\",\n        \"description\": \"\"\n      }\n    },\n    {\n      \"column\": \"Embarked\",\n      \"properties\": {\n        \"dtype\": \"category\",\n        \"num_unique_values\": 3,\n        \"samples\": [\n          \"S\",\n          \"C\"\n        ],\n        \"semantic_type\": \"\",\n        \"description\": \"\"\n      }\n    }\n  ]\n}"
            }
          },
          "metadata": {},
          "execution_count": 7
        }
      ]
    },
    {
      "cell_type": "code",
      "source": [
        "df.info()"
      ],
      "metadata": {
        "colab": {
          "base_uri": "https://localhost:8080/"
        },
        "id": "MCtuDyMSnsAX",
        "outputId": "f67340a7-13bc-423a-adbe-2cf6a9fbfd58"
      },
      "execution_count": null,
      "outputs": [
        {
          "output_type": "stream",
          "name": "stdout",
          "text": [
            "<class 'pandas.core.frame.DataFrame'>\n",
            "RangeIndex: 891 entries, 0 to 890\n",
            "Data columns (total 12 columns):\n",
            " #   Column       Non-Null Count  Dtype  \n",
            "---  ------       --------------  -----  \n",
            " 0   PassengerId  891 non-null    int64  \n",
            " 1   Survived     891 non-null    int64  \n",
            " 2   Pclass       891 non-null    int64  \n",
            " 3   Name         891 non-null    object \n",
            " 4   Sex          891 non-null    object \n",
            " 5   Age          714 non-null    float64\n",
            " 6   SibSp        891 non-null    int64  \n",
            " 7   Parch        891 non-null    int64  \n",
            " 8   Ticket       891 non-null    object \n",
            " 9   Fare         891 non-null    float64\n",
            " 10  Cabin        204 non-null    object \n",
            " 11  Embarked     889 non-null    object \n",
            "dtypes: float64(2), int64(5), object(5)\n",
            "memory usage: 83.7+ KB\n"
          ]
        }
      ]
    },
    {
      "cell_type": "markdown",
      "source": [
        "# **INGENIERIA DE FEATURES**"
      ],
      "metadata": {
        "id": "6XCCQ9nX1Efh"
      }
    },
    {
      "cell_type": "markdown",
      "source": [
        "## 2.1 Creación de Variables Derivadas"
      ],
      "metadata": {
        "id": "CVsWx4_rqu97"
      }
    },
    {
      "cell_type": "markdown",
      "source": [
        "### Variable Title"
      ],
      "metadata": {
        "id": "t4BIIkN6-zFW"
      }
    },
    {
      "cell_type": "code",
      "source": [
        "# --- 1. VARIABLE: Title (TITULO) ---\n",
        "\n",
        "def title_feature(df):\n",
        "    df['Title'] = df['Name'].str.extract(' ([A-Za-z]+)\\.', expand=False)\n",
        "    df['Title'] = df['Title'].replace(['Lady', 'Countess','Capt', 'Col','Don', 'Dr', 'Major', 'Rev', 'Sir', 'Jonkheer', 'Dona'], 'Rare')\n",
        "    df['Title'] = df['Title'].replace('Mlle', 'Miss')\n",
        "    df['Title'] = df['Title'].replace('Ms', 'Miss')\n",
        "    df['Title'] = df['Title'].replace('Mme', 'Mrs')\n",
        "    # ANÁLISIS DE LA RELACIÓN CON SUPERVIVENCIA\n",
        "    print(\"RELACIÓN DE 'Title' CON LA SUPERVIVENCIA:\")\n",
        "    print(df.groupby('Title')['Survived'].mean().sort_values(ascending=False))\n",
        "    # VERIFICACIÓN DE CALIDAD\n",
        "    print(\"\\nVERIFICACIÓN DE VALORES ÚNICOS Y CONTEO:\")\n",
        "    print(df['Title'].value_counts())\n",
        "\n",
        "title_feature(df)\n"
      ],
      "metadata": {
        "colab": {
          "base_uri": "https://localhost:8080/"
        },
        "id": "28XBfJhg1OGH",
        "outputId": "28fcbcfd-e2ae-4659-f400-206dcae11f3c"
      },
      "execution_count": null,
      "outputs": [
        {
          "output_type": "stream",
          "name": "stdout",
          "text": [
            "RELACIÓN DE 'Title' CON LA SUPERVIVENCIA:\n",
            "Title\n",
            "Mrs       0.793651\n",
            "Miss      0.702703\n",
            "Master    0.575000\n",
            "Rare      0.347826\n",
            "Mr        0.156673\n",
            "Name: Survived, dtype: float64\n",
            "\n",
            "VERIFICACIÓN DE VALORES ÚNICOS Y CONTEO:\n",
            "Title\n",
            "Mr        517\n",
            "Miss      185\n",
            "Mrs       126\n",
            "Master     40\n",
            "Rare       23\n",
            "Name: count, dtype: int64\n"
          ]
        },
        {
          "output_type": "stream",
          "name": "stderr",
          "text": [
            "<>:4: SyntaxWarning: invalid escape sequence '\\.'\n",
            "<>:4: SyntaxWarning: invalid escape sequence '\\.'\n",
            "/tmp/ipython-input-199068824.py:4: SyntaxWarning: invalid escape sequence '\\.'\n",
            "  df['Title'] = df['Name'].str.extract(' ([A-Za-z]+)\\.', expand=False)\n"
          ]
        }
      ]
    },
    {
      "cell_type": "markdown",
      "source": [
        "### Variable Family Size\n"
      ],
      "metadata": {
        "id": "0TO_80gf-4A4"
      }
    },
    {
      "cell_type": "code",
      "source": [
        "# --- 2. VARIABLE: FamilySize (TAMAÑO DE LA FAMILIA) ---\n",
        "\n",
        "def family_size_feature(df):\n",
        "    df['FamilySize'] = df['SibSp'] + df['Parch'] + 1\n",
        "    # ANÁLISIS DE LA RELACIÓN CON SUPERVIVENCIA\n",
        "    print(\"RELACIÓN DE 'FamilySize' CON LA SUPERVIVENCIA:\")\n",
        "    print(df.groupby('FamilySize')['Survived'].mean())\n",
        "    # VERIFICACIÓN DE CALIDAD\n",
        "    print(\"\\nVERIFICACIÓN DE VALORES ÚNICOS Y CONTEO:\")\n",
        "    print(df['FamilySize'].value_counts().sort_index())\n",
        "\n",
        "family_size_feature(df)"
      ],
      "metadata": {
        "colab": {
          "base_uri": "https://localhost:8080/"
        },
        "id": "TWOwRZFA1VJK",
        "outputId": "cda15869-7d5a-48d3-ff9d-bd634c9fa9c9"
      },
      "execution_count": null,
      "outputs": [
        {
          "output_type": "stream",
          "name": "stdout",
          "text": [
            "RELACIÓN DE 'FamilySize' CON LA SUPERVIVENCIA:\n",
            "FamilySize\n",
            "1     0.303538\n",
            "2     0.552795\n",
            "3     0.578431\n",
            "4     0.724138\n",
            "5     0.200000\n",
            "6     0.136364\n",
            "7     0.333333\n",
            "8     0.000000\n",
            "11    0.000000\n",
            "Name: Survived, dtype: float64\n",
            "\n",
            "VERIFICACIÓN DE VALORES ÚNICOS Y CONTEO:\n",
            "FamilySize\n",
            "1     537\n",
            "2     161\n",
            "3     102\n",
            "4      29\n",
            "5      15\n",
            "6      22\n",
            "7      12\n",
            "8       6\n",
            "11      7\n",
            "Name: count, dtype: int64\n"
          ]
        }
      ]
    },
    {
      "cell_type": "markdown",
      "source": [
        "### Variable IsAlone"
      ],
      "metadata": {
        "id": "6TWZdo-c-66L"
      }
    },
    {
      "cell_type": "code",
      "source": [
        "# --- 3. VARIABLE: IsAlone (ESTA SOLO) ---\n",
        "\n",
        "def is_alone_feature(df):\n",
        "    df['IsAlone'] = (df['FamilySize'] == 1).astype(int)\n",
        "    # ANÁLISIS DE LA RELACIÓN CON SUPERVIVENCIA\n",
        "    print(\"RELACIÓN DE 'IsAlone' CON LA SUPERVIVENCIA:\")\n",
        "    print(df.groupby('IsAlone')['Survived'].mean())\n",
        "    # VERIFICACIÓN DE CALIDAD\n",
        "    print(\"\\nVERIFICACIÓN DE VALORES ÚNICOS Y CONTEO:\")\n",
        "    print(df['IsAlone'].value_counts())\n",
        "\n",
        "is_alone_feature(df)"
      ],
      "metadata": {
        "colab": {
          "base_uri": "https://localhost:8080/"
        },
        "id": "xbtYqUZ51iKg",
        "outputId": "cab71a72-dbfc-4f60-a069-8f97f3682801"
      },
      "execution_count": null,
      "outputs": [
        {
          "output_type": "stream",
          "name": "stdout",
          "text": [
            "RELACIÓN DE 'IsAlone' CON LA SUPERVIVENCIA:\n",
            "IsAlone\n",
            "0    0.505650\n",
            "1    0.303538\n",
            "Name: Survived, dtype: float64\n",
            "\n",
            "VERIFICACIÓN DE VALORES ÚNICOS Y CONTEO:\n",
            "IsAlone\n",
            "1    537\n",
            "0    354\n",
            "Name: count, dtype: int64\n"
          ]
        }
      ]
    },
    {
      "cell_type": "markdown",
      "source": [
        "### Variable AgeGroup"
      ],
      "metadata": {
        "id": "-vWlEdXZ-_T1"
      }
    },
    {
      "cell_type": "code",
      "source": [
        "# --- 4. VARIABLE: AgeGroup (GRUPO DE EDAD) ---\n",
        "# MANEJO DE VALORES NULOS PARA LA EDAD\n",
        "\n",
        "def age_group_feature(df):\n",
        "      df['Age'].fillna(df['Age'].median(), inplace=True)\n",
        "      bins = [0, 12, 18, 60, np.inf]\n",
        "      labels = ['Child', 'Adolescent/Teenager', 'Adult', 'Senior']\n",
        "      df['AgeGroup'] = pd.cut(df['Age'], bins=bins, labels=labels, right=False)\n",
        "      # ANÁLISIS DE LA RELACIÓN CON SUPERVIVENCIA\n",
        "      print(\"RELACIÓN DE 'AgeGroup' CON LA SUPERVIVENCIA:\")\n",
        "      print(df.groupby('AgeGroup')['Survived'].mean().sort_values(ascending=False))\n",
        "      # VERIFICACIÓN DE CALIDAD\n",
        "      print(\"\\nVERIFICACIÓN DE VALORES ÚNICOS Y CONTEO:\")\n",
        "      print(df['AgeGroup'].value_counts())\n",
        "\n",
        "age_group_feature(df)\n"
      ],
      "metadata": {
        "colab": {
          "base_uri": "https://localhost:8080/"
        },
        "id": "tzbl0HK11mCa",
        "outputId": "aedf6f1a-f891-4af4-e14a-6b44efef4b7a"
      },
      "execution_count": null,
      "outputs": [
        {
          "output_type": "stream",
          "name": "stdout",
          "text": [
            "RELACIÓN DE 'AgeGroup' CON LA SUPERVIVENCIA:\n",
            "AgeGroup\n",
            "Child                  0.573529\n",
            "Adolescent/Teenager    0.488889\n",
            "Adult                  0.364362\n",
            "Senior                 0.269231\n",
            "Name: Survived, dtype: float64\n",
            "\n",
            "VERIFICACIÓN DE VALORES ÚNICOS Y CONTEO:\n",
            "AgeGroup\n",
            "Adult                  752\n",
            "Child                   68\n",
            "Adolescent/Teenager     45\n",
            "Senior                  26\n",
            "Name: count, dtype: int64\n"
          ]
        },
        {
          "output_type": "stream",
          "name": "stderr",
          "text": [
            "/tmp/ipython-input-2513141969.py:5: FutureWarning: A value is trying to be set on a copy of a DataFrame or Series through chained assignment using an inplace method.\n",
            "The behavior will change in pandas 3.0. This inplace method will never work because the intermediate object on which we are setting values always behaves as a copy.\n",
            "\n",
            "For example, when doing 'df[col].method(value, inplace=True)', try using 'df.method({col: value}, inplace=True)' or df[col] = df[col].method(value) instead, to perform the operation inplace on the original object.\n",
            "\n",
            "\n",
            "  df['Age'].fillna(df['Age'].median(), inplace=True)\n",
            "/tmp/ipython-input-2513141969.py:11: FutureWarning: The default of observed=False is deprecated and will be changed to True in a future version of pandas. Pass observed=False to retain current behavior or observed=True to adopt the future default and silence this warning.\n",
            "  print(df.groupby('AgeGroup')['Survived'].mean().sort_values(ascending=False))\n"
          ]
        }
      ]
    },
    {
      "cell_type": "markdown",
      "source": [
        "### Variable FarePerPerson"
      ],
      "metadata": {
        "id": "gbfLGYGe_C8N"
      }
    },
    {
      "cell_type": "code",
      "source": [
        "# --- 5. VARIABLE: FarePerPerson (TARIFA POR PERSONA) ---\n",
        "\n",
        "def fare_per_person_feature(df):\n",
        "    df['FarePerPerson'] = df['Fare'] / df['FamilySize']\n",
        "    df['FarePerPerson'].fillna(df['FarePerPerson'].mean(), inplace=True) # Manejo de Nulos\n",
        "    # ANÁLISIS DE LA RELACIÓN CON SUPERVIVENCIA (AGRUPANDO EN RANGOS)\n",
        "    print(\"RELACIÓN DE 'FarePerPerson' CON LA SUPERVIVENCIA (POR RANGOS):\")\n",
        "    df['FarePerPerson_Group'] = pd.qcut(df['FarePerPerson'], 4, labels=['Q1', 'Q2', 'Q3', 'Q4'])\n",
        "    print(df.groupby('FarePerPerson_Group')['Survived'].mean().sort_values(ascending=False))\n",
        "    # VERIFICACIÓN DE CALIDAD\n",
        "    print(\"\\nVERIFICACIÓN DE LA DISTRIBUCIÓN:\")\n",
        "    print(df['FarePerPerson'].describe())\n",
        "\n",
        "fare_per_person_feature(df)\n"
      ],
      "metadata": {
        "colab": {
          "base_uri": "https://localhost:8080/"
        },
        "id": "ubw3sKVw1uZB",
        "outputId": "e02509ca-17d9-42df-b6c1-7e5c54c61b32"
      },
      "execution_count": null,
      "outputs": [
        {
          "output_type": "stream",
          "name": "stdout",
          "text": [
            "RELACIÓN DE 'FarePerPerson' CON LA SUPERVIVENCIA (POR RANGOS):\n",
            "FarePerPerson_Group\n",
            "Q4    0.608108\n",
            "Q3    0.408072\n",
            "Q1    0.265487\n",
            "Q2    0.254545\n",
            "Name: Survived, dtype: float64\n",
            "\n",
            "VERIFICACIÓN DE LA DISTRIBUCIÓN:\n",
            "count    891.000000\n",
            "mean      19.916375\n",
            "std       35.841257\n",
            "min        0.000000\n",
            "25%        7.250000\n",
            "50%        8.300000\n",
            "75%       23.666667\n",
            "max      512.329200\n",
            "Name: FarePerPerson, dtype: float64\n"
          ]
        },
        {
          "output_type": "stream",
          "name": "stderr",
          "text": [
            "/tmp/ipython-input-897968984.py:5: FutureWarning: A value is trying to be set on a copy of a DataFrame or Series through chained assignment using an inplace method.\n",
            "The behavior will change in pandas 3.0. This inplace method will never work because the intermediate object on which we are setting values always behaves as a copy.\n",
            "\n",
            "For example, when doing 'df[col].method(value, inplace=True)', try using 'df.method({col: value}, inplace=True)' or df[col] = df[col].method(value) instead, to perform the operation inplace on the original object.\n",
            "\n",
            "\n",
            "  df['FarePerPerson'].fillna(df['FarePerPerson'].mean(), inplace=True) # Manejo de Nulos\n",
            "/tmp/ipython-input-897968984.py:9: FutureWarning: The default of observed=False is deprecated and will be changed to True in a future version of pandas. Pass observed=False to retain current behavior or observed=True to adopt the future default and silence this warning.\n",
            "  print(df.groupby('FarePerPerson_Group')['Survived'].mean().sort_values(ascending=False))\n"
          ]
        }
      ]
    },
    {
      "cell_type": "markdown",
      "source": [
        "### Variable Cabin Deck"
      ],
      "metadata": {
        "id": "E6qfU16E_G0P"
      }
    },
    {
      "cell_type": "code",
      "source": [
        "# --- 6. VARIABLE: CabinDeck (CUBIERTA DE LA CABINA) ---\n",
        "\n",
        "def cabin_deck_feature(df):\n",
        "    df['CabinDeck'] = df['Cabin'].str.extract('([A-Z])', expand=False)\n",
        "    df['CabinDeck'].fillna('Unknown', inplace=True)\n",
        "    # ANÁLISIS DE LA RELACIÓN CON SUPERVIVENCIA\n",
        "    print(\"RELACIÓN DE 'CabinDeck' CON LA SUPERVIVENCIA:\")\n",
        "    print(df.groupby('CabinDeck')['Survived'].mean().sort_values(ascending=False))\n",
        "    # VERIFICACIÓN DE CALIDAD\n",
        "    print(\"\\nVERIFICACIÓN DE VALORES ÚNICOS Y CONTEO:\")\n",
        "    print(df['CabinDeck'].value_counts())\n",
        "\n",
        "cabin_deck_feature(df)"
      ],
      "metadata": {
        "colab": {
          "base_uri": "https://localhost:8080/"
        },
        "id": "OGxGNvYT1zsH",
        "outputId": "00fa6fa4-af70-431d-c18b-804be99a879c"
      },
      "execution_count": null,
      "outputs": [
        {
          "output_type": "stream",
          "name": "stdout",
          "text": [
            "RELACIÓN DE 'CabinDeck' CON LA SUPERVIVENCIA:\n",
            "CabinDeck\n",
            "D          0.757576\n",
            "E          0.750000\n",
            "B          0.744681\n",
            "F          0.615385\n",
            "C          0.593220\n",
            "G          0.500000\n",
            "A          0.466667\n",
            "Unknown    0.299854\n",
            "T          0.000000\n",
            "Name: Survived, dtype: float64\n",
            "\n",
            "VERIFICACIÓN DE VALORES ÚNICOS Y CONTEO:\n",
            "CabinDeck\n",
            "Unknown    687\n",
            "C           59\n",
            "B           47\n",
            "D           33\n",
            "E           32\n",
            "A           15\n",
            "F           13\n",
            "G            4\n",
            "T            1\n",
            "Name: count, dtype: int64\n"
          ]
        },
        {
          "output_type": "stream",
          "name": "stderr",
          "text": [
            "/tmp/ipython-input-3112934591.py:5: FutureWarning: A value is trying to be set on a copy of a DataFrame or Series through chained assignment using an inplace method.\n",
            "The behavior will change in pandas 3.0. This inplace method will never work because the intermediate object on which we are setting values always behaves as a copy.\n",
            "\n",
            "For example, when doing 'df[col].method(value, inplace=True)', try using 'df.method({col: value}, inplace=True)' or df[col] = df[col].method(value) instead, to perform the operation inplace on the original object.\n",
            "\n",
            "\n",
            "  df['CabinDeck'].fillna('Unknown', inplace=True)\n"
          ]
        }
      ]
    },
    {
      "cell_type": "markdown",
      "source": [
        "### Variable CabinKnown"
      ],
      "metadata": {
        "id": "yrsnDpNQ_MUT"
      }
    },
    {
      "cell_type": "code",
      "source": [
        "# --- 7. VARIABLE: CabinKnown (CABINA CONOCIDA) ---\n",
        "\n",
        "def cabin_known_feature(df):\n",
        "  df['CabinKnown'] = df['Cabin'].isnull().astype(int)\n",
        "  # ANÁLISIS DE LA RELACIÓN CON SUPERVIVENCIA\n",
        "  print(\"RELACIÓN DE 'CabinKnown' CON LA SUPERVIVENCIA:\")\n",
        "  print(df.groupby('CabinKnown')['Survived'].mean())\n",
        "  # VERIFICACIÓN DE CALIDAD\n",
        "  print(\"\\nVERIFICACIÓN DE VALORES ÚNICOS Y CONTEO:\")\n",
        "  print(df['CabinKnown'].value_counts())\n",
        "\n",
        "cabin_known_feature(df)\n"
      ],
      "metadata": {
        "colab": {
          "base_uri": "https://localhost:8080/"
        },
        "id": "7yPxHlL3143F",
        "outputId": "df8cbbb8-47fd-4342-9a33-e8f0cb5bec70"
      },
      "execution_count": null,
      "outputs": [
        {
          "output_type": "stream",
          "name": "stdout",
          "text": [
            "RELACIÓN DE 'CabinKnown' CON LA SUPERVIVENCIA:\n",
            "CabinKnown\n",
            "0    0.666667\n",
            "1    0.299854\n",
            "Name: Survived, dtype: float64\n",
            "\n",
            "VERIFICACIÓN DE VALORES ÚNICOS Y CONTEO:\n",
            "CabinKnown\n",
            "1    687\n",
            "0    204\n",
            "Name: count, dtype: int64\n"
          ]
        }
      ]
    },
    {
      "cell_type": "markdown",
      "source": [
        "### Variable TicketFrequency"
      ],
      "metadata": {
        "id": "RBwd9rIk_O_2"
      }
    },
    {
      "cell_type": "code",
      "source": [
        "# --- 8. VARIABLE: TicketFrequency (FREQUENCIA DE TICKEY ) ---\n",
        "\n",
        "def ticket_frequency_feature(df):\n",
        "  df['TicketFrequency'] = df.groupby('Ticket')['Ticket'].transform('count')\n",
        "  # ANÁLISIS DE LA RELACIÓN CON SUPERVIVENCIA\n",
        "  print(\"RELACIÓN DE 'TicketFrequency' CON LA SUPERVIVENCIA:\")\n",
        "  print(df.groupby('TicketFrequency')['Survived'].mean())\n",
        "  # VERIFICACIÓN DE CALIDAD\n",
        "  print(\"\\nVERIFICACIÓN DE VALORES ÚNICOS Y CONTEO:\")\n",
        "  print(df['TicketFrequency'].value_counts().sort_index())\n",
        "\n",
        "ticket_frequency_feature(df)"
      ],
      "metadata": {
        "colab": {
          "base_uri": "https://localhost:8080/"
        },
        "id": "y2C0HyCmkhNw",
        "outputId": "f421fc96-9380-4efb-df69-e709168f16b7"
      },
      "execution_count": null,
      "outputs": [
        {
          "output_type": "stream",
          "name": "stdout",
          "text": [
            "RELACIÓN DE 'TicketFrequency' CON LA SUPERVIVENCIA:\n",
            "TicketFrequency\n",
            "1    0.297989\n",
            "2    0.574468\n",
            "3    0.698413\n",
            "4    0.500000\n",
            "5    0.000000\n",
            "6    0.000000\n",
            "7    0.238095\n",
            "Name: Survived, dtype: float64\n",
            "\n",
            "VERIFICACIÓN DE VALORES ÚNICOS Y CONTEO:\n",
            "TicketFrequency\n",
            "1    547\n",
            "2    188\n",
            "3     63\n",
            "4     44\n",
            "5     10\n",
            "6     18\n",
            "7     21\n",
            "Name: count, dtype: int64\n"
          ]
        }
      ]
    },
    {
      "cell_type": "markdown",
      "source": [
        "### Variable NameLength"
      ],
      "metadata": {
        "id": "lEU0lHE0_RDz"
      }
    },
    {
      "cell_type": "code",
      "source": [
        "# --- 9. VARIABLE: NameLength (LONGITUD DE NOMBRE ) ---\n",
        "\n",
        "def name_length_feature(df):\n",
        "  df['NameLength'] = df['Name'].str.len()\n",
        "  # ANÁLISIS DE LA RELACIÓN CON SUPERVIVENCIA\n",
        "  print(\"RELACIÓN DE 'NameLength' CON LA SUPERVIVENCIA:\")\n",
        "  print(df.groupby('NameLength')['Survived'].mean())\n",
        "  # VERIFICACIÓN DE CALIDAD\n",
        "  print(\"\\nVERIFICACIÓN DE VALORES ÚNICOS Y CONTEO:\")\n",
        "  print(df['NameLength'].value_counts().sort_index())\n",
        "\n",
        "name_length_feature(df)\n"
      ],
      "metadata": {
        "colab": {
          "base_uri": "https://localhost:8080/"
        },
        "id": "agVshEFRm4fA",
        "outputId": "94cfe5ee-fc3f-427c-a372-68552c4c25de"
      },
      "execution_count": null,
      "outputs": [
        {
          "output_type": "stream",
          "name": "stdout",
          "text": [
            "RELACIÓN DE 'NameLength' CON LA SUPERVIVENCIA:\n",
            "NameLength\n",
            "12    0.500000\n",
            "13    0.500000\n",
            "14    0.333333\n",
            "15    0.133333\n",
            "16    0.230769\n",
            "17    0.214286\n",
            "18    0.200000\n",
            "19    0.234375\n",
            "20    0.282051\n",
            "21    0.325000\n",
            "22    0.315789\n",
            "23    0.282051\n",
            "24    0.372093\n",
            "25    0.327273\n",
            "26    0.224490\n",
            "27    0.360000\n",
            "28    0.372093\n",
            "29    0.500000\n",
            "30    0.432432\n",
            "31    0.400000\n",
            "32    0.565217\n",
            "33    0.545455\n",
            "34    0.428571\n",
            "35    1.000000\n",
            "36    0.333333\n",
            "37    0.700000\n",
            "38    0.444444\n",
            "39    0.444444\n",
            "40    0.428571\n",
            "41    1.000000\n",
            "42    0.200000\n",
            "43    0.800000\n",
            "44    1.000000\n",
            "45    0.777778\n",
            "46    0.571429\n",
            "47    0.727273\n",
            "48    1.000000\n",
            "49    1.000000\n",
            "50    1.000000\n",
            "51    1.000000\n",
            "52    0.750000\n",
            "53    1.000000\n",
            "54    0.000000\n",
            "55    0.500000\n",
            "56    0.666667\n",
            "57    0.500000\n",
            "61    1.000000\n",
            "65    1.000000\n",
            "67    1.000000\n",
            "82    1.000000\n",
            "Name: Survived, dtype: float64\n",
            "\n",
            "VERIFICACIÓN DE VALORES ÚNICOS Y CONTEO:\n",
            "NameLength\n",
            "12     2\n",
            "13     2\n",
            "14     3\n",
            "15    15\n",
            "16    26\n",
            "17    42\n",
            "18    50\n",
            "19    64\n",
            "20    39\n",
            "21    40\n",
            "22    38\n",
            "23    39\n",
            "24    43\n",
            "25    55\n",
            "26    49\n",
            "27    50\n",
            "28    43\n",
            "29    32\n",
            "30    37\n",
            "31    30\n",
            "32    23\n",
            "33    22\n",
            "34     7\n",
            "35     6\n",
            "36     9\n",
            "37    10\n",
            "38     9\n",
            "39     9\n",
            "40     7\n",
            "41     8\n",
            "42     5\n",
            "43     5\n",
            "44     8\n",
            "45     9\n",
            "46     7\n",
            "47    11\n",
            "48     3\n",
            "49     5\n",
            "50     4\n",
            "51     7\n",
            "52     4\n",
            "53     2\n",
            "54     1\n",
            "55     2\n",
            "56     3\n",
            "57     2\n",
            "61     1\n",
            "65     1\n",
            "67     1\n",
            "82     1\n",
            "Name: count, dtype: int64\n"
          ]
        }
      ]
    },
    {
      "cell_type": "markdown",
      "source": [
        "### Variable  HasCabinNeighbor"
      ],
      "metadata": {
        "id": "1P0Ao-nB_Tgt"
      }
    },
    {
      "cell_type": "code",
      "source": [
        "# --- 10. VARIABLE: HasCabinNeighbor (CABINAS CERCANAS CON FAMILIARES ) ---\n",
        "\n",
        "def has_cabin_neighbor_feature(df):\n",
        "    df['HasCabinNeighbor'] = df['Cabin'].notnull().astype(int)\n",
        "    # ANÁLISIS DE LA RELACIÓN CON SUPERVIVENCIA\n",
        "    print(\"RELACIÓN DE 'HasCabinNeighbor' CON LA SUPERVIVENCIA:\")\n",
        "    print(df.groupby('HasCabinNeighbor')['Survived'].mean())\n",
        "    # VERIFICACIÓN DE CALIDAD\n",
        "    print(\"\\nVERIFICACIÓN DE VALORES ÚNICOS Y CONTEO:\")\n",
        "    print(df['HasCabinNeighbor'].value_counts())\n",
        "\n",
        "has_cabin_neighbor_feature(df)"
      ],
      "metadata": {
        "colab": {
          "base_uri": "https://localhost:8080/"
        },
        "id": "TXKRBOGknN8g",
        "outputId": "30f33fba-e235-4616-ca8b-227910703a6b"
      },
      "execution_count": null,
      "outputs": [
        {
          "output_type": "stream",
          "name": "stdout",
          "text": [
            "RELACIÓN DE 'HasCabinNeighbor' CON LA SUPERVIVENCIA:\n",
            "HasCabinNeighbor\n",
            "0    0.299854\n",
            "1    0.666667\n",
            "Name: Survived, dtype: float64\n",
            "\n",
            "VERIFICACIÓN DE VALORES ÚNICOS Y CONTEO:\n",
            "HasCabinNeighbor\n",
            "0    687\n",
            "1    204\n",
            "Name: count, dtype: int64\n"
          ]
        }
      ]
    },
    {
      "cell_type": "markdown",
      "source": [
        "### Variable: TicketPrefix"
      ],
      "metadata": {
        "id": "VLQ_87EX_XCo"
      }
    },
    {
      "cell_type": "code",
      "source": [
        "# --- 11. VARIABLE: TicketPrefix (PREFIJO DEL TCIKET ) ---\n",
        "\n",
        "def ticket_prefix_feature(df):\n",
        "    df['TicketPrefix'] = df['Ticket'].str.extract(r'([A-Za-z]+)\\d*')\n",
        "    df['TicketPrefix'].fillna('Unknown', inplace=True)\n",
        "    # ANÁLISIS DE LA RELACIÓN CON SUPERVIVENCIA\n",
        "    print(\"RELACIÓN DE 'TicketPrefix' CON LA SUPERVIVENCIA:\")\n",
        "    print(df.groupby('TicketPrefix')['Survived'].mean().sort_values(ascending=False))\n",
        "    # VERIFICACIÓN DE CALIDAD\n",
        "    print(\"\\nVERIFICACIÓN DE VALORES ÚNICOS Y CONTEO:\")\n",
        "    print(df['TicketPrefix'].value_counts())\n",
        "\n",
        "ticket_prefix_feature(df)\n",
        "\n"
      ],
      "metadata": {
        "colab": {
          "base_uri": "https://localhost:8080/"
        },
        "id": "IQyRq7HBwwks",
        "outputId": "cc50d8ad-e5cd-41f5-c17a-07de849b50bb"
      },
      "execution_count": null,
      "outputs": [
        {
          "output_type": "stream",
          "name": "stdout",
          "text": [
            "RELACIÓN DE 'TicketPrefix' CON LA SUPERVIVENCIA:\n",
            "TicketPrefix\n",
            "SW         1.000000\n",
            "SO         1.000000\n",
            "F          0.666667\n",
            "PP         0.666667\n",
            "PC         0.650000\n",
            "SC         0.538462\n",
            "P          0.500000\n",
            "WE         0.500000\n",
            "C          0.454545\n",
            "STON       0.444444\n",
            "Unknown    0.384266\n",
            "LINE       0.250000\n",
            "S          0.142857\n",
            "SOTON      0.117647\n",
            "W          0.090909\n",
            "CA         0.071429\n",
            "A          0.068966\n",
            "Fa         0.000000\n",
            "SCO        0.000000\n",
            "Name: Survived, dtype: float64\n",
            "\n",
            "VERIFICACIÓN DE VALORES ÚNICOS Y CONTEO:\n",
            "TicketPrefix\n",
            "Unknown    661\n",
            "PC          60\n",
            "C           33\n",
            "A           29\n",
            "STON        18\n",
            "SOTON       17\n",
            "CA          14\n",
            "S           14\n",
            "SC          13\n",
            "W           11\n",
            "F            6\n",
            "LINE         4\n",
            "PP           3\n",
            "P            2\n",
            "WE           2\n",
            "SO           1\n",
            "Fa           1\n",
            "SCO          1\n",
            "SW           1\n",
            "Name: count, dtype: int64\n"
          ]
        },
        {
          "output_type": "stream",
          "name": "stderr",
          "text": [
            "/tmp/ipython-input-305781971.py:5: FutureWarning: A value is trying to be set on a copy of a DataFrame or Series through chained assignment using an inplace method.\n",
            "The behavior will change in pandas 3.0. This inplace method will never work because the intermediate object on which we are setting values always behaves as a copy.\n",
            "\n",
            "For example, when doing 'df[col].method(value, inplace=True)', try using 'df.method({col: value}, inplace=True)' or df[col] = df[col].method(value) instead, to perform the operation inplace on the original object.\n",
            "\n",
            "\n",
            "  df['TicketPrefix'].fillna('Unknown', inplace=True)\n"
          ]
        }
      ]
    },
    {
      "cell_type": "markdown",
      "source": [
        "# 2.2 Transformaciones de Variables Existentes y 2.3 Análisis de Interacciones\n",
        "\n"
      ],
      "metadata": {
        "id": "BCklg8pfp9oX"
      }
    },
    {
      "cell_type": "code",
      "source": [
        "import numpy as np\n",
        "import pandas as pd\n",
        "from sklearn.pipeline import Pipeline\n",
        "from sklearn.compose import ColumnTransformer\n",
        "from sklearn.preprocessing import StandardScaler, OneHotEncoder\n",
        "from sklearn.impute import SimpleImputer"
      ],
      "metadata": {
        "id": "OsKK2dFwq1BG"
      },
      "execution_count": null,
      "outputs": []
    },
    {
      "cell_type": "code",
      "metadata": {
        "id": "980f51bd"
      },
      "source": [
        "# La clase TitanicDatasetPreprocessor nos sirve para preprocesar los datos, ubicados en\n",
        "# el dataframe del titanic llamado df, lo cual no sirve para alimentar modelos de\n",
        "# machine learning a través de tres/3 funcionalidades que viene siendo:\n",
        "\n",
        "\n",
        "# 1. Crear nuevas variables a partir de variables existentes (feature engineering)\n",
        "# 2. Validar que estas variables estén correctas\n",
        "# 3. Transformar los datos para que sean númericos y escalables para un modelo de Machine Learning\n",
        "\n",
        "\n",
        "\n",
        "\n",
        "class TitanicDatasetPreprocessor:\n",
        "    def __init__(self):\n",
        "        self.pipeline = None # Con pipeline, podemos guardar el objeto de transformación que aplica el escalado\n",
        "        self.feature_engineered = False # Con feature engineered, tenemos un flag que indica si las nuevas columnas/variables han sido creadas\n",
        "\n",
        "    # Validación continua\n",
        "    # Verificamos que la columna exista, checamos cuantos valores nulos hay, nos aseguramos que la columan sea el tipo de dato correcto\n",
        "    # y checamos cuantos valores unicos hay.\n",
        "    # Si no cumple ninguna de las condiciones entoncers nos marca error\n",
        "    def _validate_feature(self, df, col, expected_dtype=None, max_unique=None):\n",
        "        assert col in df.columns, f\" Columna {col} no fue creada.\"\n",
        "        assert df[col].isnull().mean() < 0.2, f\" Columna {col} tiene demasiados valores nulos.\"\n",
        "        if expected_dtype:\n",
        "            assert df[col].dtype == expected_dtype, f\" {col} debería ser {expected_dtype}, pero es {df[col].dtype}.\"\n",
        "        if max_unique:\n",
        "            assert df[col].nunique() <= max_unique, f\" {col} tiene demasiados valores únicos ({df[col].nunique()}).\"\n",
        "        print(f\" Validación pasada: {col}\")\n",
        "\n",
        "    # Tratamiento de outliers con IQR (investigamos se encuuentran valores atípicos y/o extremos)\n",
        "    def _treat_outliers(self, df, cols):\n",
        "        for col in cols:\n",
        "            if col in df.columns:\n",
        "                Q1 = df[col].quantile(0.25) # Primer Cuartil\n",
        "                Q3 = df[col].quantile(0.75) # Tercer Cuartil\n",
        "                IQR = Q3 - Q1 # Intercuartil\n",
        "                lower = Q1 - 1.5 * IQR # Limite Inferior\n",
        "                upper = Q3 + 1.5 * IQR # Limmite Superior\n",
        "                df[col] = np.clip(df[col], lower, upper) # Capturamos los outliers\n",
        "                print(f\" Outliers tratados en {col}\")\n",
        "        return df\n",
        "\n",
        "    # Visualización de outliers\n",
        "    def visualize_outliers(self, df, cols):\n",
        "        for col in cols:\n",
        "            if col in df.columns:\n",
        "                fig, axes = plt.subplots(1, 2, figsize=(12, 4))\n",
        "\n",
        "                # Boxplot para detectar outliers\n",
        "                sns.boxplot(x=df[col], ax=axes[0])\n",
        "                axes[0].set_title(f\"Boxplot de {col}\")\n",
        "\n",
        "                # Histograma para ver distribución\n",
        "                sns.histplot(df[col], bins=30, kde=True, ax=axes[1])\n",
        "                axes[1].set_title(f\"Distribución de {col}\")\n",
        "\n",
        "                plt.tight_layout()\n",
        "                plt.show()\n",
        "\n",
        "    # Feature Engineering\n",
        "    def _feature_engineering(self, df):\n",
        "        feature_funcs = [\n",
        "            title_feature, family_size_feature, is_alone_feature, age_group_feature,\n",
        "            fare_per_person_feature, cabin_deck_feature, cabin_known_feature,\n",
        "            ticket_frequency_feature, name_length_feature, has_cabin_neighbor_feature,\n",
        "            ticket_prefix_feature\n",
        "        ]\n",
        "        for func in feature_funcs:\n",
        "            df = func(df)\n",
        "\n",
        "        # Revisamos que la hayan creado ciertas features\n",
        "        for col in [\"Title\", \"FamilySize\", \"IsAlone\", \"AgeGroup\", \"FarePerPerson\"]:\n",
        "            self._validate_feature(df, col)\n",
        "\n",
        "        # Agregamos las interraciones interacciones\n",
        "        df = self._feature_interactions(df)\n",
        "        return df\n",
        "\n",
        "    # Interacciones\n",
        "    def _feature_interactions(self, df):\n",
        "        df[\"Sex*Class\"] = df[\"Sex\"].astype(str) + \"_\" + df[\"Pclass\"].astype(str)\n",
        "        df[\"Age*Class\"] = pd.cut(df[\"Age\"], bins=[0,12,18,40,60,80], labels=False) * df[\"Pclass\"]\n",
        "        df[\"Sex*AgeGroup\"] = df[\"Sex\"].astype(str) + \"_\" + df[\"AgeGroup\"].astype(str)\n",
        "        df[\"Fare*Embarked\"] = pd.qcut(df[\"Fare\"], 4, labels=False) * df[\"Embarked\"].factorize()[0]\n",
        "        df[\"Family*Class\"] = df[\"FamilySize\"] * df[\"Pclass\"]\n",
        "\n",
        "        # Validamos que se hayan creado lass interacciones de features\n",
        "        for col in [\"Sex*Class\", \"Age*Class\", \"Sex*AgeGroup\", \"Fare*Embarked\", \"Family*Class\"]:\n",
        "            self._validate_feature(df, col)\n",
        "\n",
        "        return df\n",
        "\n",
        "    # Fit - Aprende de los parámetros de Transformación\n",
        "    def fit(self, X, y=None):\n",
        "        X_proc = self._feature_engineering(X.copy())\n",
        "        self.feature_engineered = True\n",
        "\n",
        "        # Separamos todass las variables en dos listas: una lista de variables numéricas y otra de variables categóricas\n",
        "        num_cols = X_proc.select_dtypes(include=np.number).columns.tolist()\n",
        "        cat_cols = X_proc.select_dtypes(include=\"object\").columns.tolist()\n",
        "\n",
        "        # Rellenamos nulos con la mediana y luego escalamos los datos\n",
        "        num_transformer = Pipeline(steps=[\n",
        "            (\"imputer\", SimpleImputer(strategy=\"median\")),\n",
        "            (\"scaler\", StandardScaler())\n",
        "        ])\n",
        "\n",
        "        # Rellenamos nulos con la moda y aplicamos One-Hot encoding\n",
        "        cat_transformer = Pipeline(steps=[\n",
        "            (\"imputer\", SimpleImputer(strategy=\"most_frequent\")),\n",
        "            (\"onehot\", OneHotEncoder(handle_unknown=\"ignore\"))\n",
        "        ])\n",
        "\n",
        "        # Nos aseguramoss de aplicar las transformaciones con sus respectivas columnas/variables\n",
        "        self.pipeline = ColumnTransformer(transformers=[\n",
        "            (\"num\", num_transformer, num_cols),\n",
        "            (\"cat\", cat_transformer, cat_cols)\n",
        "        ])\n",
        "\n",
        "        self.pipeline.fit(X_proc)\n",
        "        return self\n",
        "\n",
        "    # Transform - Aplica las transformaciones a un nuevo dataset\n",
        "    def transform(self, X):\n",
        "        if not self.feature_engineered:\n",
        "            raise RuntimeError(\"Primero usa fit() en datos de entrenamiento.\")\n",
        "        X_proc = self._feature_engineering(X.copy())\n",
        "        return self.pipeline.transform(X_proc)\n",
        "\n",
        "\n",
        "    # Combinación de Fit y de Transform\n",
        "    def fit_transform(self, X, y=None):\n",
        "        return self.fit(X, y).transform(X)\n"
      ],
      "execution_count": null,
      "outputs": []
    }
  ]
}