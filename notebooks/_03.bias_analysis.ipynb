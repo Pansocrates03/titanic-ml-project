{
  "cells": [
    {
      "cell_type": "code",
      "execution_count": 4,
      "metadata": {
        "id": "2Sq7w_JO-q-L"
      },
      "outputs": [],
      "source": [
        "#import pandas as pd\n",
        "#import numpy as np\n",
        "#import matplotlib.pyplot as plt\n",
        "#import seaborn as sns\n",
        "#import scipy.stats as stats\n",
        "%matplotlib inline"
      ]
    },
    {
      "cell_type": "code",
      "execution_count": 5,
      "metadata": {
        "colab": {
          "base_uri": "https://localhost:8080/",
          "height": 206
        },
        "id": "h1UBwdj5_SCb",
        "outputId": "2451257c-6277-401e-ad2c-a43b45ed1f28"
      },
      "outputs": [
        {
          "data": {
            "text/html": [
              "<div>\n",
              "<style scoped>\n",
              "    .dataframe tbody tr th:only-of-type {\n",
              "        vertical-align: middle;\n",
              "    }\n",
              "\n",
              "    .dataframe tbody tr th {\n",
              "        vertical-align: top;\n",
              "    }\n",
              "\n",
              "    .dataframe thead th {\n",
              "        text-align: right;\n",
              "    }\n",
              "</style>\n",
              "<table border=\"1\" class=\"dataframe\">\n",
              "  <thead>\n",
              "    <tr style=\"text-align: right;\">\n",
              "      <th></th>\n",
              "      <th>PassengerId</th>\n",
              "      <th>Survived</th>\n",
              "      <th>Pclass</th>\n",
              "      <th>Name</th>\n",
              "      <th>Sex</th>\n",
              "      <th>Age</th>\n",
              "      <th>SibSp</th>\n",
              "      <th>Parch</th>\n",
              "      <th>Ticket</th>\n",
              "      <th>Fare</th>\n",
              "      <th>Cabin</th>\n",
              "      <th>Embarked</th>\n",
              "    </tr>\n",
              "  </thead>\n",
              "  <tbody>\n",
              "    <tr>\n",
              "      <th>0</th>\n",
              "      <td>1</td>\n",
              "      <td>0</td>\n",
              "      <td>3</td>\n",
              "      <td>Braund, Mr. Owen Harris</td>\n",
              "      <td>male</td>\n",
              "      <td>22.0</td>\n",
              "      <td>1</td>\n",
              "      <td>0</td>\n",
              "      <td>A/5 21171</td>\n",
              "      <td>7.2500</td>\n",
              "      <td>NaN</td>\n",
              "      <td>S</td>\n",
              "    </tr>\n",
              "    <tr>\n",
              "      <th>1</th>\n",
              "      <td>2</td>\n",
              "      <td>1</td>\n",
              "      <td>1</td>\n",
              "      <td>Cumings, Mrs. John Bradley (Florence Briggs Th...</td>\n",
              "      <td>female</td>\n",
              "      <td>38.0</td>\n",
              "      <td>1</td>\n",
              "      <td>0</td>\n",
              "      <td>PC 17599</td>\n",
              "      <td>71.2833</td>\n",
              "      <td>C85</td>\n",
              "      <td>C</td>\n",
              "    </tr>\n",
              "    <tr>\n",
              "      <th>2</th>\n",
              "      <td>3</td>\n",
              "      <td>1</td>\n",
              "      <td>3</td>\n",
              "      <td>Heikkinen, Miss. Laina</td>\n",
              "      <td>female</td>\n",
              "      <td>26.0</td>\n",
              "      <td>0</td>\n",
              "      <td>0</td>\n",
              "      <td>STON/O2. 3101282</td>\n",
              "      <td>7.9250</td>\n",
              "      <td>NaN</td>\n",
              "      <td>S</td>\n",
              "    </tr>\n",
              "    <tr>\n",
              "      <th>3</th>\n",
              "      <td>4</td>\n",
              "      <td>1</td>\n",
              "      <td>1</td>\n",
              "      <td>Futrelle, Mrs. Jacques Heath (Lily May Peel)</td>\n",
              "      <td>female</td>\n",
              "      <td>35.0</td>\n",
              "      <td>1</td>\n",
              "      <td>0</td>\n",
              "      <td>113803</td>\n",
              "      <td>53.1000</td>\n",
              "      <td>C123</td>\n",
              "      <td>S</td>\n",
              "    </tr>\n",
              "    <tr>\n",
              "      <th>4</th>\n",
              "      <td>5</td>\n",
              "      <td>0</td>\n",
              "      <td>3</td>\n",
              "      <td>Allen, Mr. William Henry</td>\n",
              "      <td>male</td>\n",
              "      <td>35.0</td>\n",
              "      <td>0</td>\n",
              "      <td>0</td>\n",
              "      <td>373450</td>\n",
              "      <td>8.0500</td>\n",
              "      <td>NaN</td>\n",
              "      <td>S</td>\n",
              "    </tr>\n",
              "  </tbody>\n",
              "</table>\n",
              "</div>"
            ],
            "text/plain": [
              "   PassengerId  Survived  Pclass  \\\n",
              "0            1         0       3   \n",
              "1            2         1       1   \n",
              "2            3         1       3   \n",
              "3            4         1       1   \n",
              "4            5         0       3   \n",
              "\n",
              "                                                Name     Sex   Age  SibSp  \\\n",
              "0                            Braund, Mr. Owen Harris    male  22.0      1   \n",
              "1  Cumings, Mrs. John Bradley (Florence Briggs Th...  female  38.0      1   \n",
              "2                             Heikkinen, Miss. Laina  female  26.0      0   \n",
              "3       Futrelle, Mrs. Jacques Heath (Lily May Peel)  female  35.0      1   \n",
              "4                           Allen, Mr. William Henry    male  35.0      0   \n",
              "\n",
              "   Parch            Ticket     Fare Cabin Embarked  \n",
              "0      0         A/5 21171   7.2500   NaN        S  \n",
              "1      0          PC 17599  71.2833   C85        C  \n",
              "2      0  STON/O2. 3101282   7.9250   NaN        S  \n",
              "3      0            113803  53.1000  C123        S  \n",
              "4      0            373450   8.0500   NaN        S  "
            ]
          },
          "execution_count": 5,
          "metadata": {},
          "output_type": "execute_result"
        }
      ],
      "source": [
        "df = pd.read_csv(\"../data/raw/Titanic-Dataset.csv\")\n",
        "df.head()"
      ]
    },
    {
      "cell_type": "code",
      "execution_count": 6,
      "metadata": {
        "colab": {
          "base_uri": "https://localhost:8080/"
        },
        "id": "MCtuDyMSnsAX",
        "outputId": "055653aa-66b5-4abe-b68a-85417bb275d3"
      },
      "outputs": [
        {
          "name": "stdout",
          "output_type": "stream",
          "text": [
            "<class 'pandas.core.frame.DataFrame'>\n",
            "RangeIndex: 891 entries, 0 to 890\n",
            "Data columns (total 12 columns):\n",
            " #   Column       Non-Null Count  Dtype  \n",
            "---  ------       --------------  -----  \n",
            " 0   PassengerId  891 non-null    int64  \n",
            " 1   Survived     891 non-null    int64  \n",
            " 2   Pclass       891 non-null    int64  \n",
            " 3   Name         891 non-null    object \n",
            " 4   Sex          891 non-null    object \n",
            " 5   Age          714 non-null    float64\n",
            " 6   SibSp        891 non-null    int64  \n",
            " 7   Parch        891 non-null    int64  \n",
            " 8   Ticket       891 non-null    object \n",
            " 9   Fare         891 non-null    float64\n",
            " 10  Cabin        204 non-null    object \n",
            " 11  Embarked     889 non-null    object \n",
            "dtypes: float64(2), int64(5), object(5)\n",
            "memory usage: 83.7+ KB\n"
          ]
        }
      ],
      "source": [
        "df.info()"
      ]
    },
    {
      "cell_type": "markdown",
      "metadata": {
        "id": "8FNg2Nvy3Fp9"
      },
      "source": [
        "Modificación del dataset para facilitar su lectura"
      ]
    },
    {
      "cell_type": "code",
      "execution_count": 7,
      "metadata": {
        "id": "v9Ab9ueD_9Jq"
      },
      "outputs": [],
      "source": [
        "# Estadísticas para revisar posibles combinaciones de factores que juegan un papel clave para los datos\n",
        "\n",
        "df['TamañoFamilia'] = df['SibSp'] + df['Parch'] + 1  # Tamaño de la familia dentro del barco\n",
        "df[\"OrigenClase3\"] = (df['Pclass'] == 3).astype(int) # Creación de variable binaria para una mejor interpretación\n",
        "df[\"OrigenEmbarked_Southampton\"] = (df['Embarked'] == 'S').astype(int)"
      ]
    },
    {
      "cell_type": "code",
      "execution_count": 8,
      "metadata": {
        "colab": {
          "base_uri": "https://localhost:8080/"
        },
        "id": "mhlX994DCDXs",
        "outputId": "05df694f-1c51-4122-dcd1-280624e5f20e"
      },
      "outputs": [
        {
          "name": "stdout",
          "output_type": "stream",
          "text": [
            "Total de Pasajeros de Tercera & Southampton por Familia : 353\n",
            "Distribución (Tercera Clase & Southampton por Tamaño de Familia):\n",
            "Categorias_Familia\n",
            "1      232\n",
            "2-3     67\n",
            "4-6     29\n",
            "7+      25\n",
            "Name: count, dtype: int64\n"
          ]
        }
      ],
      "source": [
        "subgrupo1 = (df[\"OrigenClase3\"] == 1) & (df[\"OrigenEmbarked_Southampton\"] == 1) # Creación del subgrupo que respeta las combinanciones anteriores\n",
        "df['Categorias_Familia'] = pd.cut(df['TamañoFamilia'], bins=[0,1,3,6,100], labels=['1','2-3','4-6','7+']) # Categorías de familia con etiquetas\n",
        "print(\"Total de Pasajeros de Tercera & Southampton por Familia :\", df[subgrupo1].shape[0])\n",
        "print(\"Distribución (Tercera Clase & Southampton por Tamaño de Familia):\")\n",
        "print(df[subgrupo1]['Categorias_Familia'].value_counts(dropna=False))"
      ]
    },
    {
      "cell_type": "markdown",
      "metadata": {
        "id": "ZNJj5HPD2Vmx"
      },
      "source": [
        "## Hipótesis 1: Los pasajeros con hijos menores de edad tuvieron mayor probabilidad de supervivencia que los pasajeros sin hijos menores de edad.\n"
      ]
    },
    {
      "cell_type": "code",
      "execution_count": 9,
      "metadata": {
        "colab": {
          "base_uri": "https://localhost:8080/",
          "height": 261
        },
        "id": "1fMzOCFMCEwj",
        "outputId": "659659ba-acff-4c8f-97fd-e8d61c322ce8"
      },
      "outputs": [
        {
          "name": "stderr",
          "output_type": "stream",
          "text": [
            "C:\\Users\\Pansocrates03\\AppData\\Local\\Temp\\ipykernel_19152\\2412730589.py:1: FutureWarning: The default of observed=False is deprecated and will be changed to True in a future version of pandas. Pass observed=False to retain current behavior or observed=True to adopt the future default and silence this warning.\n",
            "  df[subgrupo1].groupby('Categorias_Familia')['Survived'].agg(['count','mean']).rename(columns={'mean':'Supervivencia'})\n"
          ]
        },
        {
          "data": {
            "text/html": [
              "<div>\n",
              "<style scoped>\n",
              "    .dataframe tbody tr th:only-of-type {\n",
              "        vertical-align: middle;\n",
              "    }\n",
              "\n",
              "    .dataframe tbody tr th {\n",
              "        vertical-align: top;\n",
              "    }\n",
              "\n",
              "    .dataframe thead th {\n",
              "        text-align: right;\n",
              "    }\n",
              "</style>\n",
              "<table border=\"1\" class=\"dataframe\">\n",
              "  <thead>\n",
              "    <tr style=\"text-align: right;\">\n",
              "      <th></th>\n",
              "      <th>count</th>\n",
              "      <th>Supervivencia</th>\n",
              "    </tr>\n",
              "    <tr>\n",
              "      <th>Categorias_Familia</th>\n",
              "      <th></th>\n",
              "      <th></th>\n",
              "    </tr>\n",
              "  </thead>\n",
              "  <tbody>\n",
              "    <tr>\n",
              "      <th>1</th>\n",
              "      <td>232</td>\n",
              "      <td>0.168103</td>\n",
              "    </tr>\n",
              "    <tr>\n",
              "      <th>2-3</th>\n",
              "      <td>67</td>\n",
              "      <td>0.328358</td>\n",
              "    </tr>\n",
              "    <tr>\n",
              "      <th>4-6</th>\n",
              "      <td>29</td>\n",
              "      <td>0.068966</td>\n",
              "    </tr>\n",
              "    <tr>\n",
              "      <th>7+</th>\n",
              "      <td>25</td>\n",
              "      <td>0.160000</td>\n",
              "    </tr>\n",
              "  </tbody>\n",
              "</table>\n",
              "</div>"
            ],
            "text/plain": [
              "                    count  Supervivencia\n",
              "Categorias_Familia                      \n",
              "1                     232       0.168103\n",
              "2-3                    67       0.328358\n",
              "4-6                    29       0.068966\n",
              "7+                     25       0.160000"
            ]
          },
          "execution_count": 9,
          "metadata": {},
          "output_type": "execute_result"
        }
      ],
      "source": [
        "df[subgrupo1].groupby('Categorias_Familia')['Survived'].agg(['count','mean']).rename(columns={'mean':'Supervivencia'})\n"
      ]
    },
    {
      "cell_type": "code",
      "execution_count": 10,
      "metadata": {
        "colab": {
          "base_uri": "https://localhost:8080/",
          "height": 628
        },
        "id": "Pk6XyxCjCKRB",
        "outputId": "e1b3c124-377c-4690-964b-d2ccdc914154"
      },
      "outputs": [
        {
          "name": "stderr",
          "output_type": "stream",
          "text": [
            "C:\\Users\\Pansocrates03\\AppData\\Local\\Temp\\ipykernel_19152\\3542318626.py:5: FutureWarning: The default of observed=False is deprecated and will be changed to True in a future version of pandas. Pass observed=False to retain current behavior or observed=True to adopt the future default and silence this warning.\n",
            "  survival_rate_subgrupo1 = df[subgrupo1].groupby('Categorias_Familia')['Survived'].mean().reset_index()\n",
            "C:\\Users\\Pansocrates03\\AppData\\Local\\Temp\\ipykernel_19152\\3542318626.py:9: FutureWarning: \n",
            "\n",
            "Passing `palette` without assigning `hue` is deprecated and will be removed in v0.14.0. Assign the `x` variable to `hue` and set `legend=False` for the same effect.\n",
            "\n",
            "  sns.barplot(data=survival_rate_subgrupo1, x='Categorias_Familia', y='Survived', palette='viridis')\n"
          ]
        },
        {
          "data": {
            "image/png": "[encoded data removed]",
            "text/plain": [
              "<Figure size 800x500 with 1 Axes>"
            ]
          },
          "metadata": {},
          "output_type": "display_data"
        }
      ],
      "source": [
        "import seaborn as sns\n",
        "import matplotlib.pyplot as plt\n",
        "\n",
        "# Se calcula la supervivencia por el subgrupo de categorias de tamaños de familia\n",
        "survival_rate_subgrupo1 = df[subgrupo1].groupby('Categorias_Familia')['Survived'].mean().reset_index()\n",
        "\n",
        "# Se crea un boxplot\n",
        "plt.figure(figsize=(8, 5))\n",
        "sns.barplot(data=survival_rate_subgrupo1, x='Categorias_Familia', y='Survived', palette='viridis')\n",
        "\n",
        "# Add titles and labels\n",
        "plt.title('Supervivencia por Categorias de Tamaños de Familia (Tercera Clase & Southampton)')\n",
        "plt.xlabel('Categorias de Tamaños de Familia')\n",
        "plt.ylabel('Supervivencia')\n",
        "\n",
        "# Desplegar gráfica\n",
        "plt.show()\n"
      ]
    },
    {
      "cell_type": "code",
      "execution_count": 11,
      "metadata": {
        "colab": {
          "base_uri": "https://localhost:8080/"
        },
        "id": "ShzKa73SCYeS",
        "outputId": "d5e43df3-40b3-4834-f71a-58ba5f9e2c98"
      },
      "outputs": [
        {
          "ename": "ModuleNotFoundError",
          "evalue": "No module named 'statsmodels'",
          "output_type": "error",
          "traceback": [
            "\u001b[31m---------------------------------------------------------------------------\u001b[39m",
            "\u001b[31mModuleNotFoundError\u001b[39m                       Traceback (most recent call last)",
            "\u001b[36mCell\u001b[39m\u001b[36m \u001b[39m\u001b[32mIn[11]\u001b[39m\u001b[32m, line 1\u001b[39m\n\u001b[32m----> \u001b[39m\u001b[32m1\u001b[39m \u001b[38;5;28;01mimport\u001b[39;00m\u001b[38;5;250m \u001b[39m\u001b[34;01mstatsmodels\u001b[39;00m\u001b[34;01m.\u001b[39;00m\u001b[34;01mapi\u001b[39;00m\u001b[38;5;250m \u001b[39m\u001b[38;5;28;01mas\u001b[39;00m\u001b[38;5;250m \u001b[39m\u001b[34;01msm\u001b[39;00m\n\u001b[32m      3\u001b[39m \u001b[38;5;66;03m# Variables independieentes y variable dependiente\u001b[39;00m\n\u001b[32m      4\u001b[39m vars_i = df[[ \u001b[33m\"\u001b[39m\u001b[33mTamañoFamilia\u001b[39m\u001b[33m\"\u001b[39m, \u001b[33m\"\u001b[39m\u001b[33mOrigenClase3\u001b[39m\u001b[33m\"\u001b[39m, \u001b[33m\"\u001b[39m\u001b[33mOrigenEmbarked_Southampton\u001b[39m\u001b[33m\"\u001b[39m]]\n",
            "\u001b[31mModuleNotFoundError\u001b[39m: No module named 'statsmodels'"
          ]
        }
      ],
      "source": [
        "import statsmodels.api as sm\n",
        "\n",
        "# Variables independieentes y variable dependiente\n",
        "vars_i = df[[ \"TamañoFamilia\", \"OrigenClase3\", \"OrigenEmbarked_Southampton\"]]\n",
        "var_d = df[\"Survived\"]\n",
        "\n",
        "# Agregamos una constante (intercepto)\n",
        "vars_i = sm.add_constant(vars_i)\n",
        "\n",
        "# Ajustamos el modelo de regresión logística\n",
        "logit_model = sm.Logit(var_d, vars_i).fit()\n",
        "\n",
        "\n",
        "# Resumen de resultados\n",
        "print(logit_model.summary())\n"
      ]
    },
    {
      "cell_type": "markdown",
      "metadata": {
        "id": "BPT2KwtO2iCx"
      },
      "source": [
        "## Hipótesis 2: a probabilidad de supervivencia en primera clase es al menos 50% mejor que la de tercera clase, para todas las edades y géneros"
      ]
    },
    {
      "cell_type": "code",
      "execution_count": null,
      "metadata": {
        "id": "Hi2PuMAZCoMx"
      },
      "outputs": [],
      "source": [
        "# MANTENEMOS SOLO LAS CLASES 1 Y 3 PARA EL ANÁLISIS\n",
        "df_hipotesis2 = df[df['Pclass'].isin([1, 3])].copy()"
      ]
    },
    {
      "cell_type": "code",
      "execution_count": null,
      "metadata": {
        "id": "vqzn7IpfaK39"
      },
      "outputs": [],
      "source": [
        "media_edad = df_hipotesis2['Age'].mean()\n",
        "df_hipotesis2['Age'] = df_hipotesis2['Age'].fillna(media_edad)"
      ]
    },
    {
      "cell_type": "code",
      "execution_count": null,
      "metadata": {
        "colab": {
          "base_uri": "https://localhost:8080/",
          "height": 564
        },
        "id": "s1tBDJJKaUqR",
        "outputId": "30778193-bb42-4a81-bbbe-d91aec09d5f2"
      },
      "outputs": [
        {
          "data": {
            "image/png": "[encoded data removed]",
            "text/plain": [
              "<Figure size 1000x600 with 1 Axes>"
            ]
          },
          "metadata": {},
          "output_type": "display_data"
        }
      ],
      "source": [
        "# --- 1. ANÁLISIS VISUAL PARA SUBGRUPOS (GÉNERO Y CLASE) ---\n",
        "\n",
        "# CALCULAMOS LA TASA DE SUPERVIVENCIA POR GÉNERO Y CLASE\n",
        "survival_rate_gender_class = df_hipotesis2.groupby(['Sex', 'Pclass'])['Survived'].mean().reset_index()\n",
        "\n",
        "# CREAMOS UNA GRÁFICA DE BARRAS\n",
        "plt.figure(figsize=(10, 6))\n",
        "sns.barplot(\n",
        "    data=survival_rate_gender_class,\n",
        "    x='Sex',\n",
        "    y='Survived',\n",
        "    hue='Pclass',\n",
        "    palette='pastel'\n",
        ")\n",
        "\n",
        "plt.title('SUPERVIVENCIA POR CLASE Y GÉNERO')\n",
        "plt.xlabel('GÉNERO')\n",
        "plt.ylabel('TASA DE SUPERVIVENCIA')\n",
        "plt.legend(title='CLASE', loc='upper right')\n",
        "plt.show()"
      ]
    },
    {
      "cell_type": "code",
      "execution_count": null,
      "metadata": {
        "colab": {
          "base_uri": "https://localhost:8080/"
        },
        "id": "rBj6vLBzafTR",
        "outputId": "6437e874-5d37-4373-b763-3a31499bc188"
      },
      "outputs": [
        {
          "name": "stdout",
          "output_type": "stream",
          "text": [
            "Optimization terminated successfully.\n",
            "         Current function value: 0.470919\n",
            "         Iterations 6\n",
            "\n",
            "--- RESUMEN DE LA REGRESIÓN LOGÍSTICA ---\n",
            "                           Logit Regression Results                           \n",
            "==============================================================================\n",
            "Dep. Variable:               Survived   No. Observations:                  707\n",
            "Model:                          Logit   Df Residuals:                      703\n",
            "Method:                           MLE   Df Model:                            3\n",
            "Date:                Mon, 25 Aug 2025   Pseudo R-squ.:                  0.2797\n",
            "Time:                        05:34:31   Log-Likelihood:                -332.94\n",
            "converged:                       True   LL-Null:                       -462.24\n",
            "Covariance Type:            nonrobust   LLR p-value:                 9.008e-56\n",
            "==============================================================================\n",
            "                 coef    std err          z      P>|z|      [0.025      0.975]\n",
            "------------------------------------------------------------------------------\n",
            "const          0.8597      0.254      3.380      0.001       0.361       1.358\n",
            "Pclass_1       2.1260      0.234      9.079      0.000       1.667       2.585\n",
            "Sex_male      -2.2269      0.202    -11.009      0.000      -2.623      -1.830\n",
            "Age           -0.0264      0.008     -3.223      0.001      -0.043      -0.010\n",
            "==============================================================================\n"
          ]
        }
      ],
      "source": [
        "# --- 2. MODELO DE REGRESIÓN LOGÍSTICA PARA EL ANÁLISIS PRINCIPAL ---\n",
        "\n",
        "# VARIABLE DEPENDIENTE: Supervivencia\n",
        "var_d = df_hipotesis2[\"Survived\"]\n",
        "\n",
        "# VARIABLES INDEPENDIENTES: Pclass, Sex y Age\n",
        "# PCLASS: CONVERTIMOS LA CLASE 1 EN DUMMY (1 SI ES CLASE 1, 0 SI ES CLASE 3)\n",
        "df_hipotesis2['Pclass_1'] = np.where(df_hipotesis2['Pclass'] == 1, 1, 0)\n",
        "\n",
        "# SEX: CONVERTIMOS EL GÉNERO EN DUMMY (1 SI ES HOMBRE, 0 SI ES MUJER)\n",
        "df_hipotesis2['Sex_male'] = np.where(df_hipotesis2['Sex'] == 'male', 1, 0)\n",
        "\n",
        "# SELECCIONAMOS LAS VARIABLES PARA EL MODELO\n",
        "vars_i = df_hipotesis2[['Pclass_1', 'Sex_male', 'Age']]\n",
        "\n",
        "# AGREGAMOS UNA CONSTANTE (INTERCEPTO)\n",
        "vars_i = sm.add_constant(vars_i)\n",
        "\n",
        "# AJUSTAMOS EL MODELO DE REGRESIÓN LOGÍSTICA\n",
        "logit_model = sm.Logit(var_d, vars_i).fit()\n",
        "\n",
        "print(\"\\n--- RESUMEN DE LA REGRESIÓN LOGÍSTICA ---\")\n",
        "print(logit_model.summary())\n"
      ]
    },
    {
      "cell_type": "code",
      "execution_count": null,
      "metadata": {
        "colab": {
          "base_uri": "https://localhost:8080/"
        },
        "id": "7o_Yfejxaxoc",
        "outputId": "8c82606c-0e8a-4d47-fe96-99266e8cd1ac"
      },
      "outputs": [
        {
          "name": "stdout",
          "output_type": "stream",
          "text": [
            "\n",
            "--- CRITERIOS DE DECISIÓN (ANÁLISIS PRINCIPAL) ---\n",
            "VALOR P PARA PCLASS_1: 0.0000\n",
            "ODDS RATIO PARA PCLASS_1: 8.38\n",
            "LA VARIABLE 'PCLASS' ES ESTADÍSTICAMENTE SIGNIFICATIVA.\n",
            "EL ODDS RATIO ES MAYOR O IGUAL A 1.5.\n",
            "ESTE ANÁLISIS APOYA LA HIPÓTESIS PRINCIPAL.\n"
          ]
        }
      ],
      "source": [
        "# --- 3. EVALUACIÓN DE LA HIPÓTESIS ---\n",
        "\n",
        "print(\"\\n--- CRITERIOS DE DECISIÓN (ANÁLISIS PRINCIPAL) ---\")\n",
        "# OBTENEMOS EL ODDS RATIO PARA LA VARIABLE 'Pclass_1'\n",
        "odds_ratio_pclass = np.exp(logit_model.params['Pclass_1'])\n",
        "p_value_pclass = logit_model.pvalues['Pclass_1']\n",
        "\n",
        "print(f\"VALOR P PARA PCLASS_1: {p_value_pclass:.4f}\")\n",
        "print(f\"ODDS RATIO PARA PCLASS_1: {odds_ratio_pclass:.2f}\")\n",
        "\n",
        "# VERIFICAMOS LA SIGNIFICANCIA ESTADÍSTICA Y EL TAMAÑO DEL EFECTO\n",
        "if p_value_pclass < 0.05:\n",
        "    print(\"LA VARIABLE 'PCLASS' ES ESTADÍSTICAMENTE SIGNIFICATIVA.\")\n",
        "    if odds_ratio_pclass >= 1.5:\n",
        "        print(\"EL ODDS RATIO ES MAYOR O IGUAL A 1.5.\")\n",
        "        print(\"ESTE ANÁLISIS APOYA LA HIPÓTESIS PRINCIPAL.\")\n",
        "    else:\n",
        "        print(\"EL ODDS RATIO ES MENOR A 1.5.\")\n",
        "        print(\"LA HIPÓTESIS NO SE CUMPLE CON EL TAMAÑO DE EFECTO MÍNIMO REQUERIDO.\")\n",
        "else:\n",
        "    print(\"LA VARIABLE 'PCLASS' NO ES ESTADÍSTICAMENTE SIGNIFICATIVA.\")\n",
        "    print(\"NO HAY EVIDENCIA PARA APOYAR LA HIPÓTESIS PRINCIPAL.\")"
      ]
    },
    {
      "cell_type": "code",
      "execution_count": null,
      "metadata": {
        "colab": {
          "base_uri": "https://localhost:8080/"
        },
        "id": "NnnoYScMcP0s",
        "outputId": "d81dae6e-a230-4457-d438-ac941631a1b9"
      },
      "outputs": [
        {
          "name": "stdout",
          "output_type": "stream",
          "text": [
            "\n",
            "--- SUBGRUPO: MUJERES ---\n",
            "Optimization terminated successfully.\n",
            "         Current function value: 0.473861\n",
            "         Iterations 7\n",
            "ODDS RATIO PARA MUJERES: 34.33\n",
            "VALOR P PARA MUJERES: 0.0000\n",
            "LA HIPÓTESIS SE CUMPLE EN EL SUBGRUPO DE MUJERES.\n",
            "\n",
            "--- SUBGRUPO: HOMBRES ---\n",
            "Optimization terminated successfully.\n",
            "         Current function value: 0.452136\n",
            "         Iterations 6\n",
            "ODDS RATIO PARA HOMBRES: 5.76\n",
            "VALOR P PARA HOMBRES: 0.0000\n",
            "LA HIPÓTESIS SE CUMPLE EN EL SUBGRUPO DE HOMBRES.\n"
          ]
        }
      ],
      "source": [
        "# --- 4. ANÁLISIS DE SUBGRUPOS (REGRESIÓN LOGÍSTICA POR GÉNERO) ---\n",
        "\n",
        "# SUBGRUPO: MUJERES\n",
        "print(\"\\n--- SUBGRUPO: MUJERES ---\")\n",
        "df_mujeres = df_hipotesis2[df_hipotesis2['Sex_male'] == 0].copy()\n",
        "if not df_mujeres.empty:\n",
        "    vars_i_mujeres = df_mujeres[['Pclass_1', 'Age']]\n",
        "    var_d_mujeres = df_mujeres['Survived']\n",
        "    vars_i_mujeres = sm.add_constant(vars_i_mujeres)\n",
        "    try:\n",
        "        modelo_mujeres = sm.Logit(var_d_mujeres, vars_i_mujeres).fit()\n",
        "        odds_ratio_mujeres = np.exp(modelo_mujeres.params['Pclass_1'])\n",
        "        p_value_mujeres = modelo_mujeres.pvalues['Pclass_1']\n",
        "\n",
        "        print(f\"ODDS RATIO PARA MUJERES: {odds_ratio_mujeres:.2f}\")\n",
        "        print(f\"VALOR P PARA MUJERES: {p_value_mujeres:.4f}\")\n",
        "\n",
        "        if p_value_mujeres < 0.05 and odds_ratio_mujeres >= 1.5:\n",
        "            print(\"LA HIPÓTESIS SE CUMPLE EN EL SUBGRUPO DE MUJERES.\")\n",
        "        else:\n",
        "            print(\"LA HIPÓTESIS NO SE CUMPLE EN EL SUBGRUPO DE MUJERES.\")\n",
        "    except Exception as e:\n",
        "        print(f\"ERROR AL AJUSTAR EL MODELO PARA MUJERES: {e}\")\n",
        "else:\n",
        "    print(\"NO HAY DATOS EN EL SUBGRUPO DE MUJERES.\")\n",
        "\n",
        "\n",
        "# SUBGRUPO: HOMBRES\n",
        "print(\"\\n--- SUBGRUPO: HOMBRES ---\")\n",
        "df_hombres = df_hipotesis2[df_hipotesis2['Sex_male'] == 1].copy()\n",
        "if not df_hombres.empty:\n",
        "    vars_i_hombres = df_hombres[['Pclass_1', 'Age']]\n",
        "    var_d_hombres = df_hombres['Survived']\n",
        "    vars_i_hombres = sm.add_constant(vars_i_hombres)\n",
        "    try:\n",
        "        modelo_hombres = sm.Logit(var_d_hombres, vars_i_hombres).fit()\n",
        "        odds_ratio_hombres = np.exp(modelo_hombres.params['Pclass_1'])\n",
        "        p_value_hombres = modelo_hombres.pvalues['Pclass_1']\n",
        "\n",
        "        print(f\"ODDS RATIO PARA HOMBRES: {odds_ratio_hombres:.2f}\")\n",
        "        print(f\"VALOR P PARA HOMBRES: {p_value_hombres:.4f}\")\n",
        "\n",
        "        if p_value_hombres < 0.05 and odds_ratio_hombres >= 1.5:\n",
        "            print(\"LA HIPÓTESIS SE CUMPLE EN EL SUBGRUPO DE HOMBRES.\")\n",
        "        else:\n",
        "            print(\"LA HIPÓTESIS NO SE CUMPLE EN EL SUBGRUPO DE HOMBRES.\")\n",
        "    except Exception as e:\n",
        "        print(f\"ERROR AL AJUSTAR EL MODELO PARA HOMBRES: {e}\")\n",
        "else:\n",
        "    print(\"NO HAY DATOS EN EL SUBGRUPO DE HOMBRES.\")"
      ]
    },
    {
      "cell_type": "code",
      "execution_count": null,
      "metadata": {
        "id": "-WsnlPDS1Mwc"
      },
      "outputs": [],
      "source": []
    },
    {
      "cell_type": "markdown",
      "metadata": {
        "id": "qng1PCef2lkE"
      },
      "source": [
        "## Hipótesis 3: La posibilidad de supervivencia disminuye en cuestión de ser de tercera vinculados a varios familiares provenientes de Southampton\n"
      ]
    },
    {
      "cell_type": "code",
      "execution_count": null,
      "metadata": {
        "colab": {
          "base_uri": "https://localhost:8080/"
        },
        "id": "IfrOR95ckHOG",
        "outputId": "506fb469-8a11-4696-fd58-7e9dad9ea175"
      },
      "outputs": [
        {
          "name": "stderr",
          "output_type": "stream",
          "text": [
            "/tmp/ipython-input-2286352090.py:3: FutureWarning: A value is trying to be set on a copy of a DataFrame or Series through chained assignment using an inplace method.\n",
            "The behavior will change in pandas 3.0. This inplace method will never work because the intermediate object on which we are setting values always behaves as a copy.\n",
            "\n",
            "For example, when doing 'df[col].method(value, inplace=True)', try using 'df.method({col: value}, inplace=True)' or df[col] = df[col].method(value) instead, to perform the operation inplace on the original object.\n",
            "\n",
            "\n",
            "  df['Age'].fillna(df['Age'].median(), inplace=True)\n",
            "/tmp/ipython-input-2286352090.py:4: FutureWarning: A value is trying to be set on a copy of a DataFrame or Series through chained assignment using an inplace method.\n",
            "The behavior will change in pandas 3.0. This inplace method will never work because the intermediate object on which we are setting values always behaves as a copy.\n",
            "\n",
            "For example, when doing 'df[col].method(value, inplace=True)', try using 'df.method({col: value}, inplace=True)' or df[col] = df[col].method(value) instead, to perform the operation inplace on the original object.\n",
            "\n",
            "\n",
            "  df['Embarked'].fillna(df['Embarked'].mode()[0], inplace=True)\n",
            "/tmp/ipython-input-2286352090.py:5: FutureWarning: A value is trying to be set on a copy of a DataFrame or Series through chained assignment using an inplace method.\n",
            "The behavior will change in pandas 3.0. This inplace method will never work because the intermediate object on which we are setting values always behaves as a copy.\n",
            "\n",
            "For example, when doing 'df[col].method(value, inplace=True)', try using 'df.method({col: value}, inplace=True)' or df[col] = df[col].method(value) instead, to perform the operation inplace on the original object.\n",
            "\n",
            "\n",
            "  df['Fare'].fillna(df['Fare'].mean(), inplace=True)\n"
          ]
        }
      ],
      "source": [
        "\n",
        "# --- 1. CARGAR DATASET Y PREPROCESAMIENTO ---\n",
        "# MANEJO DE VALORES NULOS PARA LAS VARIABLES CLAVE\n",
        "df['Age'].fillna(df['Age'].median(), inplace=True)\n",
        "df['Embarked'].fillna(df['Embarked'].mode()[0], inplace=True)\n",
        "df['Fare'].fillna(df['Fare'].mean(), inplace=True)\n",
        "\n",
        "# CREAR LA VARIABLE 'FamilySize' (TAMAÑO DE LA FAMILIA)\n",
        "df['FamilySize'] = df['SibSp'] + df['Parch'] + 1\n",
        "\n",
        "# CONVERSIÓN DE VARIABLES CATEGÓRICAS A DUMMIES (ONE-HOT ENCODING)\n",
        "df_dummies = pd.get_dummies(df[['Pclass', 'Sex', 'Embarked']], dtype=int)\n",
        "df_hipotesis3 = pd.concat([df, df_dummies], axis=1)"
      ]
    },
    {
      "cell_type": "code",
      "execution_count": null,
      "metadata": {
        "colab": {
          "base_uri": "https://localhost:8080/",
          "height": 581
        },
        "id": "RaMxUrzqkf4M",
        "outputId": "2012afd1-3d84-4625-b400-a63bc8468a99"
      },
      "outputs": [
        {
          "ename": "KeyError",
          "evalue": "'Pclass_3'",
          "output_type": "error",
          "traceback": [
            "\u001b[0;31m---------------------------------------------------------------------------\u001b[0m",
            "\u001b[0;31mKeyError\u001b[0m                                  Traceback (most recent call last)",
            "\u001b[0;32m/usr/local/lib/python3.12/dist-packages/pandas/core/indexes/base.py\u001b[0m in \u001b[0;36mget_loc\u001b[0;34m(self, key)\u001b[0m\n\u001b[1;32m   3804\u001b[0m         \u001b[0;32mtry\u001b[0m\u001b[0;34m:\u001b[0m\u001b[0;34m\u001b[0m\u001b[0;34m\u001b[0m\u001b[0m\n\u001b[0;32m-> 3805\u001b[0;31m             \u001b[0;32mreturn\u001b[0m \u001b[0mself\u001b[0m\u001b[0;34m.\u001b[0m\u001b[0m_engine\u001b[0m\u001b[0;34m.\u001b[0m\u001b[0mget_loc\u001b[0m\u001b[0;34m(\u001b[0m\u001b[0mcasted_key\u001b[0m\u001b[0;34m)\u001b[0m\u001b[0;34m\u001b[0m\u001b[0;34m\u001b[0m\u001b[0m\n\u001b[0m\u001b[1;32m   3806\u001b[0m         \u001b[0;32mexcept\u001b[0m \u001b[0mKeyError\u001b[0m \u001b[0;32mas\u001b[0m \u001b[0merr\u001b[0m\u001b[0;34m:\u001b[0m\u001b[0;34m\u001b[0m\u001b[0;34m\u001b[0m\u001b[0m\n",
            "\u001b[0;32mindex.pyx\u001b[0m in \u001b[0;36mpandas._libs.index.IndexEngine.get_loc\u001b[0;34m()\u001b[0m\n",
            "\u001b[0;32mindex.pyx\u001b[0m in \u001b[0;36mpandas._libs.index.IndexEngine.get_loc\u001b[0;34m()\u001b[0m\n",
            "\u001b[0;32mindex.pyx\u001b[0m in \u001b[0;36mpandas._libs.index.IndexEngine._get_loc_duplicates\u001b[0;34m()\u001b[0m\n",
            "\u001b[0;32mindex.pyx\u001b[0m in \u001b[0;36mpandas._libs.index.IndexEngine._maybe_get_bool_indexer\u001b[0;34m()\u001b[0m\n",
            "\u001b[0;32mindex.pyx\u001b[0m in \u001b[0;36mpandas._libs.index._unpack_bool_indexer\u001b[0;34m()\u001b[0m\n",
            "\u001b[0;31mKeyError\u001b[0m: 'Pclass_3'",
            "\nThe above exception was the direct cause of the following exception:\n",
            "\u001b[0;31mKeyError\u001b[0m                                  Traceback (most recent call last)",
            "\u001b[0;32m/tmp/ipython-input-37141781.py\u001b[0m in \u001b[0;36m<cell line: 0>\u001b[0;34m()\u001b[0m\n\u001b[1;32m      1\u001b[0m \u001b[0;31m# --- 2. CREACIÓN DE LA VARIABLE DE INTERACCIÓN (ANALISIS PRINCIPAL) ---\u001b[0m\u001b[0;34m\u001b[0m\u001b[0;34m\u001b[0m\u001b[0m\n\u001b[1;32m      2\u001b[0m df_hipotesis3['Hipotesis3_Interaction'] = np.where(\n\u001b[0;32m----> 3\u001b[0;31m     \u001b[0;34m(\u001b[0m\u001b[0mdf_hipotesis3\u001b[0m\u001b[0;34m[\u001b[0m\u001b[0;34m'Pclass_3'\u001b[0m\u001b[0;34m]\u001b[0m \u001b[0;34m==\u001b[0m \u001b[0;36m1\u001b[0m\u001b[0;34m)\u001b[0m \u001b[0;34m&\u001b[0m \u001b[0;34m(\u001b[0m\u001b[0mdf_hipotesis3\u001b[0m\u001b[0;34m[\u001b[0m\u001b[0;34m'FamilySize'\u001b[0m\u001b[0;34m]\u001b[0m \u001b[0;34m>\u001b[0m \u001b[0;36m1\u001b[0m\u001b[0;34m)\u001b[0m \u001b[0;34m&\u001b[0m \u001b[0;34m(\u001b[0m\u001b[0mdf_hipotesis3\u001b[0m\u001b[0;34m[\u001b[0m\u001b[0;34m'Embarked_S'\u001b[0m\u001b[0;34m]\u001b[0m \u001b[0;34m==\u001b[0m \u001b[0;36m1\u001b[0m\u001b[0;34m)\u001b[0m\u001b[0;34m,\u001b[0m\u001b[0;34m\u001b[0m\u001b[0;34m\u001b[0m\u001b[0m\n\u001b[0m\u001b[1;32m      4\u001b[0m   \u001b[0;36m1\u001b[0m\u001b[0;34m,\u001b[0m\u001b[0;34m\u001b[0m\u001b[0;34m\u001b[0m\u001b[0m\n\u001b[1;32m      5\u001b[0m   \u001b[0;36m0\u001b[0m\u001b[0;34m\u001b[0m\u001b[0;34m\u001b[0m\u001b[0m\n",
            "\u001b[0;32m/usr/local/lib/python3.12/dist-packages/pandas/core/frame.py\u001b[0m in \u001b[0;36m__getitem__\u001b[0;34m(self, key)\u001b[0m\n\u001b[1;32m   4100\u001b[0m             \u001b[0;32mif\u001b[0m \u001b[0mself\u001b[0m\u001b[0;34m.\u001b[0m\u001b[0mcolumns\u001b[0m\u001b[0;34m.\u001b[0m\u001b[0mnlevels\u001b[0m \u001b[0;34m>\u001b[0m \u001b[0;36m1\u001b[0m\u001b[0;34m:\u001b[0m\u001b[0;34m\u001b[0m\u001b[0;34m\u001b[0m\u001b[0m\n\u001b[1;32m   4101\u001b[0m                 \u001b[0;32mreturn\u001b[0m \u001b[0mself\u001b[0m\u001b[0;34m.\u001b[0m\u001b[0m_getitem_multilevel\u001b[0m\u001b[0;34m(\u001b[0m\u001b[0mkey\u001b[0m\u001b[0;34m)\u001b[0m\u001b[0;34m\u001b[0m\u001b[0;34m\u001b[0m\u001b[0m\n\u001b[0;32m-> 4102\u001b[0;31m             \u001b[0mindexer\u001b[0m \u001b[0;34m=\u001b[0m \u001b[0mself\u001b[0m\u001b[0;34m.\u001b[0m\u001b[0mcolumns\u001b[0m\u001b[0;34m.\u001b[0m\u001b[0mget_loc\u001b[0m\u001b[0;34m(\u001b[0m\u001b[0mkey\u001b[0m\u001b[0;34m)\u001b[0m\u001b[0;34m\u001b[0m\u001b[0;34m\u001b[0m\u001b[0m\n\u001b[0m\u001b[1;32m   4103\u001b[0m             \u001b[0;32mif\u001b[0m \u001b[0mis_integer\u001b[0m\u001b[0;34m(\u001b[0m\u001b[0mindexer\u001b[0m\u001b[0;34m)\u001b[0m\u001b[0;34m:\u001b[0m\u001b[0;34m\u001b[0m\u001b[0;34m\u001b[0m\u001b[0m\n\u001b[1;32m   4104\u001b[0m                 \u001b[0mindexer\u001b[0m \u001b[0;34m=\u001b[0m \u001b[0;34m[\u001b[0m\u001b[0mindexer\u001b[0m\u001b[0;34m]\u001b[0m\u001b[0;34m\u001b[0m\u001b[0;34m\u001b[0m\u001b[0m\n",
            "\u001b[0;32m/usr/local/lib/python3.12/dist-packages/pandas/core/indexes/base.py\u001b[0m in \u001b[0;36mget_loc\u001b[0;34m(self, key)\u001b[0m\n\u001b[1;32m   3810\u001b[0m             ):\n\u001b[1;32m   3811\u001b[0m                 \u001b[0;32mraise\u001b[0m \u001b[0mInvalidIndexError\u001b[0m\u001b[0;34m(\u001b[0m\u001b[0mkey\u001b[0m\u001b[0;34m)\u001b[0m\u001b[0;34m\u001b[0m\u001b[0;34m\u001b[0m\u001b[0m\n\u001b[0;32m-> 3812\u001b[0;31m             \u001b[0;32mraise\u001b[0m \u001b[0mKeyError\u001b[0m\u001b[0;34m(\u001b[0m\u001b[0mkey\u001b[0m\u001b[0;34m)\u001b[0m \u001b[0;32mfrom\u001b[0m \u001b[0merr\u001b[0m\u001b[0;34m\u001b[0m\u001b[0;34m\u001b[0m\u001b[0m\n\u001b[0m\u001b[1;32m   3813\u001b[0m         \u001b[0;32mexcept\u001b[0m \u001b[0mTypeError\u001b[0m\u001b[0;34m:\u001b[0m\u001b[0;34m\u001b[0m\u001b[0;34m\u001b[0m\u001b[0m\n\u001b[1;32m   3814\u001b[0m             \u001b[0;31m# If we have a listlike key, _check_indexing_error will raise\u001b[0m\u001b[0;34m\u001b[0m\u001b[0;34m\u001b[0m\u001b[0m\n",
            "\u001b[0;31mKeyError\u001b[0m: 'Pclass_3'"
          ]
        }
      ],
      "source": [
        "# --- 2. CREACIÓN DE LA VARIABLE DE INTERACCIÓN (ANALISIS PRINCIPAL) ---\n",
        "df_hipotesis3['Hipotesis3_Interaction'] = np.where(\n",
        "    (df_hipotesis3['Pclass_3'] == 1) & (df_hipotesis3['FamilySize'] > 1) & (df_hipotesis3['Embarked_S'] == 1),\n",
        "  1,\n",
        "  0\n",
        ")"
      ]
    },
    {
      "cell_type": "code",
      "execution_count": null,
      "metadata": {
        "colab": {
          "base_uri": "https://localhost:8080/",
          "height": 356
        },
        "id": "sEtVJJjQt3Gq",
        "outputId": "88103e15-5f35-4568-84e6-48071c35a8f1"
      },
      "outputs": [
        {
          "ename": "KeyError",
          "evalue": "'Hipotesis3_Interaction'",
          "output_type": "error",
          "traceback": [
            "\u001b[0;31m---------------------------------------------------------------------------\u001b[0m",
            "\u001b[0;31mKeyError\u001b[0m                                  Traceback (most recent call last)",
            "\u001b[0;32m/tmp/ipython-input-3290003006.py\u001b[0m in \u001b[0;36m<cell line: 0>\u001b[0;34m()\u001b[0m\n\u001b[1;32m      1\u001b[0m \u001b[0;31m# --- 3. ANÁLISIS VISUAL DE LA INTERACCIÓN ---\u001b[0m\u001b[0;34m\u001b[0m\u001b[0;34m\u001b[0m\u001b[0m\n\u001b[0;32m----> 2\u001b[0;31m \u001b[0msurvival_rate_grupo\u001b[0m \u001b[0;34m=\u001b[0m \u001b[0mdf_hipotesis3\u001b[0m\u001b[0;34m.\u001b[0m\u001b[0mgroupby\u001b[0m\u001b[0;34m(\u001b[0m\u001b[0;34m'Hipotesis3_Interaction'\u001b[0m\u001b[0;34m)\u001b[0m\u001b[0;34m[\u001b[0m\u001b[0;34m'Survived'\u001b[0m\u001b[0;34m]\u001b[0m\u001b[0;34m.\u001b[0m\u001b[0mmean\u001b[0m\u001b[0;34m(\u001b[0m\u001b[0;34m)\u001b[0m\u001b[0;34m.\u001b[0m\u001b[0mreset_index\u001b[0m\u001b[0;34m(\u001b[0m\u001b[0;34m)\u001b[0m\u001b[0;34m\u001b[0m\u001b[0;34m\u001b[0m\u001b[0m\n\u001b[0m\u001b[1;32m      3\u001b[0m \u001b[0;34m\u001b[0m\u001b[0m\n\u001b[1;32m      4\u001b[0m \u001b[0mplt\u001b[0m\u001b[0;34m.\u001b[0m\u001b[0mfigure\u001b[0m\u001b[0;34m(\u001b[0m\u001b[0mfigsize\u001b[0m\u001b[0;34m=\u001b[0m\u001b[0;34m(\u001b[0m\u001b[0;36m8\u001b[0m\u001b[0;34m,\u001b[0m \u001b[0;36m6\u001b[0m\u001b[0;34m)\u001b[0m\u001b[0;34m)\u001b[0m\u001b[0;34m\u001b[0m\u001b[0;34m\u001b[0m\u001b[0m\n\u001b[1;32m      5\u001b[0m sns.barplot(\n",
            "\u001b[0;32m/usr/local/lib/python3.12/dist-packages/pandas/core/frame.py\u001b[0m in \u001b[0;36mgroupby\u001b[0;34m(self, by, axis, level, as_index, sort, group_keys, observed, dropna)\u001b[0m\n\u001b[1;32m   9181\u001b[0m             \u001b[0;32mraise\u001b[0m \u001b[0mTypeError\u001b[0m\u001b[0;34m(\u001b[0m\u001b[0;34m\"You have to supply one of 'by' and 'level'\"\u001b[0m\u001b[0;34m)\u001b[0m\u001b[0;34m\u001b[0m\u001b[0;34m\u001b[0m\u001b[0m\n\u001b[1;32m   9182\u001b[0m \u001b[0;34m\u001b[0m\u001b[0m\n\u001b[0;32m-> 9183\u001b[0;31m         return DataFrameGroupBy(\n\u001b[0m\u001b[1;32m   9184\u001b[0m             \u001b[0mobj\u001b[0m\u001b[0;34m=\u001b[0m\u001b[0mself\u001b[0m\u001b[0;34m,\u001b[0m\u001b[0;34m\u001b[0m\u001b[0;34m\u001b[0m\u001b[0m\n\u001b[1;32m   9185\u001b[0m             \u001b[0mkeys\u001b[0m\u001b[0;34m=\u001b[0m\u001b[0mby\u001b[0m\u001b[0;34m,\u001b[0m\u001b[0;34m\u001b[0m\u001b[0;34m\u001b[0m\u001b[0m\n",
            "\u001b[0;32m/usr/local/lib/python3.12/dist-packages/pandas/core/groupby/groupby.py\u001b[0m in \u001b[0;36m__init__\u001b[0;34m(self, obj, keys, axis, level, grouper, exclusions, selection, as_index, sort, group_keys, observed, dropna)\u001b[0m\n\u001b[1;32m   1327\u001b[0m \u001b[0;34m\u001b[0m\u001b[0m\n\u001b[1;32m   1328\u001b[0m         \u001b[0;32mif\u001b[0m \u001b[0mgrouper\u001b[0m \u001b[0;32mis\u001b[0m \u001b[0;32mNone\u001b[0m\u001b[0;34m:\u001b[0m\u001b[0;34m\u001b[0m\u001b[0;34m\u001b[0m\u001b[0m\n\u001b[0;32m-> 1329\u001b[0;31m             grouper, exclusions, obj = get_grouper(\n\u001b[0m\u001b[1;32m   1330\u001b[0m                 \u001b[0mobj\u001b[0m\u001b[0;34m,\u001b[0m\u001b[0;34m\u001b[0m\u001b[0;34m\u001b[0m\u001b[0m\n\u001b[1;32m   1331\u001b[0m                 \u001b[0mkeys\u001b[0m\u001b[0;34m,\u001b[0m\u001b[0;34m\u001b[0m\u001b[0;34m\u001b[0m\u001b[0m\n",
            "\u001b[0;32m/usr/local/lib/python3.12/dist-packages/pandas/core/groupby/grouper.py\u001b[0m in \u001b[0;36mget_grouper\u001b[0;34m(obj, key, axis, level, sort, observed, validate, dropna)\u001b[0m\n\u001b[1;32m   1041\u001b[0m                 \u001b[0min_axis\u001b[0m\u001b[0;34m,\u001b[0m \u001b[0mlevel\u001b[0m\u001b[0;34m,\u001b[0m \u001b[0mgpr\u001b[0m \u001b[0;34m=\u001b[0m \u001b[0;32mFalse\u001b[0m\u001b[0;34m,\u001b[0m \u001b[0mgpr\u001b[0m\u001b[0;34m,\u001b[0m \u001b[0;32mNone\u001b[0m\u001b[0;34m\u001b[0m\u001b[0;34m\u001b[0m\u001b[0m\n\u001b[1;32m   1042\u001b[0m             \u001b[0;32melse\u001b[0m\u001b[0;34m:\u001b[0m\u001b[0;34m\u001b[0m\u001b[0;34m\u001b[0m\u001b[0m\n\u001b[0;32m-> 1043\u001b[0;31m                 \u001b[0;32mraise\u001b[0m \u001b[0mKeyError\u001b[0m\u001b[0;34m(\u001b[0m\u001b[0mgpr\u001b[0m\u001b[0;34m)\u001b[0m\u001b[0;34m\u001b[0m\u001b[0;34m\u001b[0m\u001b[0m\n\u001b[0m\u001b[1;32m   1044\u001b[0m         \u001b[0;32melif\u001b[0m \u001b[0misinstance\u001b[0m\u001b[0;34m(\u001b[0m\u001b[0mgpr\u001b[0m\u001b[0;34m,\u001b[0m \u001b[0mGrouper\u001b[0m\u001b[0;34m)\u001b[0m \u001b[0;32mand\u001b[0m \u001b[0mgpr\u001b[0m\u001b[0;34m.\u001b[0m\u001b[0mkey\u001b[0m \u001b[0;32mis\u001b[0m \u001b[0;32mnot\u001b[0m \u001b[0;32mNone\u001b[0m\u001b[0;34m:\u001b[0m\u001b[0;34m\u001b[0m\u001b[0;34m\u001b[0m\u001b[0m\n\u001b[1;32m   1045\u001b[0m             \u001b[0;31m# Add key to exclusions\u001b[0m\u001b[0;34m\u001b[0m\u001b[0;34m\u001b[0m\u001b[0m\n",
            "\u001b[0;31mKeyError\u001b[0m: 'Hipotesis3_Interaction'"
          ]
        }
      ],
      "source": [
        "# --- 3. ANÁLISIS VISUAL DE LA INTERACCIÓN ---\n",
        "survival_rate_grupo = df_hipotesis3.groupby('Hipotesis3_Interaction')['Survived'].mean().reset_index()\n",
        "\n",
        "plt.figure(figsize=(8, 6))\n",
        "sns.barplot(\n",
        "    data=survival_rate_grupo,\n",
        "    x='Hipotesis3_Interaction',\n",
        "    y='Survived',\n",
        "    palette='viridis'\n",
        ")\n",
        "plt.title('TASA DE SUPERVIVENCIA: GRUPO DE HIPÓTESIS VS. RESTO')\n",
        "plt.xlabel('GRUPO DE HIPÓTESIS (1=SÍ, 0=NO)')\n",
        "plt.ylabel('TASA DE SUPERVIVENCIA')\n",
        "plt.xticks(ticks=[0, 1], labels=['OTROS PASAJEROS', 'GRUPO DE HIPÓTESIS'])\n",
        "plt.show()"
      ]
    },
    {
      "cell_type": "code",
      "execution_count": null,
      "metadata": {
        "colab": {
          "base_uri": "https://localhost:8080/",
          "height": 356
        },
        "id": "-bdhP8VOt73v",
        "outputId": "6375fb4f-9a49-445c-fe83-f05df7cf2524"
      },
      "outputs": [
        {
          "ename": "KeyError",
          "evalue": "\"['Hipotesis3_Interaction'] not in index\"",
          "output_type": "error",
          "traceback": [
            "\u001b[0;31m---------------------------------------------------------------------------\u001b[0m",
            "\u001b[0;31mKeyError\u001b[0m                                  Traceback (most recent call last)",
            "\u001b[0;32m/tmp/ipython-input-850351632.py\u001b[0m in \u001b[0;36m<cell line: 0>\u001b[0;34m()\u001b[0m\n\u001b[1;32m      1\u001b[0m \u001b[0;31m# --- 4. MODELO DE REGRESIÓN LOGÍSTICA PARA EL ANÁLISIS PRINCIPAL ---\u001b[0m\u001b[0;34m\u001b[0m\u001b[0;34m\u001b[0m\u001b[0m\n\u001b[1;32m      2\u001b[0m \u001b[0;31m# SELECCIONAR VARIABLES INDEPENDIENTES Y DEPENDIENTES\u001b[0m\u001b[0;34m\u001b[0m\u001b[0;34m\u001b[0m\u001b[0m\n\u001b[0;32m----> 3\u001b[0;31m \u001b[0mvars_i\u001b[0m \u001b[0;34m=\u001b[0m \u001b[0mdf_hipotesis3\u001b[0m\u001b[0;34m[\u001b[0m\u001b[0;34m[\u001b[0m\u001b[0;34m'Hipotesis3_Interaction'\u001b[0m\u001b[0;34m,\u001b[0m \u001b[0;34m'Age'\u001b[0m\u001b[0;34m,\u001b[0m \u001b[0;34m'Sex_male'\u001b[0m\u001b[0;34m]\u001b[0m\u001b[0;34m]\u001b[0m\u001b[0;34m\u001b[0m\u001b[0;34m\u001b[0m\u001b[0m\n\u001b[0m\u001b[1;32m      4\u001b[0m \u001b[0mvar_d\u001b[0m \u001b[0;34m=\u001b[0m \u001b[0mdf_hipotesis3\u001b[0m\u001b[0;34m[\u001b[0m\u001b[0;34m'Survived'\u001b[0m\u001b[0;34m]\u001b[0m\u001b[0;34m\u001b[0m\u001b[0;34m\u001b[0m\u001b[0m\n\u001b[1;32m      5\u001b[0m \u001b[0mvars_i\u001b[0m \u001b[0;34m=\u001b[0m \u001b[0msm\u001b[0m\u001b[0;34m.\u001b[0m\u001b[0madd_constant\u001b[0m\u001b[0;34m(\u001b[0m\u001b[0mvars_i\u001b[0m\u001b[0;34m)\u001b[0m\u001b[0;34m\u001b[0m\u001b[0;34m\u001b[0m\u001b[0m\n",
            "\u001b[0;32m/usr/local/lib/python3.12/dist-packages/pandas/core/frame.py\u001b[0m in \u001b[0;36m__getitem__\u001b[0;34m(self, key)\u001b[0m\n\u001b[1;32m   4106\u001b[0m             \u001b[0;32mif\u001b[0m \u001b[0mis_iterator\u001b[0m\u001b[0;34m(\u001b[0m\u001b[0mkey\u001b[0m\u001b[0;34m)\u001b[0m\u001b[0;34m:\u001b[0m\u001b[0;34m\u001b[0m\u001b[0;34m\u001b[0m\u001b[0m\n\u001b[1;32m   4107\u001b[0m                 \u001b[0mkey\u001b[0m \u001b[0;34m=\u001b[0m \u001b[0mlist\u001b[0m\u001b[0;34m(\u001b[0m\u001b[0mkey\u001b[0m\u001b[0;34m)\u001b[0m\u001b[0;34m\u001b[0m\u001b[0;34m\u001b[0m\u001b[0m\n\u001b[0;32m-> 4108\u001b[0;31m             \u001b[0mindexer\u001b[0m \u001b[0;34m=\u001b[0m \u001b[0mself\u001b[0m\u001b[0;34m.\u001b[0m\u001b[0mcolumns\u001b[0m\u001b[0;34m.\u001b[0m\u001b[0m_get_indexer_strict\u001b[0m\u001b[0;34m(\u001b[0m\u001b[0mkey\u001b[0m\u001b[0;34m,\u001b[0m \u001b[0;34m\"columns\"\u001b[0m\u001b[0;34m)\u001b[0m\u001b[0;34m[\u001b[0m\u001b[0;36m1\u001b[0m\u001b[0;34m]\u001b[0m\u001b[0;34m\u001b[0m\u001b[0;34m\u001b[0m\u001b[0m\n\u001b[0m\u001b[1;32m   4109\u001b[0m \u001b[0;34m\u001b[0m\u001b[0m\n\u001b[1;32m   4110\u001b[0m         \u001b[0;31m# take() does not accept boolean indexers\u001b[0m\u001b[0;34m\u001b[0m\u001b[0;34m\u001b[0m\u001b[0m\n",
            "\u001b[0;32m/usr/local/lib/python3.12/dist-packages/pandas/core/indexes/base.py\u001b[0m in \u001b[0;36m_get_indexer_strict\u001b[0;34m(self, key, axis_name)\u001b[0m\n\u001b[1;32m   6198\u001b[0m             \u001b[0mkeyarr\u001b[0m\u001b[0;34m,\u001b[0m \u001b[0mindexer\u001b[0m\u001b[0;34m,\u001b[0m \u001b[0mnew_indexer\u001b[0m \u001b[0;34m=\u001b[0m \u001b[0mself\u001b[0m\u001b[0;34m.\u001b[0m\u001b[0m_reindex_non_unique\u001b[0m\u001b[0;34m(\u001b[0m\u001b[0mkeyarr\u001b[0m\u001b[0;34m)\u001b[0m\u001b[0;34m\u001b[0m\u001b[0;34m\u001b[0m\u001b[0m\n\u001b[1;32m   6199\u001b[0m \u001b[0;34m\u001b[0m\u001b[0m\n\u001b[0;32m-> 6200\u001b[0;31m         \u001b[0mself\u001b[0m\u001b[0;34m.\u001b[0m\u001b[0m_raise_if_missing\u001b[0m\u001b[0;34m(\u001b[0m\u001b[0mkeyarr\u001b[0m\u001b[0;34m,\u001b[0m \u001b[0mindexer\u001b[0m\u001b[0;34m,\u001b[0m \u001b[0maxis_name\u001b[0m\u001b[0;34m)\u001b[0m\u001b[0;34m\u001b[0m\u001b[0;34m\u001b[0m\u001b[0m\n\u001b[0m\u001b[1;32m   6201\u001b[0m \u001b[0;34m\u001b[0m\u001b[0m\n\u001b[1;32m   6202\u001b[0m         \u001b[0mkeyarr\u001b[0m \u001b[0;34m=\u001b[0m \u001b[0mself\u001b[0m\u001b[0;34m.\u001b[0m\u001b[0mtake\u001b[0m\u001b[0;34m(\u001b[0m\u001b[0mindexer\u001b[0m\u001b[0;34m)\u001b[0m\u001b[0;34m\u001b[0m\u001b[0;34m\u001b[0m\u001b[0m\n",
            "\u001b[0;32m/usr/local/lib/python3.12/dist-packages/pandas/core/indexes/base.py\u001b[0m in \u001b[0;36m_raise_if_missing\u001b[0;34m(self, key, indexer, axis_name)\u001b[0m\n\u001b[1;32m   6250\u001b[0m \u001b[0;34m\u001b[0m\u001b[0m\n\u001b[1;32m   6251\u001b[0m             \u001b[0mnot_found\u001b[0m \u001b[0;34m=\u001b[0m \u001b[0mlist\u001b[0m\u001b[0;34m(\u001b[0m\u001b[0mensure_index\u001b[0m\u001b[0;34m(\u001b[0m\u001b[0mkey\u001b[0m\u001b[0;34m)\u001b[0m\u001b[0;34m[\u001b[0m\u001b[0mmissing_mask\u001b[0m\u001b[0;34m.\u001b[0m\u001b[0mnonzero\u001b[0m\u001b[0;34m(\u001b[0m\u001b[0;34m)\u001b[0m\u001b[0;34m[\u001b[0m\u001b[0;36m0\u001b[0m\u001b[0;34m]\u001b[0m\u001b[0;34m]\u001b[0m\u001b[0;34m.\u001b[0m\u001b[0munique\u001b[0m\u001b[0;34m(\u001b[0m\u001b[0;34m)\u001b[0m\u001b[0;34m)\u001b[0m\u001b[0;34m\u001b[0m\u001b[0;34m\u001b[0m\u001b[0m\n\u001b[0;32m-> 6252\u001b[0;31m             \u001b[0;32mraise\u001b[0m \u001b[0mKeyError\u001b[0m\u001b[0;34m(\u001b[0m\u001b[0;34mf\"{not_found} not in index\"\u001b[0m\u001b[0;34m)\u001b[0m\u001b[0;34m\u001b[0m\u001b[0;34m\u001b[0m\u001b[0m\n\u001b[0m\u001b[1;32m   6253\u001b[0m \u001b[0;34m\u001b[0m\u001b[0m\n\u001b[1;32m   6254\u001b[0m     \u001b[0;34m@\u001b[0m\u001b[0moverload\u001b[0m\u001b[0;34m\u001b[0m\u001b[0;34m\u001b[0m\u001b[0m\n",
            "\u001b[0;31mKeyError\u001b[0m: \"['Hipotesis3_Interaction'] not in index\""
          ]
        }
      ],
      "source": [
        "# --- 4. MODELO DE REGRESIÓN LOGÍSTICA PARA EL ANÁLISIS PRINCIPAL ---\n",
        "# SELECCIONAR VARIABLES INDEPENDIENTES Y DEPENDIENTES\n",
        "vars_i = df_hipotesis3[['Hipotesis3_Interaction', 'Age', 'Sex_male']]\n",
        "var_d = df_hipotesis3['Survived']\n",
        "vars_i = sm.add_constant(vars_i)\n",
        "\n",
        "try:\n",
        "    modelo = sm.Logit(var_d, vars_i).fit()\n",
        "    print(modelo.summary())\n",
        "\n",
        "    # --- 5. INTERPRETACIÓN DE RESULTADOS ---\n",
        "    odds_ratio = np.exp(modelo.params['Hipotesis3_Interaction'])\n",
        "    p_value = modelo.pvalues['Hipotesis3_Interaction']\n",
        "\n",
        "    print(f\"ODDS RATIO PARA LA INTERACCIÓN DE LA HIPÓTESIS 3: {odds_ratio:.4f}\")\n",
        "    print(f\"VALOR P PARA LA INTERACCIÓN DE LA HIPÓTESIS 3: {p_value:.4f}\")\n",
        "\n",
        "    if p_value < 0.05 and odds_ratio < 1.0:\n",
        "        print(\"\\nCONCLUSIÓN: LA HIPÓTESIS ES ESTADÍSTICAMENTE SIGNIFICATIVA Y ES APOYADA POR LOS DATOS.\")\n",
        "        print(\"LA POSIBILIDAD DE SUPERVIVENCIA DISMINUYE PARA ESTE GRUPO ESPECÍFICO.\")\n",
        "    else:\n",
        "        print(\"\\nCONCLUSIÓN: LA HIPÓTESIS NO ES ESTADÍSTICAMENTE SIGNIFICATIVA O NO SE CUMPLE.\")\n",
        "        print(\"EL VALOR P ES MAYOR A 0.05 O EL ODDS RATIO ES MAYOR A 1.\")\n",
        "\n",
        "except Exception as e:\n",
        "    print(f\"\\nERROR AL AJUSTAR EL MODELO: {e}\")"
      ]
    },
    {
      "cell_type": "markdown",
      "metadata": {
        "id": "6XCCQ9nX1Efh"
      },
      "source": [
        "# **INGENIERIA DE FEATURES**"
      ]
    },
    {
      "cell_type": "markdown",
      "metadata": {
        "id": "yybjMqg6VNCg"
      },
      "source": [
        "## Consideraciones de Sesgo y Ética"
      ]
    },
    {
      "cell_type": "markdown",
      "metadata": {
        "id": "DqoZDvNOVT-N"
      },
      "source": [
        "1. Sesgo de supervivencia"
      ]
    },
    {
      "cell_type": "code",
      "execution_count": null,
      "metadata": {
        "id": "K9XVE_5RVQzU"
      },
      "outputs": [],
      "source": [
        "# Calcular el porcentaje de valores faltantes por columna para supervivientes y no supervivientes\n",
        "missing_survived = df[df['Survived'] == 1].isnull().sum() / len(df[df['Survived'] == 1]) * 100\n",
        "missing_not_survived = df[df['Survived'] == 0].isnull().sum() / len(df[df['Survived'] == 0]) * 100\n",
        "\n",
        "# Crear un DataFrame para facilitar la visualización\n",
        "missing_data = pd.DataFrame({'Survived': missing_survived, 'Not Survived': missing_not_survived})\n",
        "\n",
        "# Eliminar filas donde no hay valores faltantes en ninguna de las categorías\n",
        "missing_data = missing_data[(missing_data['Survived'] > 0) | (missing_data['Not Survived'] > 0)]\n",
        "\n",
        "# Graficar\n",
        "plt.figure(figsize=(12, 6))\n",
        "missing_data.plot(kind='bar', figsize=(12, 6))\n",
        "plt.title('Porcentaje de Valores Faltantes por Columna (Supervivientes vs. No Supervivientes)')\n",
        "plt.xlabel('Columnas')\n",
        "plt.ylabel('Porcentaje de Valores Faltantes (%)')\n",
        "plt.xticks(rotation=45, ha='right')\n",
        "plt.tight_layout()\n",
        "plt.show()"
      ]
    },
    {
      "cell_type": "markdown",
      "metadata": {
        "id": "8I6Wg7ws2LVP"
      },
      "source": [
        "Estrategia de mitigación sobre el sesgo de supervivencia: Análisis de sensibilidad"
      ]
    },
    {
      "cell_type": "code",
      "execution_count": null,
      "metadata": {
        "id": "QqdVIfpd2QgF"
      },
      "outputs": [],
      "source": [
        "# Análisis de Sensibilidad para Mitigar el Sesgo de Supervivencia\n",
        "# Estrategia: Imputar valores faltantes bajo diferentes supuestos y observar cómo afecta a los resultados clave.\n",
        "\n",
        "# 1. Imputación Pessimista: Asumir que todos los pasajeros con cabina desconocida (NaN) NO sobrevivieron.\n",
        "df_pessimist = df.copy()\n",
        "df_pessimist['Cabin'].fillna('Unknown', inplace=True)\n",
        "# Creamos una columna binaria para indicar si la cabina era desconocida\n",
        "df_pessimist['CabinUnknown'] = (df_pessimist['Cabin'] == 'Unknown').astype(int)\n",
        "# Asignamos 0 a 'Survived' para los que tenían 'CabinUnknown' (solo si 'Survived' no es nulo originalmente)\n",
        "df_pessimist.loc[df_pessimist['CabinUnknown'] == 1, 'Survived_Pessimist'] = 0\n",
        "# Para el resto, usamos el valor original de 'Survived'\n",
        "df_pessimist.loc[df_pessimist['CabinUnknown'] == 0, 'Survived_Pessimist'] = df_pessimist['Survived']\n",
        "\n",
        "print(\"\\n--- Análisis de Sensibilidad (Imputación Pessimista) ---\")\n",
        "print(\"Tasa de supervivencia con imputación pesimista:\", df_pessimist['Survived_Pessimist'].mean())\n",
        "\n",
        "# 2. Imputación Optimista: Asumir que todos los pasajeros con cabina desconocida (NaN) SÍ sobrevivieron.\n",
        "df_optimist = df.copy()\n",
        "df_optimist['Cabin'].fillna('Unknown', inplace=True)\n",
        "df_optimist['CabinUnknown'] = (df_optimist['Cabin'] == 'Unknown').astype(int)\n",
        "# Asignamos 1 a 'Survived' para los que tenían 'CabinUnknown'\n",
        "df_optimist.loc[df_optimist['CabinUnknown'] == 1, 'Survived_Optimist'] = 1\n",
        "# Para el resto, usamos el valor original de 'Survived'\n",
        "df_optimist.loc[df_optimist['CabinUnknown'] == 0, 'Survived_Optimist'] = df_optimist['Survived']\n",
        "\n",
        "print(\"\\n--- Análisis de Sensibilidad (Imputación Optimista) ---\")\n",
        "print(\"Tasa de supervivencia con imputación optimista:\", df_optimist['Survived_Optimist'].mean())\n",
        "\n",
        "# 3. Comparación con la tasa de supervivencia original\n",
        "print(\"\\n--- Comparación ---\")\n",
        "print(\"Tasa de supervivencia original:\", df['Survived'].mean())\n",
        "\n",
        "# Interpretación: La diferencia en las tasas de supervivencia bajo los escenarios optimista y pesimista\n",
        "# indica la sensibilidad de los resultados a la forma en que se tratan los valores faltantes en la cabina.\n",
        "# Si la diferencia es grande, el sesgo por datos faltantes en la cabina es significativo."
      ]
    },
    {
      "cell_type": "code",
      "execution_count": null,
      "metadata": {
        "id": "BkKKQsvjXP8z"
      },
      "outputs": [],
      "source": [
        "# Calcular el porcentaje de valores faltantes por columna para cada clase social\n",
        "missing_pclass1 = df[df['Pclass'] == 1].isnull().sum() / len(df[df['Pclass'] == 1]) * 100\n",
        "missing_pclass2 = df[df['Pclass'] == 2].isnull().sum() / len(df[df['Pclass'] == 2]) * 100\n",
        "missing_pclass3 = df[df['Pclass'] == 3].isnull().sum() / len(df[df['Pclass'] == 3]) * 100\n",
        "\n",
        "\n",
        "# Crear un DataFrame para facilitar la visualización\n",
        "missing_data_pclass = pd.DataFrame({'Pclass 1': missing_pclass1, 'Pclass 2': missing_pclass2, 'Pclass 3': missing_pclass3})\n",
        "\n",
        "# Eliminar filas donde no hay valores faltantes en ninguna de las categorías\n",
        "missing_data_pclass = missing_data_pclass[(missing_data_pclass['Pclass 1'] > 0) | (missing_data_pclass['Pclass 2'] > 0) | (missing_data_pclass['Pclass 3'] > 0)]\n",
        "\n",
        "# Graficar\n",
        "plt.figure(figsize=(12, 6))\n",
        "missing_data_pclass.plot(kind='bar', figsize=(12, 6))\n",
        "plt.title('Porcentaje de Valores Faltantes por Columna (Por Clase Social)')\n",
        "plt.xlabel('Columnas')\n",
        "plt.ylabel('Porcentaje de Valores Faltantes (%)')\n",
        "plt.xticks(rotation=45, ha='right')\n",
        "plt.tight_layout()\n",
        "plt.show()"
      ]
    },
    {
      "cell_type": "code",
      "execution_count": null,
      "metadata": {
        "id": "GGDd8Px-X5LQ"
      },
      "outputs": [],
      "source": [
        "# Calcular el porcentaje de valores faltantes por columna por género\n",
        "missing_men = df[df['Sex'] == 'male'].isnull().sum() / len(df[df['Sex'] == 'male']) * 100\n",
        "missing_women = df[df['Sex'] == 'female'].isnull().sum() / len(df[df['Sex'] == 'female']) * 100\n",
        "\n",
        "\n",
        "# Crear un DataFrame para facilitar la visualización\n",
        "missing_data_gender = pd.DataFrame({'Men': missing_men, 'Women': missing_women})\n",
        "\n",
        "# Eliminar filas donde no hay valores faltantes en ninguna de las categorías\n",
        "missing_data_gender = missing_data_gender[(missing_data_gender['Men'] > 0) | (missing_data_gender['Women'] > 0)]\n",
        "\n",
        "# Graficar\n",
        "plt.figure(figsize=(12, 6))\n",
        "missing_data_gender.plot(kind='bar', figsize=(12, 6))\n",
        "plt.title('Porcentaje de Valores Faltantes por Columna (Por sexo)')\n",
        "plt.xlabel('Columnas')\n",
        "plt.ylabel('Porcentaje de Valores Faltantes (%)')\n",
        "plt.xticks(rotation=45, ha='right')\n",
        "plt.tight_layout()\n",
        "plt.show()"
      ]
    },
    {
      "cell_type": "code",
      "execution_count": null,
      "metadata": {
        "id": "vUWlBILaaLKf"
      },
      "outputs": [],
      "source": []
    },
    {
      "cell_type": "markdown",
      "metadata": {
        "id": "0815f612"
      },
      "source": [
        "## 2. Sesgo Histórico y Grupos Subrepresentados\n",
        "\n",
        "Es crucial considerar si existen sesgos históricos inherentes al evento del Titanic que puedan verse reflejados en el dataset, lo que podría llevar a la subrepresentación de ciertos grupos entre los supervivientes o incluso en los datos disponibles.\n",
        "\n",
        "**Posibles áreas de Sesgo Histórico:**\n",
        "\n",
        "*   **Clase Social:** Históricamente, los pasajeros de clases más bajas a menudo tuvieron menos acceso a botes salvavidas y peores condiciones de viaje. Esto podría significar una subrepresentación de las clases bajas entre los supervivientes.\n",
        "*   **Género:** Las políticas de \"mujeres y niños primero\" influyeron significativamente en las tasas de supervivencia, lo que resultó en una mayor proporción de mujeres y niños entre los supervivientes en comparación con los hombres adultos.\n",
        "*   **Edad:** Similar al género, los niños fueron priorizados, lo que podría llevar a una subrepresentación de adultos jóvenes y de mediana edad entre los supervivientes.\n",
        "*   **Origen/Puerto de Embarque:** Las condiciones y la organización del embarque en los diferentes puertos (Southampton, Cherbourg, Queenstown) podrían haber afectado a diferentes grupos de pasajeros de manera desigual.\n",
        "\n",
        "**Análisis en el Dataset:**\n",
        "\n",
        "Para investigar esto en nuestro dataset, podemos analizar la distribución de los pasajeros por clase social, género y edad, y comparar estas distribuciones con las tasas de supervivencia.\n",
        "\n",
        "**Próximos Pasos para Identificar Sesgo:**\n",
        "\n",
        "Podemos generar visualizaciones y estadísticas para explorar la composición del dataset en términos de estas características demográficas y observar cómo se distribuye la supervivencia dentro de estos grupos. Por ejemplo:\n",
        "\n",
        "*   Gráficos de barras que muestren el número de pasajeros por clase, género y grupo de edad.\n",
        "*   Comparación de las tasas de supervivencia por clase, género y grupo de edad.\n",
        "*   Análisis combinado de factores, como la supervivencia por género dentro de cada clase.\n",
        "\n",
        "Este análisis nos ayudará a identificar qué grupos podrían haber estado en desventaja histórica y si esa desventaja se refleja en su representación en el conjunto de datos de supervivientes."
      ]
    },
    {
      "cell_type": "markdown",
      "metadata": {
        "id": "o-qNV_2lhnlO"
      },
      "source": [
        "# Tratamiento de datos faltantes\n",
        "\n",
        "WIP local de Omar"
      ]
    },
    {
      "cell_type": "markdown",
      "metadata": {
        "id": "QPkf2-KiNaa8"
      },
      "source": [
        "# Tratamiento de datos faltantes\n",
        "\n",
        "Hay solamente 3 columnas con valores faltantes en el dataset:\n",
        "\n",
        "\n",
        "\n",
        "1.   Edad (`Age`)\n",
        "2.   Cabina (`Cabin`)\n",
        "3.   Puerto de embarcación (`Cabin`)\n",
        "\n"
      ]
    },
    {
      "cell_type": "code",
      "execution_count": null,
      "metadata": {
        "id": "Gz5-dZ-G029B"
      },
      "outputs": [],
      "source": [
        "df = pd.read_csv(\"Titanic-Dataset.csv\") # vuelvo a cargar los datos, porque fueron rellenados en analisis anteriores.\n",
        "df['FamilySize'] = df['SibSp'] + df['Parch'] + 1\n",
        "df['Fare_bin'] = pd.qcut(df['Fare'], 4, labels=[\"Q1\",\"Q2\",\"Q3\",\"Q4\"])\n",
        "\n",
        "# Crear indicadores de valores faltantes\n",
        "df['Age_missing'] = df['Age'].isnull().astype(int)\n",
        "df['Cabin_missing'] = df['Cabin'].isnull().astype(int)\n",
        "df['Embarked_missing'] = df['Embarked'].isnull().astype(int)\n",
        "\n",
        "df.columns[df.isna().any()]\n"
      ]
    },
    {
      "cell_type": "markdown",
      "metadata": {
        "id": "ZeEvhlwQ6T5-"
      },
      "source": [
        "## Missingness de puerto de embarcación (`Embarked`)"
      ]
    },
    {
      "cell_type": "markdown",
      "metadata": {
        "id": "5Gp3KqCo6k2Q"
      },
      "source": [
        "Embarked es la unica columna en la que menos de 10 valores falta. En total, solo faltan 2 valores, ambos en primera clase:"
      ]
    },
    {
      "cell_type": "code",
      "execution_count": null,
      "metadata": {
        "id": "1hMLeqfx6tDU"
      },
      "outputs": [],
      "source": [
        "df[df['Embarked'].isnull() == True]"
      ]
    },
    {
      "cell_type": "markdown",
      "metadata": {
        "id": "R9TsPU9E8OVt"
      },
      "source": [
        "Las dos mujeres sin la indicación del puerto en el que subieron comparten el mismo numero de ticket (en primera clase), ambas sobrevivieron, y estaban en la misma cabina.\n",
        "\n",
        "Es difícil decir si hay relación entre el valor faltante y las demás variables, pues más allá de estas coincidencias parece que no había un parentezco o relación entre ellas.\n",
        "*   No comparten apellidos\n",
        "*   No indican tener parientes abordo\n",
        "\n",
        "Son las unicas dos personas en la cabina B28, así que nuestra mejor teoría es que no se registró"
      ]
    },
    {
      "cell_type": "markdown",
      "metadata": {
        "id": "sNt4a1m0-JAq"
      },
      "source": [
        "Para esta variable concluimos que es **completamente aleatoria**, pero por el tamaño de muestra tan pequeño, es practicamente imposible hacer un análisis estadístico más profundo con significancia.\n",
        "\n",
        "#### Imputación\n",
        "\n",
        "Al ser una muestra tan pequeña, usar la moda entre los pasajeros de primera clase, Southampton, es razonable, y no debería de lastimar ningún análisis que asuma así el dato. Dicho eso, solamente 2 pasajeros no tienen este dato, puede que sea mejor simplemente eliminarlos de la muestra cuando sea de importancia el puerto."
      ]
    },
    {
      "cell_type": "markdown",
      "metadata": {
        "id": "rD350I2lvcf6"
      },
      "source": [
        "## Missingness de Cabin"
      ]
    },
    {
      "cell_type": "markdown",
      "metadata": {
        "id": "8NcEb-Uryesl"
      },
      "source": [
        "### Patrón de missingess\n",
        "\n",
        "La falta de los valores de Cabin es bastante notorio, e incluso al primer vistazo es aparente que no es **completamente** aleatorio, sino que está fuertemente correlacionado a la clase de boleto y su costo, pero sin ser basado en el valor mismo de la columna. **(MAR)**"
      ]
    },
    {
      "cell_type": "markdown",
      "metadata": {
        "id": "5DFe6SoYN5v9"
      },
      "source": [
        "### Evidencia Estadística"
      ]
    },
    {
      "cell_type": "markdown",
      "metadata": {
        "id": "PJ5FS6fLyuE9"
      },
      "source": [
        "Hay multiples correlaciones que se exploraron para llegar a esta conclusión, empezando por la evidente correlación a la clase de boleto, seguido de la supervivencia, la tarifa pagada, y el tamaño de la familia."
      ]
    },
    {
      "cell_type": "code",
      "execution_count": null,
      "metadata": {
        "id": "SjEy4YdHrwk3"
      },
      "outputs": [],
      "source": [
        "df['Cabin_missing'] = df['Cabin'].isnull().astype(int)\n",
        "\n",
        "pivot_cabin_class = df.groupby(\"Pclass\")[\"Cabin_missing\"].mean() * 100\n",
        "pivot_cabin_surv = df.groupby(\"Survived\")[\"Cabin_missing\"].mean() * 100\n",
        "pivot_cabin_fare = df.groupby(\"Fare_bin\")[\"Cabin_missing\"].mean() * 100\n",
        "pivot_cabin_family = df.groupby(\"FamilySize\")[\"Cabin_missing\"].mean() * 100\n",
        "\n",
        "fig, axes = plt.subplots(2, 2, figsize=(12, 10))\n",
        "\n",
        "# Por Clase\n",
        "pivot_cabin_class.plot(kind=\"bar\", color=\"steelblue\", ax=axes[0,0])\n",
        "axes[0,0].set_title(\"Porcentaje de Cabina Faltantes por Clase\")\n",
        "axes[0,0].set_ylabel(\"% Faltante\")\n",
        "axes[0,0].set_xlabel(\"Clase (Pclass)\")\n",
        "\n",
        "# Por Supervivencia\n",
        "pivot_cabin_surv.plot(kind=\"bar\", color=\"orange\", ax=axes[0,1])\n",
        "axes[0,1].set_title(\"Porcentaje de Cabina Faltantes por Supervivencia\")\n",
        "axes[0,1].set_ylabel(\"% Faltante\")\n",
        "axes[0,1].set_xlabel(\"Supervivencia (0=No, 1=Sí)\")\n",
        "\n",
        "# Por Cuartiles de Tarifa\n",
        "pivot_cabin_fare.plot(kind=\"bar\", color=\"green\", ax=axes[1,0])\n",
        "axes[1,0].set_title(\"Porcentaje de Cabina Faltantes por Cuartiles de Tarifa\")\n",
        "axes[1,0].set_ylabel(\"% Faltante\")\n",
        "axes[1,0].set_xlabel(\"Cuartil de Tarifa\")\n",
        "\n",
        "# Por Tamaño de Familia\n",
        "pivot_cabin_family.plot(kind=\"bar\", color=\"purple\", ax=axes[1,1])\n",
        "axes[1,1].set_title(\"Porcentaje de Cabina Faltantes por Tamaño de Familia\")\n",
        "axes[1,1].set_ylabel(\"% Faltante\")\n",
        "axes[1,1].set_xlabel(\"Tamaño de Familia\")\n",
        "\n",
        "plt.tight_layout()\n",
        "plt.show()"
      ]
    },
    {
      "cell_type": "markdown",
      "metadata": {
        "id": "vTej-W_swQ7H"
      },
      "source": [
        "Observando el porcentaje de cada clase que no tiene registrada la cabina, es claro que en general no era una prioridad mantener el registro de las cabinas de los pasajeros, pues incluso en primera clase (`Pclass == 1`), 18.5% de los pasajeros no tenian registrada la cabina en la que se hospedaban. Dicho esto, esa es la mayor correlación que se presenta en el dataset."
      ]
    },
    {
      "cell_type": "code",
      "execution_count": null,
      "metadata": {
        "id": "FM5fBO34wNr5"
      },
      "outputs": [],
      "source": [
        "pivot_cabin_class"
      ]
    },
    {
      "cell_type": "markdown",
      "metadata": {
        "id": "4JNt4a8eTSiT"
      },
      "source": [
        "La otra variable que parece tener una tendencia es la del tamaño de familia. En este caso, ninguna de las familias grandes a bordo del Titanic tenían registrada una cabina.\n",
        "Entre esas familias grandes estan algunas como:\n",
        "\n",
        "* Familia Sage (11 personas)\n",
        "* Familia Goodwin (8 personas)\n",
        "* Familia Andersson (7 personas)\n",
        "* Familia Asplund (7 personas)\n",
        "* Familia Rice (6 personas)\n",
        "* Familia Panula (6 personas)\n",
        "\n",
        "Todas estas familias viajaban en tercera clase, lo que nos regresa a nuestra más grande correlación, que puede que haya sido exacerbada por el tamaño de la familia, y la logística de acomodarlos a todos dentro del barco."
      ]
    },
    {
      "cell_type": "markdown",
      "metadata": {
        "id": "3qEP4NMoN_Og"
      },
      "source": [
        "### Casos completos vs. incompletos"
      ]
    },
    {
      "cell_type": "markdown",
      "metadata": {
        "id": "ntjgGDvUYykv"
      },
      "source": [
        "La clase de boleto hace la diferencia más marcada, y apunta a un elemento sistemático en la falta de registro de las cabinas. Pero es necesario hacer un anális estadístico que lo demuestre."
      ]
    },
    {
      "cell_type": "code",
      "execution_count": null,
      "metadata": {
        "id": "ccdGNUpLY_9f"
      },
      "outputs": [],
      "source": [
        "# tabla de contingencia\n",
        "contingency = pd.crosstab(df['Pclass'], df['Cabin_missing'])\n",
        "\n",
        "# Chi cuadrado\n",
        "chi2, p, dof, expected = stats.chi2_contingency(contingency)\n",
        "\n",
        "print(\"Chi-cuadrado para Cabin_missing vs Pclass\")\n",
        "print(\"Chi2 =\", chi2, \"p-value =\", p)"
      ]
    },
    {
      "cell_type": "markdown",
      "metadata": {
        "id": "Mzs4POfRZkAL"
      },
      "source": [
        "El valor de *p* es tan bajo que es indudable que la diferencia es significativa."
      ]
    },
    {
      "cell_type": "markdown",
      "metadata": {
        "id": "-5TJRyI5GRb9"
      },
      "source": [
        "Algunas de las variables parecen indicar correlación también, como la tarifa o la supervivencia, pero solo son un reflejo de la correlación por clase."
      ]
    },
    {
      "cell_type": "code",
      "execution_count": null,
      "metadata": {
        "id": "WOAYcX-bG7Ij"
      },
      "outputs": [],
      "source": [
        "survival_all = df['Survived'].value_counts(normalize=True) * 100\n",
        "survival_missing = df.loc[df['Cabin_missing']==1, 'Survived'].value_counts(normalize=True) * 100\n",
        "\n",
        "fare_all = df['Fare'].dropna()\n",
        "fare_missing = df.loc[df['Cabin_missing']==1, 'Fare'].dropna()\n",
        "\n",
        "fig, axes = plt.subplots(2, 2, figsize=(12, 10))\n",
        "\n",
        "# Gráfico 1: Supervivencia (todos los pasajeros)\n",
        "survival_all.plot(kind=\"bar\", color=\"steelblue\", ax=axes[0,0])\n",
        "axes[0,0].set_title(\"Distribución de Supervivencia (Todos los Pasajeros)\")\n",
        "axes[0,0].set_ylabel(\"% de Pasajeros\")\n",
        "axes[0,0].set_xlabel(\"Supervivencia (0=No, 1=Sí)\")\n",
        "axes[0,0].set_ylim(0, 100)\n",
        "\n",
        "# Gráfico 2: Supervivencia (solo Cabin faltante)\n",
        "survival_missing.plot(kind=\"bar\", color=\"orange\", ax=axes[0,1])\n",
        "axes[0,1].set_title(\"Distribución de Supervivencia (Solo Cabin Faltante)\")\n",
        "axes[0,1].set_ylabel(\"% de Pasajeros\")\n",
        "axes[0,1].set_xlabel(\"Supervivencia (0=No, 1=Sí)\")\n",
        "axes[0,1].set_ylim(0, 100)\n",
        "\n",
        "# Gráfico 3: Histograma de Tarifa (todos los pasajeros)\n",
        "axes[1,0].hist(fare_all, bins=10, color=\"green\", alpha=0.7)\n",
        "axes[1,0].set_title(\"Distribución de Tarifa (Todos los Pasajeros)\")\n",
        "axes[1,0].set_xlabel(\"Tarifa\")\n",
        "axes[1,0].set_ylabel(\"Frecuencia\")\n",
        "axes[1,0].set_ylim(0, 700)\n",
        "\n",
        "# Gráfico 4: Histograma de Tarifa (solo Cabin faltante)\n",
        "axes[1,1].hist(fare_missing, bins=10, color=\"purple\", alpha=0.7)\n",
        "axes[1,1].set_title(\"Distribución de Tarifa (Solo Cabin Faltante)\")\n",
        "axes[1,1].set_xlabel(\"Tarifa\")\n",
        "axes[1,1].set_ylabel(\"Frecuencia\")\n",
        "axes[1,1].set_ylim(0, 700)\n",
        "\n",
        "plt.tight_layout()\n",
        "plt.show()"
      ]
    },
    {
      "cell_type": "code",
      "execution_count": null,
      "metadata": {
        "id": "7MG3_3F8exjl"
      },
      "outputs": [],
      "source": [
        "# tabla de contingencia\n",
        "contingency = pd.crosstab(df['Pclass'], df['Cabin_missing'])\n",
        "\n",
        "# Chi cuadrado\n",
        "chi2, p, dof, expected = stats.chi2_contingency(contingency)\n",
        "\n",
        "print(\"Chi-cuadrado para Cabin_missing vs Pclass\")\n",
        "print(\"Chi2 =\", chi2, \"p-value =\", p)"
      ]
    },
    {
      "cell_type": "markdown",
      "metadata": {
        "id": "WGsQg4VsOKN2"
      },
      "source": [
        "### Correlación"
      ]
    },
    {
      "cell_type": "markdown",
      "metadata": {
        "id": "sRXS4Lc9MgY1"
      },
      "source": [
        "La matriz de correlación deja esto aún más claro. La mayor correlación con la falta del registro de la cabina se encuentra con la clase del boleto, y ninguna otra correlación moderadamente fuerte se encuentra, más allá de la de la tarifa. Sin embargo, en la exploración inicial del dataset ya se sabía que la tarifa y la clase del boleto van mano en mano."
      ]
    },
    {
      "cell_type": "code",
      "execution_count": null,
      "metadata": {
        "id": "FMXrq3kTKgDL"
      },
      "outputs": [],
      "source": [
        "# variables para la matriz de correlación\n",
        "corr_vars = [\n",
        "    'Cabin_missing', 'Pclass', 'Fare', 'Survived', 'FamilySize',\n",
        "    'Age_missing', 'Embarked_missing'\n",
        "]\n",
        "\n",
        "# Calcular matriz de correlación\n",
        "metodo = 'Pearson' # Parece que Pearson es apropiado para este caso, pero los demas mostraban resultados similares\n",
        "corr_matrix = df[corr_vars].corr(method=metodo.lower())\n",
        "\n",
        "# Graficar heatmap\n",
        "plt.figure(figsize=(10, 6))\n",
        "sns.heatmap(corr_matrix, annot=True, cmap=\"coolwarm\", center=0, fmt=\".2f\")\n",
        "plt.title(f\"Matriz de Correlación ({metodo}) entre variables y valores Faltantes\")\n",
        "plt.show()"
      ]
    },
    {
      "cell_type": "markdown",
      "metadata": {
        "id": "Wt6bD1VBOYzF"
      },
      "source": [
        "## Missingess de Age"
      ]
    },
    {
      "cell_type": "markdown",
      "metadata": {
        "id": "Po4tw96KZ4sL"
      },
      "source": [
        "Comparado a la cabina, el registro de la edad es mucho mas extenso, aunque sigue presentando una tendencia a que aquellos en tercera clase eran menos propensos a registrarse."
      ]
    },
    {
      "cell_type": "code",
      "execution_count": null,
      "metadata": {
        "id": "4yjNJgn6aX1o"
      },
      "outputs": [],
      "source": [
        "pivot_age = pd.pivot_table(df, values=\"Age_missing\", index=\"Pclass\", aggfunc=[\"mean\", \"sum\"])\n",
        "pivot_age"
      ]
    },
    {
      "cell_type": "code",
      "execution_count": null,
      "metadata": {
        "id": "b2Tv0frvSdGU"
      },
      "outputs": [],
      "source": [
        "pivot_age_class = df.groupby(\"Pclass\")[\"Age_missing\"].mean() * 100\n",
        "pivot_age_surv = df.groupby(\"Survived\")[\"Age_missing\"].mean() * 100\n",
        "pivot_age_fare = df.groupby(\"Fare_bin\")[\"Age_missing\"].mean() * 100\n",
        "pivot_age_family = df.groupby(\"FamilySize\")[\"Age_missing\"].mean() * 100\n",
        "\n",
        "fig, axes = plt.subplots(2, 2, figsize=(12, 10))\n",
        "\n",
        "# Por Clase\n",
        "pivot_age_class.plot(kind=\"bar\", color=\"steelblue\", ax=axes[0,0])\n",
        "axes[0,0].set_title(\"Porcentaje de Edad faltante por Clase\")\n",
        "axes[0,0].set_ylabel(\"% Faltante\")\n",
        "axes[0,0].set_xlabel(\"Clase (Pclass)\")\n",
        "\n",
        "# Por Supervivencia\n",
        "pivot_age_surv.plot(kind=\"bar\", color=\"orange\", ax=axes[0,1])\n",
        "axes[0,1].set_title(\"Porcentaje de Edad faltante por Supervivencia\")\n",
        "axes[0,1].set_ylabel(\"% Faltante\")\n",
        "axes[0,1].set_xlabel(\"Supervivencia (0=No, 1=Sí)\")\n",
        "\n",
        "# Por Cuartiles de Tarifa\n",
        "pivot_age_fare.plot(kind=\"bar\", color=\"green\", ax=axes[1,0])\n",
        "axes[1,0].set_title(\"Porcentaje de Edad faltante por Cuartiles de Tarifa\")\n",
        "axes[1,0].set_ylabel(\"% Faltante\")\n",
        "axes[1,0].set_xlabel(\"Cuartil de Tarifa\")\n",
        "\n",
        "# Por Tamaño de Familia\n",
        "pivot_age_family.plot(kind=\"bar\", color=\"purple\", ax=axes[1,1])\n",
        "axes[1,1].set_title(\"Porcentaje de Edad faltante por Tamaño de Familia\")\n",
        "axes[1,1].set_ylabel(\"% Faltante\")\n",
        "axes[1,1].set_xlabel(\"Tamaño de Familia\")\n",
        "\n",
        "plt.tight_layout()\n",
        "plt.show()"
      ]
    },
    {
      "cell_type": "markdown",
      "metadata": {
        "id": "zwk_PWFyWcXT"
      },
      "source": [
        "Una vez más el tamaño de familia se puede considerar un outlier, siendo que la familia Sage tampoco registró la edad de ninguno de los miembros de la familia. Dicho eso, es sorprendente que las otras grandes familias como la Andersson o Asplund registraron la edad de todos los miembros, desde los bebés de 1 o 2 años hasta las cabezas de la familia."
      ]
    },
    {
      "cell_type": "markdown",
      "metadata": {
        "id": "_whNvEssknmJ"
      },
      "source": [
        "Aunque la relación no es tan clara como en el caso de las cabinas, se sigue pudiendo demostrar que el registro de la edad está relacionado a clase, como lo demuestra esta prueba de Chi cuadrado:"
      ]
    },
    {
      "cell_type": "code",
      "execution_count": null,
      "metadata": {
        "id": "ds_ndBpfjuvZ"
      },
      "outputs": [],
      "source": [
        "contingency = pd.crosstab(df['Pclass'], df['Age_missing'])\n",
        "\n",
        "chi2, p, dof, expected = stats.chi2_contingency(contingency)\n",
        "\n",
        "print(\"Chi-cuadrado para Age_missing vs Pclass\")\n",
        "print(\"Chi2 =\", chi2, \"p-value =\", p)\n",
        "\n",
        "observado = contingency.values\n",
        "esperado = expected.astype(int)\n",
        "contingency"
      ]
    },
    {
      "cell_type": "code",
      "execution_count": null,
      "metadata": {
        "id": "4ufgh_z7nM5V"
      },
      "outputs": [],
      "source": [
        "pd.DataFrame(esperado, index=contingency.index, columns=contingency.columns)"
      ]
    },
    {
      "cell_type": "markdown",
      "metadata": {
        "id": "HDXIUvI6k-Oq"
      },
      "source": [
        "Esto nos lleva a la conclusión de que no es independiente la falta de valores de edad, aún si no es una relación lineal. En específico, la primera y *sobre todo* la segunda clase tienen menos valores faltantes de lo esperado, mientras que la tercera clase tiene bastantes valores faltantes más de lo esperado."
      ]
    },
    {
      "cell_type": "markdown",
      "metadata": {
        "id": "BCSYMt1upGLE"
      },
      "source": [
        "### Matriz de correlación"
      ]
    },
    {
      "cell_type": "code",
      "execution_count": null,
      "metadata": {
        "id": "baJDQ3qTdb0s"
      },
      "outputs": [],
      "source": [
        "corr_vars = [\n",
        "    'Age_missing', 'Pclass', 'SibSp', 'Cabin_missing', 'Embarked_missing',\n",
        "    'Survived', 'Fare', 'FamilySize', 'Parch'\n",
        "]\n",
        "\n",
        "metodo = 'Spearman' # Ningun metodo muestra una fuerte correlación en la matriz\n",
        "corr_matrix = df[corr_vars].corr(method=metodo.lower())\n",
        "\n",
        "# Graficar heatmap\n",
        "plt.figure(figsize=(10, 6))\n",
        "sns.heatmap(corr_matrix, annot=True, cmap=\"coolwarm\", center=0, fmt=\".2f\")\n",
        "plt.title(f\"Matriz de Correlación ({metodo}) entre variables y valores Faltantes\")\n",
        "plt.show()"
      ]
    },
    {
      "cell_type": "markdown",
      "metadata": {
        "id": "ukb7ErV6nXbc"
      },
      "source": [
        "# Estrategias de Imputación"
      ]
    },
    {
      "cell_type": "markdown",
      "metadata": {
        "id": "6fvq66YIoIBi"
      },
      "source": [
        "Para la edad y el puerto de embarcación exploramos 3 métodos de imputación de los datos faltantes. Esto no es posible para la cabina, pues no es una variable ni discreta ni categórica. De la misma manera que no podríamos rellenar nombres que faltaran, no se puede rellenar por medio de estadística el nombre dado a las cabinas, que claramente tienen un sistema para su nombre que desconocemos."
      ]
    },
    {
      "cell_type": "code",
      "execution_count": null,
      "metadata": {
        "id": "-IDaWadsohod"
      },
      "outputs": [],
      "source": [
        "df[\"Cabin\"].dropna().head()"
      ]
    },
    {
      "cell_type": "markdown",
      "metadata": {
        "id": "_WiuzurSnj3u"
      },
      "source": [
        "### Método simple"
      ]
    },
    {
      "cell_type": "markdown",
      "metadata": {
        "id": "LP22vWWYnupY"
      },
      "source": [
        "Para el puerto de embarcación, la forma más simple de rellenar los dos datos faltantes es la moda del dataset completo, **Southampton**."
      ]
    },
    {
      "cell_type": "code",
      "execution_count": null,
      "metadata": {
        "id": "YHYv-XRlbKTe"
      },
      "outputs": [],
      "source": [
        "df[\"Embarked\"].mode()"
      ]
    },
    {
      "cell_type": "markdown",
      "metadata": {
        "id": "1Yp_MK75oCRe"
      },
      "source": [
        "Para la edad, podemos tomar la mediana, para no dejar que la cola grande a la derecha deforme la representación real de los datos. Esta cola la vimos en la exploración inicial de los datos."
      ]
    },
    {
      "cell_type": "code",
      "execution_count": null,
      "metadata": {
        "id": "T9rjFYNjpKjE"
      },
      "outputs": [],
      "source": [
        "print(\"Promedio:\", df['Age'].dropna().mean())\n",
        "print(\"Mediana:\", df['Age'].dropna().median())"
      ]
    },
    {
      "cell_type": "markdown",
      "metadata": {
        "id": "fuZxqfqqpcUV"
      },
      "source": [
        "Realmente son muy similares, pero es más apropiado para la forma de los datos."
      ]
    },
    {
      "cell_type": "markdown",
      "metadata": {
        "id": "lP3bSiWVp01I"
      },
      "source": [
        "### Método basado en grupos"
      ]
    },
    {
      "cell_type": "markdown",
      "metadata": {
        "id": "VfFmJXIHp3WP"
      },
      "source": [
        "La imputación por grupos nos permite rellenar con valores seleccionados más inteligentemente, basándonos en el demográfico específico que queremos rellenar. Lamentablemente, no es tan sencillo encontrar diferencias significantes segmentando en grupos"
      ]
    },
    {
      "cell_type": "markdown",
      "metadata": {
        "id": "KWH8_jvBqRHW"
      },
      "source": [
        "Para el puerto en el que se embarca, podemos tomar la moda de cada clase, pero somos conscientes de que al solo faltar dos datos, en la misma clase, esto no hace mucha diferencia."
      ]
    },
    {
      "cell_type": "code",
      "execution_count": null,
      "metadata": {
        "id": "Zv4QdUsDqsyH"
      },
      "outputs": [],
      "source": [
        "group = df.groupby(\"Pclass\")[\"Embarked\"]\n",
        "group.value_counts()"
      ]
    }
  ],
  "metadata": {
    "colab": {
      "provenance": [],
      "toc_visible": true
    },
    "kernelspec": {
      "display_name": ".venv",
      "language": "python",
      "name": "python3"
    },
    "language_info": {
      "codemirror_mode": {
        "name": "ipython",
        "version": 3
      },
      "file_extension": ".py",
      "mimetype": "text/x-python",
      "name": "python",
      "nbconvert_exporter": "python",
      "pygments_lexer": "ipython3",
      "version": "3.13.3"
    }
  },
  "nbformat": 4,
  "nbformat_minor": 0
}
